{
 "cells": [
  {
   "cell_type": "code",
   "execution_count": 1,
   "metadata": {
    "_cell_guid": "b1076dfc-b9ad-4769-8c92-a6c4dae69d19",
    "_uuid": "8f2839f25d086af736a60e9eeb907d3b93b6e0e5",
    "execution": {
     "iopub.execute_input": "2020-11-29T16:15:58.189250Z",
     "iopub.status.busy": "2020-11-29T16:15:58.188428Z",
     "iopub.status.idle": "2020-11-29T16:16:29.511522Z",
     "shell.execute_reply": "2020-11-29T16:16:29.510835Z"
    },
    "papermill": {
     "duration": 31.354704,
     "end_time": "2020-11-29T16:16:29.511682",
     "exception": false,
     "start_time": "2020-11-29T16:15:58.156978",
     "status": "completed"
    },
    "tags": []
   },
   "outputs": [],
   "source": [
    "!pip install ../input/python-datatable/datatable-0.11.0-cp37-cp37m-manylinux2010_x86_64.whl > /dev/null 2>&1"
   ]
  },
  {
   "cell_type": "code",
   "execution_count": 2,
   "metadata": {
    "_cell_guid": "79c7e3d0-c299-4dcb-8224-4455121ee9b0",
    "_uuid": "d629ff2d2480ee46fbb7e2d37f6b5fab8052498a",
    "execution": {
     "iopub.execute_input": "2020-11-29T16:16:29.561873Z",
     "iopub.status.busy": "2020-11-29T16:16:29.561104Z",
     "iopub.status.idle": "2020-11-29T16:16:30.867690Z",
     "shell.execute_reply": "2020-11-29T16:16:30.866852Z"
    },
    "papermill": {
     "duration": 1.334858,
     "end_time": "2020-11-29T16:16:30.867828",
     "exception": false,
     "start_time": "2020-11-29T16:16:29.532970",
     "status": "completed"
    },
    "tags": []
   },
   "outputs": [
    {
     "data": {
      "text/html": [
       "<style type='text/css'>\n",
       ".datatable table.frame { margin-bottom: 0; }\n",
       ".datatable table.frame thead { border-bottom: none; }\n",
       ".datatable table.frame tr.coltypes td {  color: #FFFFFF;  line-height: 6px;  padding: 0 0.5em;}\n",
       ".datatable .bool    { background: #DDDD99; }\n",
       ".datatable .object  { background: #565656; }\n",
       ".datatable .int     { background: #5D9E5D; }\n",
       ".datatable .float   { background: #4040CC; }\n",
       ".datatable .str     { background: #CC4040; }\n",
       ".datatable .row_index {  background: var(--jp-border-color3);  border-right: 1px solid var(--jp-border-color0);  color: var(--jp-ui-font-color3);  font-size: 9px;}\n",
       ".datatable .frame tr.coltypes .row_index {  background: var(--jp-border-color0);}\n",
       ".datatable th:nth-child(2) { padding-left: 12px; }\n",
       ".datatable .hellipsis {  color: var(--jp-cell-editor-border-color);}\n",
       ".datatable .vellipsis {  background: var(--jp-layout-color0);  color: var(--jp-cell-editor-border-color);}\n",
       ".datatable .na {  color: var(--jp-cell-editor-border-color);  font-size: 80%;}\n",
       ".datatable .footer { font-size: 9px; }\n",
       ".datatable .frame_dimensions {  background: var(--jp-border-color3);  border-top: 1px solid var(--jp-border-color0);  color: var(--jp-ui-font-color3);  display: inline-block;  opacity: 0.6;  padding: 1px 10px 1px 5px;}\n",
       "</style>\n"
      ],
      "text/plain": [
       "<IPython.core.display.HTML object>"
      ]
     },
     "metadata": {},
     "output_type": "display_data"
    }
   ],
   "source": [
    "import numpy as np\n",
    "import pandas as pd\n",
    "from collections import defaultdict\n",
    "import datatable as dt\n",
    "import lightgbm as lgb\n",
    "from matplotlib import pyplot as plt\n",
    "import riiideducation\n",
    "\n",
    "_ = np.seterr(divide='ignore', invalid='ignore')"
   ]
  },
  {
   "cell_type": "markdown",
   "metadata": {
    "papermill": {
     "duration": 0.021439,
     "end_time": "2020-11-29T16:16:30.911653",
     "exception": false,
     "start_time": "2020-11-29T16:16:30.890214",
     "status": "completed"
    },
    "tags": []
   },
   "source": [
    "# Preprocess"
   ]
  },
  {
   "cell_type": "code",
   "execution_count": 3,
   "metadata": {
    "execution": {
     "iopub.execute_input": "2020-11-29T16:16:30.962544Z",
     "iopub.status.busy": "2020-11-29T16:16:30.961573Z",
     "iopub.status.idle": "2020-11-29T16:16:30.965117Z",
     "shell.execute_reply": "2020-11-29T16:16:30.964472Z"
    },
    "papermill": {
     "duration": 0.031311,
     "end_time": "2020-11-29T16:16:30.965243",
     "exception": false,
     "start_time": "2020-11-29T16:16:30.933932",
     "status": "completed"
    },
    "tags": []
   },
   "outputs": [],
   "source": [
    "data_types_dict = {\n",
    "    'user_id': 'int32', \n",
    "    'content_id': 'int16', \n",
    "    'answered_correctly': 'int8', \n",
    "    'prior_question_elapsed_time': 'float32', \n",
    "    'prior_question_had_explanation': 'bool'\n",
    "}\n",
    "target = 'answered_correctly'"
   ]
  },
  {
   "cell_type": "code",
   "execution_count": 4,
   "metadata": {
    "execution": {
     "iopub.execute_input": "2020-11-29T16:16:31.017687Z",
     "iopub.status.busy": "2020-11-29T16:16:31.016867Z",
     "iopub.status.idle": "2020-11-29T16:17:51.267222Z",
     "shell.execute_reply": "2020-11-29T16:17:51.266476Z"
    },
    "papermill": {
     "duration": 80.280243,
     "end_time": "2020-11-29T16:17:51.267371",
     "exception": false,
     "start_time": "2020-11-29T16:16:30.987128",
     "status": "completed"
    },
    "tags": []
   },
   "outputs": [],
   "source": [
    "train_df = dt.fread('../input/riiid-test-answer-prediction/train.csv', columns=set(data_types_dict.keys())).to_pandas()\n",
    "train_df = train_df[train_df[target] != -1].reset_index(drop=True)\n",
    "train_df['prior_question_had_explanation'].fillna(False, inplace=True)\n",
    "train_df = train_df.astype(data_types_dict)"
   ]
  },
  {
   "cell_type": "code",
   "execution_count": 5,
   "metadata": {
    "execution": {
     "iopub.execute_input": "2020-11-29T16:17:51.322309Z",
     "iopub.status.busy": "2020-11-29T16:17:51.321350Z",
     "iopub.status.idle": "2020-11-29T16:18:09.943453Z",
     "shell.execute_reply": "2020-11-29T16:18:09.942746Z"
    },
    "papermill": {
     "duration": 18.653806,
     "end_time": "2020-11-29T16:18:09.943588",
     "exception": false,
     "start_time": "2020-11-29T16:17:51.289782",
     "status": "completed"
    },
    "tags": []
   },
   "outputs": [],
   "source": [
    "# Calcul du taux de réussite de l'utilisateur en fonction de son avancée\n",
    "train_df['lag'] = train_df.groupby('user_id')[target].shift()\n",
    "cum = train_df.groupby('user_id')['lag'].agg(['cumsum', 'cumcount'])\n",
    "train_df['user_correctness'] = cum['cumsum'] / cum['cumcount']\n",
    "train_df.drop(columns=['lag'], inplace=True)"
   ]
  },
  {
   "cell_type": "code",
   "execution_count": 6,
   "metadata": {
    "execution": {
     "iopub.execute_input": "2020-11-29T16:18:09.996982Z",
     "iopub.status.busy": "2020-11-29T16:18:09.996147Z",
     "iopub.status.idle": "2020-11-29T16:18:20.086042Z",
     "shell.execute_reply": "2020-11-29T16:18:20.085292Z"
    },
    "papermill": {
     "duration": 10.119383,
     "end_time": "2020-11-29T16:18:20.086176",
     "exception": false,
     "start_time": "2020-11-29T16:18:09.966793",
     "status": "completed"
    },
    "tags": []
   },
   "outputs": [],
   "source": [
    "# Je compte le nombre de bonnes réponses par utilisateurs et \n",
    "# Je compte le nombre de réponses par utilsateurs (juste ou fausse)\n",
    "user_agg = train_df.groupby('user_id')[target].agg(['sum', 'count'])\n",
    "\n",
    "# Je compte le nombre de bonnes réponses par contenu et\n",
    "# Je compte le nombres de réponses par contenu (juste ou fausse)\n",
    "content_agg = train_df.groupby('content_id')[target].agg(['sum', 'count'])"
   ]
  },
  {
   "cell_type": "markdown",
   "metadata": {
    "papermill": {
     "duration": 0.023745,
     "end_time": "2020-11-29T16:18:20.134283",
     "exception": false,
     "start_time": "2020-11-29T16:18:20.110538",
     "status": "completed"
    },
    "tags": []
   },
   "source": [
    "Stratégie de validation\n",
    "\n",
    "Initialement, il est conservé les 24 dernières interactions par utilisateurs, \n",
    "Les 6 dernières sont affectés aux données de validation, soit 25%.\n",
    "Il convient de s'assurer que chacun des utilisateurs aient au moins 24 interactions à son actif pour respecter les 25% dans un premier temps.\n",
    "\n",
    "Dans un second temps, il conviendra de tester d'autres proportions, comme 48 / 12."
   ]
  },
  {
   "cell_type": "markdown",
   "metadata": {
    "papermill": {
     "duration": 0.024391,
     "end_time": "2020-11-29T16:18:20.185274",
     "exception": false,
     "start_time": "2020-11-29T16:18:20.160883",
     "status": "completed"
    },
    "tags": []
   },
   "source": [
    "24 correspond à 80% des users avec plus de 24 interactions. Cependant, les users avec moins de 24 interactions sont conservés"
   ]
  },
  {
   "cell_type": "code",
   "execution_count": 7,
   "metadata": {
    "execution": {
     "iopub.execute_input": "2020-11-29T16:18:20.248150Z",
     "iopub.status.busy": "2020-11-29T16:18:20.246150Z",
     "iopub.status.idle": "2020-11-29T16:18:22.989757Z",
     "shell.execute_reply": "2020-11-29T16:18:22.988845Z"
    },
    "papermill": {
     "duration": 2.778073,
     "end_time": "2020-11-29T16:18:22.989925",
     "exception": false,
     "start_time": "2020-11-29T16:18:20.211852",
     "status": "completed"
    },
    "tags": []
   },
   "outputs": [
    {
     "data": {
      "text/html": [
       "<div>\n",
       "<style scoped>\n",
       "    .dataframe tbody tr th:only-of-type {\n",
       "        vertical-align: middle;\n",
       "    }\n",
       "\n",
       "    .dataframe tbody tr th {\n",
       "        vertical-align: top;\n",
       "    }\n",
       "\n",
       "    .dataframe thead th {\n",
       "        text-align: right;\n",
       "    }\n",
       "</style>\n",
       "<table border=\"1\" class=\"dataframe\">\n",
       "  <thead>\n",
       "    <tr style=\"text-align: right;\">\n",
       "      <th></th>\n",
       "      <th>user_id</th>\n",
       "      <th>nb_interactions</th>\n",
       "    </tr>\n",
       "  </thead>\n",
       "  <tbody>\n",
       "    <tr>\n",
       "      <th>0</th>\n",
       "      <td>801103753</td>\n",
       "      <td>17609</td>\n",
       "    </tr>\n",
       "    <tr>\n",
       "      <th>1</th>\n",
       "      <td>1478712595</td>\n",
       "      <td>16842</td>\n",
       "    </tr>\n",
       "    <tr>\n",
       "      <th>2</th>\n",
       "      <td>455973631</td>\n",
       "      <td>16640</td>\n",
       "    </tr>\n",
       "    <tr>\n",
       "      <th>3</th>\n",
       "      <td>1842816145</td>\n",
       "      <td>16533</td>\n",
       "    </tr>\n",
       "    <tr>\n",
       "      <th>4</th>\n",
       "      <td>1743444187</td>\n",
       "      <td>16424</td>\n",
       "    </tr>\n",
       "    <tr>\n",
       "      <th>...</th>\n",
       "      <td>...</td>\n",
       "      <td>...</td>\n",
       "    </tr>\n",
       "    <tr>\n",
       "      <th>393651</th>\n",
       "      <td>639106254</td>\n",
       "      <td>1</td>\n",
       "    </tr>\n",
       "    <tr>\n",
       "      <th>393652</th>\n",
       "      <td>1610758750</td>\n",
       "      <td>1</td>\n",
       "    </tr>\n",
       "    <tr>\n",
       "      <th>393653</th>\n",
       "      <td>1940480669</td>\n",
       "      <td>1</td>\n",
       "    </tr>\n",
       "    <tr>\n",
       "      <th>393654</th>\n",
       "      <td>60215278</td>\n",
       "      <td>1</td>\n",
       "    </tr>\n",
       "    <tr>\n",
       "      <th>393655</th>\n",
       "      <td>1038928152</td>\n",
       "      <td>1</td>\n",
       "    </tr>\n",
       "  </tbody>\n",
       "</table>\n",
       "<p>393656 rows × 2 columns</p>\n",
       "</div>"
      ],
      "text/plain": [
       "           user_id  nb_interactions\n",
       "0        801103753            17609\n",
       "1       1478712595            16842\n",
       "2        455973631            16640\n",
       "3       1842816145            16533\n",
       "4       1743444187            16424\n",
       "...            ...              ...\n",
       "393651   639106254                1\n",
       "393652  1610758750                1\n",
       "393653  1940480669                1\n",
       "393654    60215278                1\n",
       "393655  1038928152                1\n",
       "\n",
       "[393656 rows x 2 columns]"
      ]
     },
     "execution_count": 7,
     "metadata": {},
     "output_type": "execute_result"
    }
   ],
   "source": [
    "# J'ai 80 % des utilisateurs qui ont au moins 24 interactions. \n",
    "# J'ai besoin de 24 interactions, dont les 6 dernières en validation\n",
    "# Que se passe-t-il si il ont moins de 6 interaction \n",
    "user_info = train_df.groupby('user_id')['content_id'].count().sort_values(ascending=False).reset_index()\n",
    "user_info = user_info.rename(columns={'content_id':'nb_interactions'})\n",
    "user_info"
   ]
  },
  {
   "cell_type": "code",
   "execution_count": 8,
   "metadata": {
    "execution": {
     "iopub.execute_input": "2020-11-29T16:18:23.053895Z",
     "iopub.status.busy": "2020-11-29T16:18:23.052813Z",
     "iopub.status.idle": "2020-11-29T16:18:23.070714Z",
     "shell.execute_reply": "2020-11-29T16:18:23.071550Z"
    },
    "papermill": {
     "duration": 0.05367,
     "end_time": "2020-11-29T16:18:23.071825",
     "exception": false,
     "start_time": "2020-11-29T16:18:23.018155",
     "status": "completed"
    },
    "tags": []
   },
   "outputs": [
    {
     "name": "stdout",
     "output_type": "stream",
     "text": [
      "80 % des utilisateurs ont au moins 26 interactions\n"
     ]
    }
   ],
   "source": [
    "# Loi de Pareto 80/20\n",
    "tresh = 80\n",
    "idx = int(len(user_info) * tresh / 100)\n",
    "min_interaction = user_info.at[idx, 'nb_interactions']\n",
    "print(f'{tresh} % des utilisateurs ont au moins {min_interaction} interactions')"
   ]
  },
  {
   "cell_type": "code",
   "execution_count": 9,
   "metadata": {
    "execution": {
     "iopub.execute_input": "2020-11-29T16:18:23.133756Z",
     "iopub.status.busy": "2020-11-29T16:18:23.132423Z",
     "iopub.status.idle": "2020-11-29T16:18:23.160571Z",
     "shell.execute_reply": "2020-11-29T16:18:23.159836Z"
    },
    "papermill": {
     "duration": 0.062244,
     "end_time": "2020-11-29T16:18:23.160708",
     "exception": false,
     "start_time": "2020-11-29T16:18:23.098464",
     "status": "completed"
    },
    "tags": []
   },
   "outputs": [
    {
     "data": {
      "text/html": [
       "<div>\n",
       "<style scoped>\n",
       "    .dataframe tbody tr th:only-of-type {\n",
       "        vertical-align: middle;\n",
       "    }\n",
       "\n",
       "    .dataframe tbody tr th {\n",
       "        vertical-align: top;\n",
       "    }\n",
       "\n",
       "    .dataframe thead th {\n",
       "        text-align: right;\n",
       "    }\n",
       "</style>\n",
       "<table border=\"1\" class=\"dataframe\">\n",
       "  <thead>\n",
       "    <tr style=\"text-align: right;\">\n",
       "      <th></th>\n",
       "      <th>user_id</th>\n",
       "      <th>nb_interactions</th>\n",
       "    </tr>\n",
       "  </thead>\n",
       "  <tbody>\n",
       "    <tr>\n",
       "      <th>0</th>\n",
       "      <td>801103753</td>\n",
       "      <td>17609</td>\n",
       "    </tr>\n",
       "    <tr>\n",
       "      <th>1</th>\n",
       "      <td>1478712595</td>\n",
       "      <td>16842</td>\n",
       "    </tr>\n",
       "    <tr>\n",
       "      <th>2</th>\n",
       "      <td>455973631</td>\n",
       "      <td>16640</td>\n",
       "    </tr>\n",
       "    <tr>\n",
       "      <th>3</th>\n",
       "      <td>1842816145</td>\n",
       "      <td>16533</td>\n",
       "    </tr>\n",
       "    <tr>\n",
       "      <th>4</th>\n",
       "      <td>1743444187</td>\n",
       "      <td>16424</td>\n",
       "    </tr>\n",
       "    <tr>\n",
       "      <th>...</th>\n",
       "      <td>...</td>\n",
       "      <td>...</td>\n",
       "    </tr>\n",
       "    <tr>\n",
       "      <th>315690</th>\n",
       "      <td>1161533469</td>\n",
       "      <td>26</td>\n",
       "    </tr>\n",
       "    <tr>\n",
       "      <th>315691</th>\n",
       "      <td>1923443849</td>\n",
       "      <td>26</td>\n",
       "    </tr>\n",
       "    <tr>\n",
       "      <th>315692</th>\n",
       "      <td>535972367</td>\n",
       "      <td>26</td>\n",
       "    </tr>\n",
       "    <tr>\n",
       "      <th>315693</th>\n",
       "      <td>2095103204</td>\n",
       "      <td>26</td>\n",
       "    </tr>\n",
       "    <tr>\n",
       "      <th>315694</th>\n",
       "      <td>59340969</td>\n",
       "      <td>26</td>\n",
       "    </tr>\n",
       "  </tbody>\n",
       "</table>\n",
       "<p>315695 rows × 2 columns</p>\n",
       "</div>"
      ],
      "text/plain": [
       "           user_id  nb_interactions\n",
       "0        801103753            17609\n",
       "1       1478712595            16842\n",
       "2        455973631            16640\n",
       "3       1842816145            16533\n",
       "4       1743444187            16424\n",
       "...            ...              ...\n",
       "315690  1161533469               26\n",
       "315691  1923443849               26\n",
       "315692   535972367               26\n",
       "315693  2095103204               26\n",
       "315694    59340969               26\n",
       "\n",
       "[315695 rows x 2 columns]"
      ]
     },
     "execution_count": 9,
     "metadata": {},
     "output_type": "execute_result"
    }
   ],
   "source": [
    "user_info = user_info[user_info.nb_interactions >= min_interaction]\n",
    "user_info"
   ]
  },
  {
   "cell_type": "code",
   "execution_count": 10,
   "metadata": {
    "execution": {
     "iopub.execute_input": "2020-11-29T16:18:23.229950Z",
     "iopub.status.busy": "2020-11-29T16:18:23.228897Z",
     "iopub.status.idle": "2020-11-29T16:18:36.331591Z",
     "shell.execute_reply": "2020-11-29T16:18:36.330569Z"
    },
    "papermill": {
     "duration": 13.144168,
     "end_time": "2020-11-29T16:18:36.331758",
     "exception": false,
     "start_time": "2020-11-29T16:18:23.187590",
     "status": "completed"
    },
    "tags": []
   },
   "outputs": [
    {
     "data": {
      "text/html": [
       "<div>\n",
       "<style scoped>\n",
       "    .dataframe tbody tr th:only-of-type {\n",
       "        vertical-align: middle;\n",
       "    }\n",
       "\n",
       "    .dataframe tbody tr th {\n",
       "        vertical-align: top;\n",
       "    }\n",
       "\n",
       "    .dataframe thead th {\n",
       "        text-align: right;\n",
       "    }\n",
       "</style>\n",
       "<table border=\"1\" class=\"dataframe\">\n",
       "  <thead>\n",
       "    <tr style=\"text-align: right;\">\n",
       "      <th></th>\n",
       "      <th>user_id</th>\n",
       "      <th>content_id</th>\n",
       "      <th>answered_correctly</th>\n",
       "      <th>prior_question_elapsed_time</th>\n",
       "      <th>prior_question_had_explanation</th>\n",
       "      <th>user_correctness</th>\n",
       "      <th>nb_interactions</th>\n",
       "    </tr>\n",
       "  </thead>\n",
       "  <tbody>\n",
       "    <tr>\n",
       "      <th>0</th>\n",
       "      <td>115</td>\n",
       "      <td>5692</td>\n",
       "      <td>1</td>\n",
       "      <td>NaN</td>\n",
       "      <td>False</td>\n",
       "      <td>NaN</td>\n",
       "      <td>46</td>\n",
       "    </tr>\n",
       "    <tr>\n",
       "      <th>1</th>\n",
       "      <td>115</td>\n",
       "      <td>5716</td>\n",
       "      <td>1</td>\n",
       "      <td>37000.0</td>\n",
       "      <td>False</td>\n",
       "      <td>1.000000</td>\n",
       "      <td>46</td>\n",
       "    </tr>\n",
       "    <tr>\n",
       "      <th>2</th>\n",
       "      <td>115</td>\n",
       "      <td>128</td>\n",
       "      <td>1</td>\n",
       "      <td>55000.0</td>\n",
       "      <td>False</td>\n",
       "      <td>1.000000</td>\n",
       "      <td>46</td>\n",
       "    </tr>\n",
       "    <tr>\n",
       "      <th>3</th>\n",
       "      <td>115</td>\n",
       "      <td>7860</td>\n",
       "      <td>1</td>\n",
       "      <td>19000.0</td>\n",
       "      <td>False</td>\n",
       "      <td>1.000000</td>\n",
       "      <td>46</td>\n",
       "    </tr>\n",
       "    <tr>\n",
       "      <th>4</th>\n",
       "      <td>115</td>\n",
       "      <td>7922</td>\n",
       "      <td>1</td>\n",
       "      <td>11000.0</td>\n",
       "      <td>False</td>\n",
       "      <td>1.000000</td>\n",
       "      <td>46</td>\n",
       "    </tr>\n",
       "    <tr>\n",
       "      <th>...</th>\n",
       "      <td>...</td>\n",
       "      <td>...</td>\n",
       "      <td>...</td>\n",
       "      <td>...</td>\n",
       "      <td>...</td>\n",
       "      <td>...</td>\n",
       "      <td>...</td>\n",
       "    </tr>\n",
       "    <tr>\n",
       "      <th>97948854</th>\n",
       "      <td>2147482888</td>\n",
       "      <td>3586</td>\n",
       "      <td>1</td>\n",
       "      <td>18000.0</td>\n",
       "      <td>True</td>\n",
       "      <td>0.500000</td>\n",
       "      <td>27</td>\n",
       "    </tr>\n",
       "    <tr>\n",
       "      <th>97948855</th>\n",
       "      <td>2147482888</td>\n",
       "      <td>6341</td>\n",
       "      <td>1</td>\n",
       "      <td>14000.0</td>\n",
       "      <td>True</td>\n",
       "      <td>0.521739</td>\n",
       "      <td>27</td>\n",
       "    </tr>\n",
       "    <tr>\n",
       "      <th>97948856</th>\n",
       "      <td>2147482888</td>\n",
       "      <td>4212</td>\n",
       "      <td>1</td>\n",
       "      <td>14000.0</td>\n",
       "      <td>True</td>\n",
       "      <td>0.541667</td>\n",
       "      <td>27</td>\n",
       "    </tr>\n",
       "    <tr>\n",
       "      <th>97948857</th>\n",
       "      <td>2147482888</td>\n",
       "      <td>6343</td>\n",
       "      <td>0</td>\n",
       "      <td>22000.0</td>\n",
       "      <td>True</td>\n",
       "      <td>0.560000</td>\n",
       "      <td>27</td>\n",
       "    </tr>\n",
       "    <tr>\n",
       "      <th>97948858</th>\n",
       "      <td>2147482888</td>\n",
       "      <td>7995</td>\n",
       "      <td>1</td>\n",
       "      <td>29000.0</td>\n",
       "      <td>True</td>\n",
       "      <td>0.538462</td>\n",
       "      <td>27</td>\n",
       "    </tr>\n",
       "  </tbody>\n",
       "</table>\n",
       "<p>97948859 rows × 7 columns</p>\n",
       "</div>"
      ],
      "text/plain": [
       "             user_id  content_id  answered_correctly  \\\n",
       "0                115        5692                   1   \n",
       "1                115        5716                   1   \n",
       "2                115         128                   1   \n",
       "3                115        7860                   1   \n",
       "4                115        7922                   1   \n",
       "...              ...         ...                 ...   \n",
       "97948854  2147482888        3586                   1   \n",
       "97948855  2147482888        6341                   1   \n",
       "97948856  2147482888        4212                   1   \n",
       "97948857  2147482888        6343                   0   \n",
       "97948858  2147482888        7995                   1   \n",
       "\n",
       "          prior_question_elapsed_time  prior_question_had_explanation  \\\n",
       "0                                 NaN                           False   \n",
       "1                             37000.0                           False   \n",
       "2                             55000.0                           False   \n",
       "3                             19000.0                           False   \n",
       "4                             11000.0                           False   \n",
       "...                               ...                             ...   \n",
       "97948854                      18000.0                            True   \n",
       "97948855                      14000.0                            True   \n",
       "97948856                      14000.0                            True   \n",
       "97948857                      22000.0                            True   \n",
       "97948858                      29000.0                            True   \n",
       "\n",
       "          user_correctness  nb_interactions  \n",
       "0                      NaN               46  \n",
       "1                 1.000000               46  \n",
       "2                 1.000000               46  \n",
       "3                 1.000000               46  \n",
       "4                 1.000000               46  \n",
       "...                    ...              ...  \n",
       "97948854          0.500000               27  \n",
       "97948855          0.521739               27  \n",
       "97948856          0.541667               27  \n",
       "97948857          0.560000               27  \n",
       "97948858          0.538462               27  \n",
       "\n",
       "[97948859 rows x 7 columns]"
      ]
     },
     "execution_count": 10,
     "metadata": {},
     "output_type": "execute_result"
    }
   ],
   "source": [
    "train_df = pd.merge(train_df, user_info, on='user_id')\n",
    "train_df"
   ]
  },
  {
   "cell_type": "code",
   "execution_count": 11,
   "metadata": {
    "execution": {
     "iopub.execute_input": "2020-11-29T16:18:36.408894Z",
     "iopub.status.busy": "2020-11-29T16:18:36.407326Z",
     "iopub.status.idle": "2020-11-29T16:18:44.415844Z",
     "shell.execute_reply": "2020-11-29T16:18:44.414923Z"
    },
    "papermill": {
     "duration": 8.048328,
     "end_time": "2020-11-29T16:18:44.415985",
     "exception": false,
     "start_time": "2020-11-29T16:18:36.367657",
     "status": "completed"
    },
    "tags": []
   },
   "outputs": [],
   "source": [
    "# Récupération des 24 dernières interactions de chaque utilisateur.\n",
    "# C'est une manière de réduire considérablement le jeu de données,\n",
    "# en conservant les dernières interactions (les plus intéréssantes ?)\n",
    "# C'est aussi une manière de traiter l'aspect temporel des données\n",
    "train_df = train_df.groupby('user_id').tail(24).reset_index(drop=True)"
   ]
  },
  {
   "cell_type": "code",
   "execution_count": 12,
   "metadata": {
    "execution": {
     "iopub.execute_input": "2020-11-29T16:18:44.488707Z",
     "iopub.status.busy": "2020-11-29T16:18:44.487750Z",
     "iopub.status.idle": "2020-11-29T16:18:46.603135Z",
     "shell.execute_reply": "2020-11-29T16:18:46.603815Z"
    },
    "papermill": {
     "duration": 2.157428,
     "end_time": "2020-11-29T16:18:46.604023",
     "exception": false,
     "start_time": "2020-11-29T16:18:44.446595",
     "status": "completed"
    },
    "tags": []
   },
   "outputs": [],
   "source": [
    "# Récupération des parts du TOEIC\n",
    "questions_df = pd.read_csv(\n",
    "    '../input/riiid-test-answer-prediction/questions.csv', \n",
    "    usecols=[0, 3],\n",
    "    dtype={'question_id': 'int16', 'part': 'int8'}\n",
    ")\n",
    "train_df = pd.merge(train_df, questions_df, left_on='content_id', right_on='question_id', how='left')\n",
    "train_df.drop(columns=['question_id'], inplace=True)"
   ]
  },
  {
   "cell_type": "code",
   "execution_count": 13,
   "metadata": {
    "execution": {
     "iopub.execute_input": "2020-11-29T16:18:46.666614Z",
     "iopub.status.busy": "2020-11-29T16:18:46.665740Z",
     "iopub.status.idle": "2020-11-29T16:18:46.937036Z",
     "shell.execute_reply": "2020-11-29T16:18:46.936196Z"
    },
    "papermill": {
     "duration": 0.305646,
     "end_time": "2020-11-29T16:18:46.937171",
     "exception": false,
     "start_time": "2020-11-29T16:18:46.631525",
     "status": "completed"
    },
    "tags": []
   },
   "outputs": [],
   "source": [
    "# J'intègre le nombre d'apparitions totales de chaque contenu sur leurs lignes respectives\n",
    "train_df['content_count'] = train_df['content_id'].map(content_agg['count']).astype('int32')\n",
    "\n",
    "# Je transforme content_id en taux de réussite par contenu\n",
    "train_df['content_id'] = train_df['content_id'].map(content_agg['sum'] / content_agg['count'])"
   ]
  },
  {
   "cell_type": "code",
   "execution_count": 14,
   "metadata": {
    "execution": {
     "iopub.execute_input": "2020-11-29T16:18:47.011558Z",
     "iopub.status.busy": "2020-11-29T16:18:47.010562Z",
     "iopub.status.idle": "2020-11-29T16:18:50.428710Z",
     "shell.execute_reply": "2020-11-29T16:18:50.427809Z"
    },
    "papermill": {
     "duration": 3.459382,
     "end_time": "2020-11-29T16:18:50.428863",
     "exception": false,
     "start_time": "2020-11-29T16:18:46.969481",
     "status": "completed"
    },
    "tags": []
   },
   "outputs": [],
   "source": [
    "# Les 6 dernières lignes de chaque utilisateurs devient le jeu de validation\n",
    "# Cela represente un jeu de validation de 25 %\n",
    "valid_df = train_df.groupby('user_id').tail(6)\n",
    "train_df.drop(valid_df.index, inplace=True)"
   ]
  },
  {
   "cell_type": "code",
   "execution_count": 15,
   "metadata": {
    "execution": {
     "iopub.execute_input": "2020-11-29T16:18:50.517086Z",
     "iopub.status.busy": "2020-11-29T16:18:50.516227Z",
     "iopub.status.idle": "2020-11-29T16:18:50.533271Z",
     "shell.execute_reply": "2020-11-29T16:18:50.534332Z"
    },
    "papermill": {
     "duration": 0.069198,
     "end_time": "2020-11-29T16:18:50.534566",
     "exception": false,
     "start_time": "2020-11-29T16:18:50.465368",
     "status": "completed"
    },
    "tags": []
   },
   "outputs": [
    {
     "data": {
      "text/html": [
       "<div>\n",
       "<style scoped>\n",
       "    .dataframe tbody tr th:only-of-type {\n",
       "        vertical-align: middle;\n",
       "    }\n",
       "\n",
       "    .dataframe tbody tr th {\n",
       "        vertical-align: top;\n",
       "    }\n",
       "\n",
       "    .dataframe thead th {\n",
       "        text-align: right;\n",
       "    }\n",
       "</style>\n",
       "<table border=\"1\" class=\"dataframe\">\n",
       "  <thead>\n",
       "    <tr style=\"text-align: right;\">\n",
       "      <th></th>\n",
       "      <th>user_id</th>\n",
       "      <th>content_id</th>\n",
       "      <th>answered_correctly</th>\n",
       "      <th>prior_question_elapsed_time</th>\n",
       "      <th>prior_question_had_explanation</th>\n",
       "      <th>user_correctness</th>\n",
       "      <th>nb_interactions</th>\n",
       "      <th>part</th>\n",
       "      <th>content_count</th>\n",
       "    </tr>\n",
       "  </thead>\n",
       "  <tbody>\n",
       "    <tr>\n",
       "      <th>0</th>\n",
       "      <td>115</td>\n",
       "      <td>0.687217</td>\n",
       "      <td>0</td>\n",
       "      <td>19000.0</td>\n",
       "      <td>False</td>\n",
       "      <td>0.727273</td>\n",
       "      <td>46</td>\n",
       "      <td>1</td>\n",
       "      <td>36674</td>\n",
       "    </tr>\n",
       "    <tr>\n",
       "      <th>1</th>\n",
       "      <td>115</td>\n",
       "      <td>0.608222</td>\n",
       "      <td>0</td>\n",
       "      <td>21000.0</td>\n",
       "      <td>False</td>\n",
       "      <td>0.695652</td>\n",
       "      <td>46</td>\n",
       "      <td>1</td>\n",
       "      <td>47047</td>\n",
       "    </tr>\n",
       "    <tr>\n",
       "      <th>2</th>\n",
       "      <td>115</td>\n",
       "      <td>0.601824</td>\n",
       "      <td>1</td>\n",
       "      <td>22000.0</td>\n",
       "      <td>False</td>\n",
       "      <td>0.666667</td>\n",
       "      <td>46</td>\n",
       "      <td>1</td>\n",
       "      <td>40452</td>\n",
       "    </tr>\n",
       "    <tr>\n",
       "      <th>3</th>\n",
       "      <td>115</td>\n",
       "      <td>0.418436</td>\n",
       "      <td>1</td>\n",
       "      <td>16000.0</td>\n",
       "      <td>False</td>\n",
       "      <td>0.680000</td>\n",
       "      <td>46</td>\n",
       "      <td>1</td>\n",
       "      <td>190170</td>\n",
       "    </tr>\n",
       "    <tr>\n",
       "      <th>4</th>\n",
       "      <td>115</td>\n",
       "      <td>0.474545</td>\n",
       "      <td>1</td>\n",
       "      <td>20000.0</td>\n",
       "      <td>False</td>\n",
       "      <td>0.692308</td>\n",
       "      <td>46</td>\n",
       "      <td>1</td>\n",
       "      <td>56707</td>\n",
       "    </tr>\n",
       "  </tbody>\n",
       "</table>\n",
       "</div>"
      ],
      "text/plain": [
       "   user_id  content_id  answered_correctly  prior_question_elapsed_time  \\\n",
       "0      115    0.687217                   0                      19000.0   \n",
       "1      115    0.608222                   0                      21000.0   \n",
       "2      115    0.601824                   1                      22000.0   \n",
       "3      115    0.418436                   1                      16000.0   \n",
       "4      115    0.474545                   1                      20000.0   \n",
       "\n",
       "   prior_question_had_explanation  user_correctness  nb_interactions  part  \\\n",
       "0                           False          0.727273               46     1   \n",
       "1                           False          0.695652               46     1   \n",
       "2                           False          0.666667               46     1   \n",
       "3                           False          0.680000               46     1   \n",
       "4                           False          0.692308               46     1   \n",
       "\n",
       "   content_count  \n",
       "0          36674  \n",
       "1          47047  \n",
       "2          40452  \n",
       "3         190170  \n",
       "4          56707  "
      ]
     },
     "execution_count": 15,
     "metadata": {},
     "output_type": "execute_result"
    }
   ],
   "source": [
    "train_df.head()"
   ]
  },
  {
   "cell_type": "markdown",
   "metadata": {
    "papermill": {
     "duration": 0.036891,
     "end_time": "2020-11-29T16:18:50.603608",
     "exception": false,
     "start_time": "2020-11-29T16:18:50.566717",
     "status": "completed"
    },
    "tags": []
   },
   "source": [
    "Points d'amélioration :\n",
    "- 0/ ~~Essayer mon nettoyage. Soumettre~~ *Résultat dévalué*\n",
    "- 1/ Vérifier si tous les users ont au moins 24 interactions. Soumettre.\n",
    "- 2/ Injecter mes propres features, 1 à 1. Soumettre à chaque nouvelles features.\n",
    "- 3/ Essayer les parts de train et val (actuellement 24 / 6).\n",
    "\n",
    "- Régler les paramètres du modèle (actuellement standard)\n"
   ]
  },
  {
   "cell_type": "markdown",
   "metadata": {
    "papermill": {
     "duration": 0.02935,
     "end_time": "2020-11-29T16:18:50.664501",
     "exception": false,
     "start_time": "2020-11-29T16:18:50.635151",
     "status": "completed"
    },
    "tags": []
   },
   "source": []
  },
  {
   "cell_type": "markdown",
   "metadata": {
    "papermill": {
     "duration": 0.035555,
     "end_time": "2020-11-29T16:18:50.733433",
     "exception": false,
     "start_time": "2020-11-29T16:18:50.697878",
     "status": "completed"
    },
    "tags": []
   },
   "source": [
    "# Train"
   ]
  },
  {
   "cell_type": "code",
   "execution_count": 16,
   "metadata": {
    "execution": {
     "iopub.execute_input": "2020-11-29T16:18:50.804717Z",
     "iopub.status.busy": "2020-11-29T16:18:50.803544Z",
     "iopub.status.idle": "2020-11-29T16:18:50.807142Z",
     "shell.execute_reply": "2020-11-29T16:18:50.807711Z"
    },
    "papermill": {
     "duration": 0.046125,
     "end_time": "2020-11-29T16:18:50.807902",
     "exception": false,
     "start_time": "2020-11-29T16:18:50.761777",
     "status": "completed"
    },
    "tags": []
   },
   "outputs": [],
   "source": [
    "features = [\n",
    "    'content_id',\n",
    "    'prior_question_elapsed_time',\n",
    "    'prior_question_had_explanation',\n",
    "    'user_correctness',\n",
    "    'part',\n",
    "    'content_count'\n",
    "]\n",
    "\n",
    "params = {\n",
    "    'objective': 'binary',\n",
    "    'seed': 42,\n",
    "    'metric': 'auc',\n",
    "    'learning_rate': 0.05,\n",
    "    'max_bin': 800,\n",
    "    'num_leaves': 80\n",
    "}"
   ]
  },
  {
   "cell_type": "code",
   "execution_count": 17,
   "metadata": {
    "execution": {
     "iopub.execute_input": "2020-11-29T16:18:50.996763Z",
     "iopub.status.busy": "2020-11-29T16:18:50.975241Z",
     "iopub.status.idle": "2020-11-29T16:51:05.577576Z",
     "shell.execute_reply": "2020-11-29T16:51:05.578324Z"
    },
    "papermill": {
     "duration": 1934.739921,
     "end_time": "2020-11-29T16:51:05.578701",
     "exception": false,
     "start_time": "2020-11-29T16:18:50.838780",
     "status": "completed"
    },
    "tags": []
   },
   "outputs": [
    {
     "name": "stdout",
     "output_type": "stream",
     "text": [
      "Training until validation scores don't improve for 50 rounds\n",
      "[50]\ttraining's auc: 0.758192\tvalid_1's auc: 0.741206\n",
      "[100]\ttraining's auc: 0.759583\tvalid_1's auc: 0.742797\n",
      "[150]\ttraining's auc: 0.760156\tvalid_1's auc: 0.743258\n",
      "[200]\ttraining's auc: 0.760491\tvalid_1's auc: 0.743446\n",
      "[250]\ttraining's auc: 0.760772\tvalid_1's auc: 0.743577\n",
      "[300]\ttraining's auc: 0.761008\tvalid_1's auc: 0.743649\n",
      "[350]\ttraining's auc: 0.761223\tvalid_1's auc: 0.743705\n",
      "[400]\ttraining's auc: 0.761414\tvalid_1's auc: 0.743747\n",
      "[450]\ttraining's auc: 0.761608\tvalid_1's auc: 0.74378\n",
      "[500]\ttraining's auc: 0.761791\tvalid_1's auc: 0.743809\n",
      "[550]\ttraining's auc: 0.761998\tvalid_1's auc: 0.743838\n",
      "[600]\ttraining's auc: 0.762188\tvalid_1's auc: 0.743863\n",
      "[650]\ttraining's auc: 0.762376\tvalid_1's auc: 0.743881\n",
      "[700]\ttraining's auc: 0.762566\tvalid_1's auc: 0.74391\n",
      "[750]\ttraining's auc: 0.762748\tvalid_1's auc: 0.743923\n",
      "[800]\ttraining's auc: 0.762933\tvalid_1's auc: 0.74395\n",
      "[850]\ttraining's auc: 0.763101\tvalid_1's auc: 0.743966\n",
      "[900]\ttraining's auc: 0.763271\tvalid_1's auc: 0.743984\n",
      "[950]\ttraining's auc: 0.763445\tvalid_1's auc: 0.744\n",
      "[1000]\ttraining's auc: 0.763614\tvalid_1's auc: 0.744006\n",
      "[1050]\ttraining's auc: 0.763786\tvalid_1's auc: 0.74401\n",
      "[1100]\ttraining's auc: 0.763954\tvalid_1's auc: 0.744016\n",
      "[1150]\ttraining's auc: 0.764146\tvalid_1's auc: 0.744032\n",
      "[1200]\ttraining's auc: 0.764309\tvalid_1's auc: 0.744038\n",
      "[1250]\ttraining's auc: 0.764461\tvalid_1's auc: 0.744037\n",
      "Early stopping, best iteration is:\n",
      "[1227]\ttraining's auc: 0.764397\tvalid_1's auc: 0.744042\n"
     ]
    },
    {
     "data": {
      "image/png": "[encoded data removed]",
      "text/plain": [
       "<Figure size 432x288 with 1 Axes>"
      ]
     },
     "metadata": {
      "needs_background": "light"
     },
     "output_type": "display_data"
    }
   ],
   "source": [
    "tr_data = lgb.Dataset(train_df[features], label=train_df[target])\n",
    "va_data = lgb.Dataset(valid_df[features], label=valid_df[target])\n",
    "\n",
    "model = lgb.train(\n",
    "    params, \n",
    "    tr_data, \n",
    "    num_boost_round=10000,\n",
    "    valid_sets=[tr_data, va_data], \n",
    "    early_stopping_rounds=50,\n",
    "    verbose_eval=50\n",
    ")\n",
    "\n",
    "# model.save_model(f'model.txt')\n",
    "lgb.plot_importance(model, importance_type='gain')\n",
    "plt.show()"
   ]
  },
  {
   "cell_type": "markdown",
   "metadata": {
    "papermill": {
     "duration": 0.039027,
     "end_time": "2020-11-29T16:51:05.657704",
     "exception": false,
     "start_time": "2020-11-29T16:51:05.618677",
     "status": "completed"
    },
    "tags": []
   },
   "source": [
    "# Inference"
   ]
  },
  {
   "cell_type": "code",
   "execution_count": 18,
   "metadata": {
    "execution": {
     "iopub.execute_input": "2020-11-29T16:51:05.750221Z",
     "iopub.status.busy": "2020-11-29T16:51:05.749391Z",
     "iopub.status.idle": "2020-11-29T16:51:06.287740Z",
     "shell.execute_reply": "2020-11-29T16:51:06.286885Z"
    },
    "papermill": {
     "duration": 0.588589,
     "end_time": "2020-11-29T16:51:06.287881",
     "exception": false,
     "start_time": "2020-11-29T16:51:05.699292",
     "status": "completed"
    },
    "tags": []
   },
   "outputs": [],
   "source": [
    "user_sum_dict = user_agg['sum'].astype('int16').to_dict(defaultdict(int))\n",
    "user_count_dict = user_agg['count'].astype('int16').to_dict(defaultdict(int))\n",
    "content_sum_dict = content_agg['sum'].astype('int32').to_dict(defaultdict(int))\n",
    "content_count_dict = content_agg['count'].astype('int32').to_dict(defaultdict(int))"
   ]
  },
  {
   "cell_type": "code",
   "execution_count": 19,
   "metadata": {
    "execution": {
     "iopub.execute_input": "2020-11-29T16:51:06.375975Z",
     "iopub.status.busy": "2020-11-29T16:51:06.374931Z",
     "iopub.status.idle": "2020-11-29T16:51:06.377692Z",
     "shell.execute_reply": "2020-11-29T16:51:06.378251Z"
    },
    "papermill": {
     "duration": 0.050343,
     "end_time": "2020-11-29T16:51:06.378424",
     "exception": false,
     "start_time": "2020-11-29T16:51:06.328081",
     "status": "completed"
    },
    "tags": []
   },
   "outputs": [],
   "source": [
    "# model = lgb.Booster(model_file='../input/riiid-lgbm-starter/model.txt')\n",
    "env = riiideducation.make_env()\n",
    "iter_test = env.iter_test()\n",
    "prior_test_df = None"
   ]
  },
  {
   "cell_type": "code",
   "execution_count": 20,
   "metadata": {
    "execution": {
     "iopub.execute_input": "2020-11-29T16:51:06.490815Z",
     "iopub.status.busy": "2020-11-29T16:51:06.489538Z",
     "iopub.status.idle": "2020-11-29T16:51:07.410210Z",
     "shell.execute_reply": "2020-11-29T16:51:07.409293Z"
    },
    "papermill": {
     "duration": 0.990962,
     "end_time": "2020-11-29T16:51:07.410383",
     "exception": false,
     "start_time": "2020-11-29T16:51:06.419421",
     "status": "completed"
    },
    "tags": []
   },
   "outputs": [
    {
     "name": "stdout",
     "output_type": "stream",
     "text": [
      "CPU times: user 1.33 s, sys: 86.3 ms, total: 1.41 s\n",
      "Wall time: 919 ms\n"
     ]
    }
   ],
   "source": [
    "%%time\n",
    "\n",
    "for (test_df, sample_prediction_df) in iter_test:\n",
    "    if prior_test_df is not None:\n",
    "        prior_test_df[target] = eval(test_df['prior_group_answers_correct'].iloc[0])\n",
    "        prior_test_df = prior_test_df[prior_test_df[target] != -1].reset_index(drop=True)\n",
    "        \n",
    "        user_ids = prior_test_df['user_id'].values\n",
    "        content_ids = prior_test_df['content_id'].values\n",
    "        targets = prior_test_df[target].values\n",
    "        \n",
    "        for user_id, content_id, answered_correctly in zip(user_ids, content_ids, targets):\n",
    "            user_sum_dict[user_id] += answered_correctly\n",
    "            user_count_dict[user_id] += 1\n",
    "            content_sum_dict[content_id] += answered_correctly\n",
    "            content_count_dict[content_id] += 1\n",
    "\n",
    "    prior_test_df = test_df.copy()\n",
    "    \n",
    "    test_df = test_df[test_df['content_type_id'] == 0].reset_index(drop=True)\n",
    "    test_df = pd.merge(test_df, questions_df, left_on='content_id', right_on='question_id', how='left')\n",
    "    test_df['prior_question_had_explanation'] = test_df['prior_question_had_explanation'].fillna(False).astype('bool')    \n",
    "    \n",
    "    user_sum = np.zeros(len(test_df), dtype=np.int16)\n",
    "    user_count = np.zeros(len(test_df), dtype=np.int16)\n",
    "    content_sum = np.zeros(len(test_df), dtype=np.int32)\n",
    "    content_count = np.zeros(len(test_df), dtype=np.int32)\n",
    "    \n",
    "    for i, (user_id, content_id) in enumerate(zip(test_df['user_id'].values, test_df['content_id'].values)):\n",
    "        user_sum[i] = user_sum_dict[user_id]\n",
    "        user_count[i] = user_count_dict[user_id]\n",
    "        content_sum[i] = content_sum_dict[content_id]\n",
    "        content_count[i] = content_count_dict[content_id]\n",
    "\n",
    "    test_df['user_correctness'] = user_sum / user_count\n",
    "    test_df['content_count'] = content_count\n",
    "    test_df['content_id'] = content_sum / content_count\n",
    "       \n",
    "    test_df[target] = model.predict(test_df[features])\n",
    "    env.predict(test_df[['row_id', target]])"
   ]
  },
  {
   "cell_type": "code",
   "execution_count": null,
   "metadata": {
    "papermill": {
     "duration": 0.041309,
     "end_time": "2020-11-29T16:51:07.492619",
     "exception": false,
     "start_time": "2020-11-29T16:51:07.451310",
     "status": "completed"
    },
    "tags": []
   },
   "outputs": [],
   "source": []
  }
 ],
 "metadata": {
  "kernelspec": {
   "display_name": "Python 3",
   "language": "python",
   "name": "python3"
  },
  "language_info": {
   "codemirror_mode": {
    "name": "ipython",
    "version": 3
   },
   "file_extension": ".py",
   "mimetype": "text/x-python",
   "name": "python",
   "nbconvert_exporter": "python",
   "pygments_lexer": "ipython3",
   "version": "3.7.6"
  },
  "papermill": {
   "duration": 2115.141751,
   "end_time": "2020-11-29T16:51:07.643465",
   "environment_variables": {},
   "exception": null,
   "input_path": "__notebook__.ipynb",
   "output_path": "__notebook__.ipynb",
   "parameters": {},
   "start_time": "2020-11-29T16:15:52.501714",
   "version": "2.1.0"
  }
 },
 "nbformat": 4,
 "nbformat_minor": 4
}
