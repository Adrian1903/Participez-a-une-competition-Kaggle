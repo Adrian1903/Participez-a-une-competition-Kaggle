{
 "cells": [
  {
   "cell_type": "code",
   "execution_count": 1,
   "metadata": {
    "_cell_guid": "b1076dfc-b9ad-4769-8c92-a6c4dae69d19",
    "_uuid": "8f2839f25d086af736a60e9eeb907d3b93b6e0e5",
    "execution": {
     "iopub.execute_input": "2020-11-30T07:58:54.665675Z",
     "iopub.status.busy": "2020-11-30T07:58:54.664878Z",
     "iopub.status.idle": "2020-11-30T07:59:25.892719Z",
     "shell.execute_reply": "2020-11-30T07:59:25.891973Z"
    },
    "papermill": {
     "duration": 31.257671,
     "end_time": "2020-11-30T07:59:25.892876",
     "exception": false,
     "start_time": "2020-11-30T07:58:54.635205",
     "status": "completed"
    },
    "tags": []
   },
   "outputs": [],
   "source": [
    "!pip install ../input/python-datatable/datatable-0.11.0-cp37-cp37m-manylinux2010_x86_64.whl > /dev/null 2>&1"
   ]
  },
  {
   "cell_type": "code",
   "execution_count": 2,
   "metadata": {
    "_cell_guid": "79c7e3d0-c299-4dcb-8224-4455121ee9b0",
    "_uuid": "d629ff2d2480ee46fbb7e2d37f6b5fab8052498a",
    "execution": {
     "iopub.execute_input": "2020-11-30T07:59:25.943125Z",
     "iopub.status.busy": "2020-11-30T07:59:25.942333Z",
     "iopub.status.idle": "2020-11-30T07:59:27.312649Z",
     "shell.execute_reply": "2020-11-30T07:59:27.311858Z"
    },
    "papermill": {
     "duration": 1.398276,
     "end_time": "2020-11-30T07:59:27.312774",
     "exception": false,
     "start_time": "2020-11-30T07:59:25.914498",
     "status": "completed"
    },
    "tags": []
   },
   "outputs": [
    {
     "data": {
      "text/html": [
       "<style type='text/css'>\n",
       ".datatable table.frame { margin-bottom: 0; }\n",
       ".datatable table.frame thead { border-bottom: none; }\n",
       ".datatable table.frame tr.coltypes td {  color: #FFFFFF;  line-height: 6px;  padding: 0 0.5em;}\n",
       ".datatable .bool    { background: #DDDD99; }\n",
       ".datatable .object  { background: #565656; }\n",
       ".datatable .int     { background: #5D9E5D; }\n",
       ".datatable .float   { background: #4040CC; }\n",
       ".datatable .str     { background: #CC4040; }\n",
       ".datatable .row_index {  background: var(--jp-border-color3);  border-right: 1px solid var(--jp-border-color0);  color: var(--jp-ui-font-color3);  font-size: 9px;}\n",
       ".datatable .frame tr.coltypes .row_index {  background: var(--jp-border-color0);}\n",
       ".datatable th:nth-child(2) { padding-left: 12px; }\n",
       ".datatable .hellipsis {  color: var(--jp-cell-editor-border-color);}\n",
       ".datatable .vellipsis {  background: var(--jp-layout-color0);  color: var(--jp-cell-editor-border-color);}\n",
       ".datatable .na {  color: var(--jp-cell-editor-border-color);  font-size: 80%;}\n",
       ".datatable .footer { font-size: 9px; }\n",
       ".datatable .frame_dimensions {  background: var(--jp-border-color3);  border-top: 1px solid var(--jp-border-color0);  color: var(--jp-ui-font-color3);  display: inline-block;  opacity: 0.6;  padding: 1px 10px 1px 5px;}\n",
       "</style>\n"
      ],
      "text/plain": [
       "<IPython.core.display.HTML object>"
      ]
     },
     "metadata": {},
     "output_type": "display_data"
    }
   ],
   "source": [
    "import numpy as np\n",
    "import pandas as pd\n",
    "from collections import defaultdict\n",
    "import datatable as dt\n",
    "import lightgbm as lgb\n",
    "from matplotlib import pyplot as plt\n",
    "import riiideducation\n",
    "\n",
    "_ = np.seterr(divide='ignore', invalid='ignore')"
   ]
  },
  {
   "cell_type": "markdown",
   "metadata": {
    "papermill": {
     "duration": 0.020481,
     "end_time": "2020-11-30T07:59:27.354729",
     "exception": false,
     "start_time": "2020-11-30T07:59:27.334248",
     "status": "completed"
    },
    "tags": []
   },
   "source": [
    "# Preprocess"
   ]
  },
  {
   "cell_type": "code",
   "execution_count": 3,
   "metadata": {
    "execution": {
     "iopub.execute_input": "2020-11-30T07:59:27.403099Z",
     "iopub.status.busy": "2020-11-30T07:59:27.402178Z",
     "iopub.status.idle": "2020-11-30T07:59:27.405639Z",
     "shell.execute_reply": "2020-11-30T07:59:27.404986Z"
    },
    "papermill": {
     "duration": 0.030023,
     "end_time": "2020-11-30T07:59:27.405780",
     "exception": false,
     "start_time": "2020-11-30T07:59:27.375757",
     "status": "completed"
    },
    "tags": []
   },
   "outputs": [],
   "source": [
    "data_types_dict = {\n",
    "    'user_id': 'int32', \n",
    "    'content_id': 'int16', \n",
    "    'answered_correctly': 'int8', \n",
    "    'prior_question_elapsed_time': 'float32', \n",
    "    'prior_question_had_explanation': 'bool'\n",
    "}\n",
    "target = 'answered_correctly'"
   ]
  },
  {
   "cell_type": "code",
   "execution_count": 4,
   "metadata": {
    "execution": {
     "iopub.execute_input": "2020-11-30T07:59:27.456399Z",
     "iopub.status.busy": "2020-11-30T07:59:27.455622Z",
     "iopub.status.idle": "2020-11-30T08:00:47.038409Z",
     "shell.execute_reply": "2020-11-30T08:00:47.037609Z"
    },
    "papermill": {
     "duration": 79.61154,
     "end_time": "2020-11-30T08:00:47.038572",
     "exception": false,
     "start_time": "2020-11-30T07:59:27.427032",
     "status": "completed"
    },
    "tags": []
   },
   "outputs": [],
   "source": [
    "train_df = dt.fread('../input/riiid-test-answer-prediction/train.csv', columns=set(data_types_dict.keys())).to_pandas()\n",
    "train_df = train_df[train_df[target] != -1].reset_index(drop=True)\n",
    "train_df['prior_question_had_explanation'].fillna(False, inplace=True)\n",
    "train_df = train_df.astype(data_types_dict)"
   ]
  },
  {
   "cell_type": "code",
   "execution_count": 5,
   "metadata": {
    "execution": {
     "iopub.execute_input": "2020-11-30T08:00:47.102523Z",
     "iopub.status.busy": "2020-11-30T08:00:47.100965Z",
     "iopub.status.idle": "2020-11-30T08:01:06.379876Z",
     "shell.execute_reply": "2020-11-30T08:01:06.379227Z"
    },
    "papermill": {
     "duration": 19.31501,
     "end_time": "2020-11-30T08:01:06.380013",
     "exception": false,
     "start_time": "2020-11-30T08:00:47.065003",
     "status": "completed"
    },
    "tags": []
   },
   "outputs": [],
   "source": [
    "# Calcul du taux de réussite de l'utilisateur en fonction de son avancée\n",
    "train_df['lag'] = train_df.groupby('user_id')[target].shift()\n",
    "cum = train_df.groupby('user_id')['lag'].agg(['cumsum', 'cumcount'])\n",
    "train_df['user_correctness'] = cum['cumsum'] / cum['cumcount']\n",
    "train_df.drop(columns=['lag'], inplace=True)"
   ]
  },
  {
   "cell_type": "code",
   "execution_count": 6,
   "metadata": {
    "execution": {
     "iopub.execute_input": "2020-11-30T08:01:06.430665Z",
     "iopub.status.busy": "2020-11-30T08:01:06.429896Z",
     "iopub.status.idle": "2020-11-30T08:01:16.274655Z",
     "shell.execute_reply": "2020-11-30T08:01:16.273979Z"
    },
    "papermill": {
     "duration": 9.87288,
     "end_time": "2020-11-30T08:01:16.274783",
     "exception": false,
     "start_time": "2020-11-30T08:01:06.401903",
     "status": "completed"
    },
    "tags": []
   },
   "outputs": [],
   "source": [
    "# Je compte le nombre de bonnes réponses par utilisateurs et \n",
    "# Je compte le nombre de réponses par utilsateurs (juste ou fausse)\n",
    "user_agg = train_df.groupby('user_id')[target].agg(['sum', 'count'])\n",
    "\n",
    "# Je compte le nombre de bonnes réponses par contenu et\n",
    "# Je compte le nombres de réponses par contenu (juste ou fausse)\n",
    "content_agg = train_df.groupby('content_id')[target].agg(['sum', 'count'])"
   ]
  },
  {
   "cell_type": "markdown",
   "metadata": {
    "papermill": {
     "duration": 0.021504,
     "end_time": "2020-11-30T08:01:16.318260",
     "exception": false,
     "start_time": "2020-11-30T08:01:16.296756",
     "status": "completed"
    },
    "tags": []
   },
   "source": [
    "Stratégie de validation\n",
    "\n",
    "Initialement, il est conservé les 24 dernières interactions par utilisateurs, \n",
    "Les 6 dernières sont affectés aux données de validation, soit 25%.\n",
    "Il convient de s'assurer que chacun des utilisateurs aient au moins 24 interactions à son actif pour respecter les 25% dans un premier temps.\n",
    "\n",
    "Dans un second temps, il conviendra de tester d'autres proportions, comme 48 / 12."
   ]
  },
  {
   "cell_type": "markdown",
   "metadata": {
    "papermill": {
     "duration": 0.021424,
     "end_time": "2020-11-30T08:01:16.361931",
     "exception": false,
     "start_time": "2020-11-30T08:01:16.340507",
     "status": "completed"
    },
    "tags": []
   },
   "source": [
    "24 correspond à 80% des users avec plus de 24 interactions. Cependant, les users avec moins de 24 interactions sont conservés"
   ]
  },
  {
   "cell_type": "code",
   "execution_count": 7,
   "metadata": {
    "execution": {
     "iopub.execute_input": "2020-11-30T08:01:16.412539Z",
     "iopub.status.busy": "2020-11-30T08:01:16.411709Z",
     "iopub.status.idle": "2020-11-30T08:01:18.883543Z",
     "shell.execute_reply": "2020-11-30T08:01:18.882786Z"
    },
    "papermill": {
     "duration": 2.49993,
     "end_time": "2020-11-30T08:01:18.883666",
     "exception": false,
     "start_time": "2020-11-30T08:01:16.383736",
     "status": "completed"
    },
    "tags": []
   },
   "outputs": [
    {
     "data": {
      "text/html": [
       "<div>\n",
       "<style scoped>\n",
       "    .dataframe tbody tr th:only-of-type {\n",
       "        vertical-align: middle;\n",
       "    }\n",
       "\n",
       "    .dataframe tbody tr th {\n",
       "        vertical-align: top;\n",
       "    }\n",
       "\n",
       "    .dataframe thead th {\n",
       "        text-align: right;\n",
       "    }\n",
       "</style>\n",
       "<table border=\"1\" class=\"dataframe\">\n",
       "  <thead>\n",
       "    <tr style=\"text-align: right;\">\n",
       "      <th></th>\n",
       "      <th>user_id</th>\n",
       "      <th>nb_interactions</th>\n",
       "    </tr>\n",
       "  </thead>\n",
       "  <tbody>\n",
       "    <tr>\n",
       "      <th>0</th>\n",
       "      <td>801103753</td>\n",
       "      <td>17609</td>\n",
       "    </tr>\n",
       "    <tr>\n",
       "      <th>1</th>\n",
       "      <td>1478712595</td>\n",
       "      <td>16842</td>\n",
       "    </tr>\n",
       "    <tr>\n",
       "      <th>2</th>\n",
       "      <td>455973631</td>\n",
       "      <td>16640</td>\n",
       "    </tr>\n",
       "    <tr>\n",
       "      <th>3</th>\n",
       "      <td>1842816145</td>\n",
       "      <td>16533</td>\n",
       "    </tr>\n",
       "    <tr>\n",
       "      <th>4</th>\n",
       "      <td>1743444187</td>\n",
       "      <td>16424</td>\n",
       "    </tr>\n",
       "    <tr>\n",
       "      <th>...</th>\n",
       "      <td>...</td>\n",
       "      <td>...</td>\n",
       "    </tr>\n",
       "    <tr>\n",
       "      <th>393651</th>\n",
       "      <td>639106254</td>\n",
       "      <td>1</td>\n",
       "    </tr>\n",
       "    <tr>\n",
       "      <th>393652</th>\n",
       "      <td>1610758750</td>\n",
       "      <td>1</td>\n",
       "    </tr>\n",
       "    <tr>\n",
       "      <th>393653</th>\n",
       "      <td>1940480669</td>\n",
       "      <td>1</td>\n",
       "    </tr>\n",
       "    <tr>\n",
       "      <th>393654</th>\n",
       "      <td>60215278</td>\n",
       "      <td>1</td>\n",
       "    </tr>\n",
       "    <tr>\n",
       "      <th>393655</th>\n",
       "      <td>1038928152</td>\n",
       "      <td>1</td>\n",
       "    </tr>\n",
       "  </tbody>\n",
       "</table>\n",
       "<p>393656 rows × 2 columns</p>\n",
       "</div>"
      ],
      "text/plain": [
       "           user_id  nb_interactions\n",
       "0        801103753            17609\n",
       "1       1478712595            16842\n",
       "2        455973631            16640\n",
       "3       1842816145            16533\n",
       "4       1743444187            16424\n",
       "...            ...              ...\n",
       "393651   639106254                1\n",
       "393652  1610758750                1\n",
       "393653  1940480669                1\n",
       "393654    60215278                1\n",
       "393655  1038928152                1\n",
       "\n",
       "[393656 rows x 2 columns]"
      ]
     },
     "execution_count": 7,
     "metadata": {},
     "output_type": "execute_result"
    }
   ],
   "source": [
    "# J'ai 80 % des utilisateurs qui ont au moins 24 interactions. \n",
    "# J'ai besoin de 24 interactions, dont les 6 dernières en validation\n",
    "# Que se passe-t-il si il ont moins de 6 interaction \n",
    "user_info = train_df.groupby('user_id')['content_id'].count().sort_values(ascending=False).reset_index()\n",
    "user_info = user_info.rename(columns={'content_id':'nb_interactions'})\n",
    "user_info"
   ]
  },
  {
   "cell_type": "code",
   "execution_count": 8,
   "metadata": {
    "execution": {
     "iopub.execute_input": "2020-11-30T08:01:18.936437Z",
     "iopub.status.busy": "2020-11-30T08:01:18.935316Z",
     "iopub.status.idle": "2020-11-30T08:01:18.952341Z",
     "shell.execute_reply": "2020-11-30T08:01:18.951725Z"
    },
    "papermill": {
     "duration": 0.04632,
     "end_time": "2020-11-30T08:01:18.952509",
     "exception": false,
     "start_time": "2020-11-30T08:01:18.906189",
     "status": "completed"
    },
    "tags": []
   },
   "outputs": [
    {
     "name": "stdout",
     "output_type": "stream",
     "text": [
      "50 % des utilisateurs ont au moins 40 interactions\n"
     ]
    }
   ],
   "source": [
    "# Loi de Pareto 80/20\n",
    "tresh = 50\n",
    "idx = int(len(user_info) * tresh / 100)\n",
    "min_interaction = user_info.at[idx, 'nb_interactions']\n",
    "print(f'{tresh} % des utilisateurs ont au moins {min_interaction} interactions')"
   ]
  },
  {
   "cell_type": "code",
   "execution_count": 9,
   "metadata": {
    "execution": {
     "iopub.execute_input": "2020-11-30T08:01:19.006847Z",
     "iopub.status.busy": "2020-11-30T08:01:19.005350Z",
     "iopub.status.idle": "2020-11-30T08:01:19.028714Z",
     "shell.execute_reply": "2020-11-30T08:01:19.027952Z"
    },
    "papermill": {
     "duration": 0.052323,
     "end_time": "2020-11-30T08:01:19.028875",
     "exception": false,
     "start_time": "2020-11-30T08:01:18.976552",
     "status": "completed"
    },
    "tags": []
   },
   "outputs": [
    {
     "data": {
      "text/html": [
       "<div>\n",
       "<style scoped>\n",
       "    .dataframe tbody tr th:only-of-type {\n",
       "        vertical-align: middle;\n",
       "    }\n",
       "\n",
       "    .dataframe tbody tr th {\n",
       "        vertical-align: top;\n",
       "    }\n",
       "\n",
       "    .dataframe thead th {\n",
       "        text-align: right;\n",
       "    }\n",
       "</style>\n",
       "<table border=\"1\" class=\"dataframe\">\n",
       "  <thead>\n",
       "    <tr style=\"text-align: right;\">\n",
       "      <th></th>\n",
       "      <th>user_id</th>\n",
       "      <th>nb_interactions</th>\n",
       "    </tr>\n",
       "  </thead>\n",
       "  <tbody>\n",
       "    <tr>\n",
       "      <th>0</th>\n",
       "      <td>801103753</td>\n",
       "      <td>17609</td>\n",
       "    </tr>\n",
       "    <tr>\n",
       "      <th>1</th>\n",
       "      <td>1478712595</td>\n",
       "      <td>16842</td>\n",
       "    </tr>\n",
       "    <tr>\n",
       "      <th>2</th>\n",
       "      <td>455973631</td>\n",
       "      <td>16640</td>\n",
       "    </tr>\n",
       "    <tr>\n",
       "      <th>3</th>\n",
       "      <td>1842816145</td>\n",
       "      <td>16533</td>\n",
       "    </tr>\n",
       "    <tr>\n",
       "      <th>4</th>\n",
       "      <td>1743444187</td>\n",
       "      <td>16424</td>\n",
       "    </tr>\n",
       "    <tr>\n",
       "      <th>...</th>\n",
       "      <td>...</td>\n",
       "      <td>...</td>\n",
       "    </tr>\n",
       "    <tr>\n",
       "      <th>209263</th>\n",
       "      <td>1707020841</td>\n",
       "      <td>40</td>\n",
       "    </tr>\n",
       "    <tr>\n",
       "      <th>209264</th>\n",
       "      <td>1659829486</td>\n",
       "      <td>40</td>\n",
       "    </tr>\n",
       "    <tr>\n",
       "      <th>209265</th>\n",
       "      <td>1707029461</td>\n",
       "      <td>40</td>\n",
       "    </tr>\n",
       "    <tr>\n",
       "      <th>209266</th>\n",
       "      <td>2104564793</td>\n",
       "      <td>40</td>\n",
       "    </tr>\n",
       "    <tr>\n",
       "      <th>209267</th>\n",
       "      <td>1282739655</td>\n",
       "      <td>40</td>\n",
       "    </tr>\n",
       "  </tbody>\n",
       "</table>\n",
       "<p>209268 rows × 2 columns</p>\n",
       "</div>"
      ],
      "text/plain": [
       "           user_id  nb_interactions\n",
       "0        801103753            17609\n",
       "1       1478712595            16842\n",
       "2        455973631            16640\n",
       "3       1842816145            16533\n",
       "4       1743444187            16424\n",
       "...            ...              ...\n",
       "209263  1707020841               40\n",
       "209264  1659829486               40\n",
       "209265  1707029461               40\n",
       "209266  2104564793               40\n",
       "209267  1282739655               40\n",
       "\n",
       "[209268 rows x 2 columns]"
      ]
     },
     "execution_count": 9,
     "metadata": {},
     "output_type": "execute_result"
    }
   ],
   "source": [
    "user_info = user_info[user_info.nb_interactions >= min_interaction]\n",
    "user_info"
   ]
  },
  {
   "cell_type": "code",
   "execution_count": 10,
   "metadata": {
    "execution": {
     "iopub.execute_input": "2020-11-30T08:01:19.085676Z",
     "iopub.status.busy": "2020-11-30T08:01:19.084297Z",
     "iopub.status.idle": "2020-11-30T08:01:32.037303Z",
     "shell.execute_reply": "2020-11-30T08:01:32.036542Z"
    },
    "papermill": {
     "duration": 12.98393,
     "end_time": "2020-11-30T08:01:32.037427",
     "exception": false,
     "start_time": "2020-11-30T08:01:19.053497",
     "status": "completed"
    },
    "tags": []
   },
   "outputs": [
    {
     "data": {
      "text/html": [
       "<div>\n",
       "<style scoped>\n",
       "    .dataframe tbody tr th:only-of-type {\n",
       "        vertical-align: middle;\n",
       "    }\n",
       "\n",
       "    .dataframe tbody tr th {\n",
       "        vertical-align: top;\n",
       "    }\n",
       "\n",
       "    .dataframe thead th {\n",
       "        text-align: right;\n",
       "    }\n",
       "</style>\n",
       "<table border=\"1\" class=\"dataframe\">\n",
       "  <thead>\n",
       "    <tr style=\"text-align: right;\">\n",
       "      <th></th>\n",
       "      <th>user_id</th>\n",
       "      <th>content_id</th>\n",
       "      <th>answered_correctly</th>\n",
       "      <th>prior_question_elapsed_time</th>\n",
       "      <th>prior_question_had_explanation</th>\n",
       "      <th>user_correctness</th>\n",
       "      <th>nb_interactions</th>\n",
       "    </tr>\n",
       "  </thead>\n",
       "  <tbody>\n",
       "    <tr>\n",
       "      <th>0</th>\n",
       "      <td>115</td>\n",
       "      <td>5692</td>\n",
       "      <td>1</td>\n",
       "      <td>NaN</td>\n",
       "      <td>False</td>\n",
       "      <td>NaN</td>\n",
       "      <td>46</td>\n",
       "    </tr>\n",
       "    <tr>\n",
       "      <th>1</th>\n",
       "      <td>115</td>\n",
       "      <td>5716</td>\n",
       "      <td>1</td>\n",
       "      <td>37000.0</td>\n",
       "      <td>False</td>\n",
       "      <td>1.000000</td>\n",
       "      <td>46</td>\n",
       "    </tr>\n",
       "    <tr>\n",
       "      <th>2</th>\n",
       "      <td>115</td>\n",
       "      <td>128</td>\n",
       "      <td>1</td>\n",
       "      <td>55000.0</td>\n",
       "      <td>False</td>\n",
       "      <td>1.000000</td>\n",
       "      <td>46</td>\n",
       "    </tr>\n",
       "    <tr>\n",
       "      <th>3</th>\n",
       "      <td>115</td>\n",
       "      <td>7860</td>\n",
       "      <td>1</td>\n",
       "      <td>19000.0</td>\n",
       "      <td>False</td>\n",
       "      <td>1.000000</td>\n",
       "      <td>46</td>\n",
       "    </tr>\n",
       "    <tr>\n",
       "      <th>4</th>\n",
       "      <td>115</td>\n",
       "      <td>7922</td>\n",
       "      <td>1</td>\n",
       "      <td>11000.0</td>\n",
       "      <td>False</td>\n",
       "      <td>1.000000</td>\n",
       "      <td>46</td>\n",
       "    </tr>\n",
       "    <tr>\n",
       "      <th>...</th>\n",
       "      <td>...</td>\n",
       "      <td>...</td>\n",
       "      <td>...</td>\n",
       "      <td>...</td>\n",
       "      <td>...</td>\n",
       "      <td>...</td>\n",
       "      <td>...</td>\n",
       "    </tr>\n",
       "    <tr>\n",
       "      <th>94699798</th>\n",
       "      <td>2147482216</td>\n",
       "      <td>1115</td>\n",
       "      <td>1</td>\n",
       "      <td>16000.0</td>\n",
       "      <td>True</td>\n",
       "      <td>0.637037</td>\n",
       "      <td>275</td>\n",
       "    </tr>\n",
       "    <tr>\n",
       "      <th>94699799</th>\n",
       "      <td>2147482216</td>\n",
       "      <td>1220</td>\n",
       "      <td>1</td>\n",
       "      <td>15000.0</td>\n",
       "      <td>True</td>\n",
       "      <td>0.638376</td>\n",
       "      <td>275</td>\n",
       "    </tr>\n",
       "    <tr>\n",
       "      <th>94699800</th>\n",
       "      <td>2147482216</td>\n",
       "      <td>869</td>\n",
       "      <td>1</td>\n",
       "      <td>18000.0</td>\n",
       "      <td>True</td>\n",
       "      <td>0.639706</td>\n",
       "      <td>275</td>\n",
       "    </tr>\n",
       "    <tr>\n",
       "      <th>94699801</th>\n",
       "      <td>2147482216</td>\n",
       "      <td>1177</td>\n",
       "      <td>1</td>\n",
       "      <td>16000.0</td>\n",
       "      <td>True</td>\n",
       "      <td>0.641026</td>\n",
       "      <td>275</td>\n",
       "    </tr>\n",
       "    <tr>\n",
       "      <th>94699802</th>\n",
       "      <td>2147482216</td>\n",
       "      <td>1399</td>\n",
       "      <td>1</td>\n",
       "      <td>14000.0</td>\n",
       "      <td>True</td>\n",
       "      <td>0.642336</td>\n",
       "      <td>275</td>\n",
       "    </tr>\n",
       "  </tbody>\n",
       "</table>\n",
       "<p>94699803 rows × 7 columns</p>\n",
       "</div>"
      ],
      "text/plain": [
       "             user_id  content_id  answered_correctly  \\\n",
       "0                115        5692                   1   \n",
       "1                115        5716                   1   \n",
       "2                115         128                   1   \n",
       "3                115        7860                   1   \n",
       "4                115        7922                   1   \n",
       "...              ...         ...                 ...   \n",
       "94699798  2147482216        1115                   1   \n",
       "94699799  2147482216        1220                   1   \n",
       "94699800  2147482216         869                   1   \n",
       "94699801  2147482216        1177                   1   \n",
       "94699802  2147482216        1399                   1   \n",
       "\n",
       "          prior_question_elapsed_time  prior_question_had_explanation  \\\n",
       "0                                 NaN                           False   \n",
       "1                             37000.0                           False   \n",
       "2                             55000.0                           False   \n",
       "3                             19000.0                           False   \n",
       "4                             11000.0                           False   \n",
       "...                               ...                             ...   \n",
       "94699798                      16000.0                            True   \n",
       "94699799                      15000.0                            True   \n",
       "94699800                      18000.0                            True   \n",
       "94699801                      16000.0                            True   \n",
       "94699802                      14000.0                            True   \n",
       "\n",
       "          user_correctness  nb_interactions  \n",
       "0                      NaN               46  \n",
       "1                 1.000000               46  \n",
       "2                 1.000000               46  \n",
       "3                 1.000000               46  \n",
       "4                 1.000000               46  \n",
       "...                    ...              ...  \n",
       "94699798          0.637037              275  \n",
       "94699799          0.638376              275  \n",
       "94699800          0.639706              275  \n",
       "94699801          0.641026              275  \n",
       "94699802          0.642336              275  \n",
       "\n",
       "[94699803 rows x 7 columns]"
      ]
     },
     "execution_count": 10,
     "metadata": {},
     "output_type": "execute_result"
    }
   ],
   "source": [
    "train_df = pd.merge(train_df, user_info, on='user_id')\n",
    "train_df"
   ]
  },
  {
   "cell_type": "code",
   "execution_count": 11,
   "metadata": {
    "execution": {
     "iopub.execute_input": "2020-11-30T08:01:32.109431Z",
     "iopub.status.busy": "2020-11-30T08:01:32.108179Z",
     "iopub.status.idle": "2020-11-30T08:01:39.124907Z",
     "shell.execute_reply": "2020-11-30T08:01:39.124273Z"
    },
    "papermill": {
     "duration": 7.060703,
     "end_time": "2020-11-30T08:01:39.125038",
     "exception": false,
     "start_time": "2020-11-30T08:01:32.064335",
     "status": "completed"
    },
    "tags": []
   },
   "outputs": [],
   "source": [
    "# Récupération des 24 dernières interactions de chaque utilisateur.\n",
    "# C'est une manière de réduire considérablement le jeu de données,\n",
    "# en conservant les dernières interactions (les plus intéréssantes ?)\n",
    "# C'est aussi une manière de traiter l'aspect temporel des données\n",
    "train_df = train_df.groupby('user_id').tail(min_interaction).reset_index(drop=True)"
   ]
  },
  {
   "cell_type": "code",
   "execution_count": 12,
   "metadata": {
    "execution": {
     "iopub.execute_input": "2020-11-30T08:01:39.187372Z",
     "iopub.status.busy": "2020-11-30T08:01:39.186539Z",
     "iopub.status.idle": "2020-11-30T08:01:40.946527Z",
     "shell.execute_reply": "2020-11-30T08:01:40.945732Z"
    },
    "papermill": {
     "duration": 1.796517,
     "end_time": "2020-11-30T08:01:40.946657",
     "exception": false,
     "start_time": "2020-11-30T08:01:39.150140",
     "status": "completed"
    },
    "tags": []
   },
   "outputs": [],
   "source": [
    "# Récupération des parts du TOEIC\n",
    "questions_df = pd.read_csv(\n",
    "    '../input/riiid-test-answer-prediction/questions.csv', \n",
    "    usecols=[0, 3],\n",
    "    dtype={'question_id': 'int16', 'part': 'int8'}\n",
    ")\n",
    "train_df = pd.merge(train_df, questions_df, left_on='content_id', right_on='question_id', how='left')\n",
    "train_df.drop(columns=['question_id'], inplace=True)"
   ]
  },
  {
   "cell_type": "code",
   "execution_count": 13,
   "metadata": {
    "execution": {
     "iopub.execute_input": "2020-11-30T08:01:41.007533Z",
     "iopub.status.busy": "2020-11-30T08:01:41.004375Z",
     "iopub.status.idle": "2020-11-30T08:01:41.278938Z",
     "shell.execute_reply": "2020-11-30T08:01:41.278286Z"
    },
    "papermill": {
     "duration": 0.307338,
     "end_time": "2020-11-30T08:01:41.279089",
     "exception": false,
     "start_time": "2020-11-30T08:01:40.971751",
     "status": "completed"
    },
    "tags": []
   },
   "outputs": [],
   "source": [
    "# J'intègre le nombre d'apparitions totales de chaque contenu sur leurs lignes respectives\n",
    "train_df['content_count'] = train_df['content_id'].map(content_agg['count']).astype('int32')\n",
    "\n",
    "# Je transforme content_id en taux de réussite par contenu\n",
    "train_df['content_id'] = train_df['content_id'].map(content_agg['sum'] / content_agg['count'])"
   ]
  },
  {
   "cell_type": "code",
   "execution_count": 14,
   "metadata": {
    "execution": {
     "iopub.execute_input": "2020-11-30T08:01:41.336781Z",
     "iopub.status.busy": "2020-11-30T08:01:41.336001Z",
     "iopub.status.idle": "2020-11-30T08:01:44.356334Z",
     "shell.execute_reply": "2020-11-30T08:01:44.357330Z"
    },
    "papermill": {
     "duration": 3.052952,
     "end_time": "2020-11-30T08:01:44.357526",
     "exception": false,
     "start_time": "2020-11-30T08:01:41.304574",
     "status": "completed"
    },
    "tags": []
   },
   "outputs": [],
   "source": [
    "# Les 6 dernières lignes de chaque utilisateurs devient le jeu de validation\n",
    "# Cela represente un jeu de validation de 25 %\n",
    "valid_df = train_df.groupby('user_id').tail(min_interaction * 0.25)\n",
    "train_df.drop(valid_df.index, inplace=True)"
   ]
  },
  {
   "cell_type": "code",
   "execution_count": 15,
   "metadata": {
    "execution": {
     "iopub.execute_input": "2020-11-30T08:01:44.419344Z",
     "iopub.status.busy": "2020-11-30T08:01:44.418566Z",
     "iopub.status.idle": "2020-11-30T08:01:44.435309Z",
     "shell.execute_reply": "2020-11-30T08:01:44.434667Z"
    },
    "papermill": {
     "duration": 0.051105,
     "end_time": "2020-11-30T08:01:44.435444",
     "exception": false,
     "start_time": "2020-11-30T08:01:44.384339",
     "status": "completed"
    },
    "tags": []
   },
   "outputs": [
    {
     "data": {
      "text/html": [
       "<div>\n",
       "<style scoped>\n",
       "    .dataframe tbody tr th:only-of-type {\n",
       "        vertical-align: middle;\n",
       "    }\n",
       "\n",
       "    .dataframe tbody tr th {\n",
       "        vertical-align: top;\n",
       "    }\n",
       "\n",
       "    .dataframe thead th {\n",
       "        text-align: right;\n",
       "    }\n",
       "</style>\n",
       "<table border=\"1\" class=\"dataframe\">\n",
       "  <thead>\n",
       "    <tr style=\"text-align: right;\">\n",
       "      <th></th>\n",
       "      <th>user_id</th>\n",
       "      <th>content_id</th>\n",
       "      <th>answered_correctly</th>\n",
       "      <th>prior_question_elapsed_time</th>\n",
       "      <th>prior_question_had_explanation</th>\n",
       "      <th>user_correctness</th>\n",
       "      <th>nb_interactions</th>\n",
       "      <th>part</th>\n",
       "      <th>content_count</th>\n",
       "    </tr>\n",
       "  </thead>\n",
       "  <tbody>\n",
       "    <tr>\n",
       "      <th>0</th>\n",
       "      <td>115</td>\n",
       "      <td>0.929730</td>\n",
       "      <td>1</td>\n",
       "      <td>17000.0</td>\n",
       "      <td>False</td>\n",
       "      <td>1.0</td>\n",
       "      <td>46</td>\n",
       "      <td>1</td>\n",
       "      <td>24107</td>\n",
       "    </tr>\n",
       "    <tr>\n",
       "      <th>1</th>\n",
       "      <td>115</td>\n",
       "      <td>0.918368</td>\n",
       "      <td>1</td>\n",
       "      <td>17000.0</td>\n",
       "      <td>False</td>\n",
       "      <td>1.0</td>\n",
       "      <td>46</td>\n",
       "      <td>1</td>\n",
       "      <td>21401</td>\n",
       "    </tr>\n",
       "    <tr>\n",
       "      <th>2</th>\n",
       "      <td>115</td>\n",
       "      <td>0.944852</td>\n",
       "      <td>1</td>\n",
       "      <td>16000.0</td>\n",
       "      <td>False</td>\n",
       "      <td>1.0</td>\n",
       "      <td>46</td>\n",
       "      <td>1</td>\n",
       "      <td>22086</td>\n",
       "    </tr>\n",
       "    <tr>\n",
       "      <th>3</th>\n",
       "      <td>115</td>\n",
       "      <td>0.895253</td>\n",
       "      <td>1</td>\n",
       "      <td>16000.0</td>\n",
       "      <td>False</td>\n",
       "      <td>1.0</td>\n",
       "      <td>46</td>\n",
       "      <td>1</td>\n",
       "      <td>48307</td>\n",
       "    </tr>\n",
       "    <tr>\n",
       "      <th>4</th>\n",
       "      <td>115</td>\n",
       "      <td>0.882571</td>\n",
       "      <td>0</td>\n",
       "      <td>17000.0</td>\n",
       "      <td>False</td>\n",
       "      <td>1.0</td>\n",
       "      <td>46</td>\n",
       "      <td>1</td>\n",
       "      <td>22422</td>\n",
       "    </tr>\n",
       "  </tbody>\n",
       "</table>\n",
       "</div>"
      ],
      "text/plain": [
       "   user_id  content_id  answered_correctly  prior_question_elapsed_time  \\\n",
       "0      115    0.929730                   1                      17000.0   \n",
       "1      115    0.918368                   1                      17000.0   \n",
       "2      115    0.944852                   1                      16000.0   \n",
       "3      115    0.895253                   1                      16000.0   \n",
       "4      115    0.882571                   0                      17000.0   \n",
       "\n",
       "   prior_question_had_explanation  user_correctness  nb_interactions  part  \\\n",
       "0                           False               1.0               46     1   \n",
       "1                           False               1.0               46     1   \n",
       "2                           False               1.0               46     1   \n",
       "3                           False               1.0               46     1   \n",
       "4                           False               1.0               46     1   \n",
       "\n",
       "   content_count  \n",
       "0          24107  \n",
       "1          21401  \n",
       "2          22086  \n",
       "3          48307  \n",
       "4          22422  "
      ]
     },
     "execution_count": 15,
     "metadata": {},
     "output_type": "execute_result"
    }
   ],
   "source": [
    "train_df.head()"
   ]
  },
  {
   "cell_type": "markdown",
   "metadata": {
    "papermill": {
     "duration": 0.026751,
     "end_time": "2020-11-30T08:01:44.488684",
     "exception": false,
     "start_time": "2020-11-30T08:01:44.461933",
     "status": "completed"
    },
    "tags": []
   },
   "source": [
    "Points d'amélioration :\n",
    "- 0/ ~~Essayer mon nettoyage. Soumettre~~ *Résultat dévalué*\n",
    "- 1/ ~~Vérifier si tous les users ont au moins 24 interactions. Soumettre.~~ *Dévalué sur LB, meilleur en local | Option pour le LB privé*\n",
    "> Pour être bon au leaderboard public il faut laisser tous les users, pas sur que ce soit le cas pour le leaderboard privé\n",
    "- 2/ Essayer les parts de train et val (actuellement 24 / 6).\n",
    "- 3/ Injecter mes propres features, 1 à 1. Soumettre à chaque nouvelles features.\n",
    "\n",
    "- Régler les paramètres du modèle (actuellement standard)\n"
   ]
  },
  {
   "cell_type": "markdown",
   "metadata": {
    "papermill": {
     "duration": 0.025898,
     "end_time": "2020-11-30T08:01:44.542547",
     "exception": false,
     "start_time": "2020-11-30T08:01:44.516649",
     "status": "completed"
    },
    "tags": []
   },
   "source": [
    "# Train"
   ]
  },
  {
   "cell_type": "code",
   "execution_count": 16,
   "metadata": {
    "execution": {
     "iopub.execute_input": "2020-11-30T08:01:44.603165Z",
     "iopub.status.busy": "2020-11-30T08:01:44.602350Z",
     "iopub.status.idle": "2020-11-30T08:01:44.606167Z",
     "shell.execute_reply": "2020-11-30T08:01:44.605440Z"
    },
    "papermill": {
     "duration": 0.037357,
     "end_time": "2020-11-30T08:01:44.606297",
     "exception": false,
     "start_time": "2020-11-30T08:01:44.568940",
     "status": "completed"
    },
    "tags": []
   },
   "outputs": [],
   "source": [
    "features = [\n",
    "    'content_id',\n",
    "    'prior_question_elapsed_time',\n",
    "    'prior_question_had_explanation',\n",
    "    'user_correctness',\n",
    "    'part',\n",
    "    'content_count'\n",
    "]\n",
    "\n",
    "params = {\n",
    "    'objective': 'binary',\n",
    "    'seed': 42,\n",
    "    'metric': 'auc',\n",
    "    'learning_rate': 0.05,\n",
    "    'max_bin': 800,\n",
    "    'num_leaves': 80\n",
    "}"
   ]
  },
  {
   "cell_type": "code",
   "execution_count": 17,
   "metadata": {
    "execution": {
     "iopub.execute_input": "2020-11-30T08:01:44.748671Z",
     "iopub.status.busy": "2020-11-30T08:01:44.703654Z",
     "iopub.status.idle": "2020-11-30T08:40:44.877120Z",
     "shell.execute_reply": "2020-11-30T08:40:44.877858Z"
    },
    "papermill": {
     "duration": 2340.244846,
     "end_time": "2020-11-30T08:40:44.878242",
     "exception": false,
     "start_time": "2020-11-30T08:01:44.633396",
     "status": "completed"
    },
    "tags": []
   },
   "outputs": [
    {
     "name": "stdout",
     "output_type": "stream",
     "text": [
      "Training until validation scores don't improve for 50 rounds\n",
      "[50]\ttraining's auc: 0.744082\tvalid_1's auc: 0.725269\n",
      "[100]\ttraining's auc: 0.745462\tvalid_1's auc: 0.726448\n",
      "[150]\ttraining's auc: 0.746046\tvalid_1's auc: 0.726934\n",
      "[200]\ttraining's auc: 0.746355\tvalid_1's auc: 0.727103\n",
      "[250]\ttraining's auc: 0.746579\tvalid_1's auc: 0.72718\n",
      "[300]\ttraining's auc: 0.746799\tvalid_1's auc: 0.727259\n",
      "[350]\ttraining's auc: 0.747005\tvalid_1's auc: 0.727325\n",
      "[400]\ttraining's auc: 0.747226\tvalid_1's auc: 0.727389\n",
      "[450]\ttraining's auc: 0.747435\tvalid_1's auc: 0.727441\n",
      "[500]\ttraining's auc: 0.74765\tvalid_1's auc: 0.727486\n",
      "[550]\ttraining's auc: 0.747852\tvalid_1's auc: 0.727529\n",
      "[600]\ttraining's auc: 0.748054\tvalid_1's auc: 0.727562\n",
      "[650]\ttraining's auc: 0.748229\tvalid_1's auc: 0.727591\n",
      "[700]\ttraining's auc: 0.748414\tvalid_1's auc: 0.727623\n",
      "[750]\ttraining's auc: 0.748598\tvalid_1's auc: 0.727645\n",
      "[800]\ttraining's auc: 0.748777\tvalid_1's auc: 0.727662\n",
      "[850]\ttraining's auc: 0.748943\tvalid_1's auc: 0.72768\n",
      "[900]\ttraining's auc: 0.749124\tvalid_1's auc: 0.72769\n",
      "[950]\ttraining's auc: 0.749305\tvalid_1's auc: 0.727708\n",
      "[1000]\ttraining's auc: 0.749492\tvalid_1's auc: 0.727726\n",
      "[1050]\ttraining's auc: 0.749662\tvalid_1's auc: 0.727739\n",
      "[1100]\ttraining's auc: 0.749837\tvalid_1's auc: 0.727757\n",
      "[1150]\ttraining's auc: 0.750033\tvalid_1's auc: 0.727779\n",
      "[1200]\ttraining's auc: 0.750219\tvalid_1's auc: 0.727796\n",
      "[1250]\ttraining's auc: 0.750409\tvalid_1's auc: 0.727818\n",
      "[1300]\ttraining's auc: 0.750579\tvalid_1's auc: 0.72783\n",
      "[1350]\ttraining's auc: 0.750775\tvalid_1's auc: 0.727849\n",
      "[1400]\ttraining's auc: 0.750955\tvalid_1's auc: 0.727856\n",
      "Early stopping, best iteration is:\n",
      "[1384]\ttraining's auc: 0.750902\tvalid_1's auc: 0.727857\n"
     ]
    },
    {
     "data": {
      "image/png": "[encoded data removed]",
      "text/plain": [
       "<Figure size 432x288 with 1 Axes>"
      ]
     },
     "metadata": {
      "needs_background": "light"
     },
     "output_type": "display_data"
    }
   ],
   "source": [
    "tr_data = lgb.Dataset(train_df[features], label=train_df[target])\n",
    "va_data = lgb.Dataset(valid_df[features], label=valid_df[target])\n",
    "\n",
    "model = lgb.train(\n",
    "    params, \n",
    "    tr_data, \n",
    "    num_boost_round=10000,\n",
    "    valid_sets=[tr_data, va_data], \n",
    "    early_stopping_rounds=50,\n",
    "    verbose_eval=50\n",
    ")\n",
    "\n",
    "# model.save_model(f'model.txt')\n",
    "lgb.plot_importance(model, importance_type='gain')\n",
    "plt.show()"
   ]
  },
  {
   "cell_type": "markdown",
   "metadata": {
    "papermill": {
     "duration": 0.047447,
     "end_time": "2020-11-30T08:40:44.966275",
     "exception": false,
     "start_time": "2020-11-30T08:40:44.918828",
     "status": "completed"
    },
    "tags": []
   },
   "source": [
    "# Inference"
   ]
  },
  {
   "cell_type": "code",
   "execution_count": 18,
   "metadata": {
    "execution": {
     "iopub.execute_input": "2020-11-30T08:40:45.080052Z",
     "iopub.status.busy": "2020-11-30T08:40:45.078928Z",
     "iopub.status.idle": "2020-11-30T08:40:45.583669Z",
     "shell.execute_reply": "2020-11-30T08:40:45.582878Z"
    },
    "papermill": {
     "duration": 0.571184,
     "end_time": "2020-11-30T08:40:45.583797",
     "exception": false,
     "start_time": "2020-11-30T08:40:45.012613",
     "status": "completed"
    },
    "tags": []
   },
   "outputs": [],
   "source": [
    "user_sum_dict = user_agg['sum'].astype('int16').to_dict(defaultdict(int))\n",
    "user_count_dict = user_agg['count'].astype('int16').to_dict(defaultdict(int))\n",
    "content_sum_dict = content_agg['sum'].astype('int32').to_dict(defaultdict(int))\n",
    "content_count_dict = content_agg['count'].astype('int32').to_dict(defaultdict(int))"
   ]
  },
  {
   "cell_type": "code",
   "execution_count": 19,
   "metadata": {
    "execution": {
     "iopub.execute_input": "2020-11-30T08:40:45.673104Z",
     "iopub.status.busy": "2020-11-30T08:40:45.672299Z",
     "iopub.status.idle": "2020-11-30T08:40:45.676043Z",
     "shell.execute_reply": "2020-11-30T08:40:45.675240Z"
    },
    "papermill": {
     "duration": 0.050759,
     "end_time": "2020-11-30T08:40:45.676171",
     "exception": false,
     "start_time": "2020-11-30T08:40:45.625412",
     "status": "completed"
    },
    "tags": []
   },
   "outputs": [],
   "source": [
    "# model = lgb.Booster(model_file='../input/riiid-lgbm-starter/model.txt')\n",
    "env = riiideducation.make_env()\n",
    "iter_test = env.iter_test()\n",
    "prior_test_df = None"
   ]
  },
  {
   "cell_type": "code",
   "execution_count": 20,
   "metadata": {
    "execution": {
     "iopub.execute_input": "2020-11-30T08:40:45.784762Z",
     "iopub.status.busy": "2020-11-30T08:40:45.783971Z",
     "iopub.status.idle": "2020-11-30T08:40:46.652337Z",
     "shell.execute_reply": "2020-11-30T08:40:46.651683Z"
    },
    "papermill": {
     "duration": 0.936243,
     "end_time": "2020-11-30T08:40:46.652473",
     "exception": false,
     "start_time": "2020-11-30T08:40:45.716230",
     "status": "completed"
    },
    "tags": []
   },
   "outputs": [
    {
     "name": "stdout",
     "output_type": "stream",
     "text": [
      "CPU times: user 1.25 s, sys: 81.1 ms, total: 1.33 s\n",
      "Wall time: 867 ms\n"
     ]
    }
   ],
   "source": [
    "%%time\n",
    "\n",
    "for (test_df, sample_prediction_df) in iter_test:\n",
    "    if prior_test_df is not None:\n",
    "        prior_test_df[target] = eval(test_df['prior_group_answers_correct'].iloc[0])\n",
    "        prior_test_df = prior_test_df[prior_test_df[target] != -1].reset_index(drop=True)\n",
    "        \n",
    "        user_ids = prior_test_df['user_id'].values\n",
    "        content_ids = prior_test_df['content_id'].values\n",
    "        targets = prior_test_df[target].values\n",
    "        \n",
    "        for user_id, content_id, answered_correctly in zip(user_ids, content_ids, targets):\n",
    "            user_sum_dict[user_id] += answered_correctly\n",
    "            user_count_dict[user_id] += 1\n",
    "            content_sum_dict[content_id] += answered_correctly\n",
    "            content_count_dict[content_id] += 1\n",
    "\n",
    "    prior_test_df = test_df.copy()\n",
    "    \n",
    "    test_df = test_df[test_df['content_type_id'] == 0].reset_index(drop=True)\n",
    "    test_df = pd.merge(test_df, questions_df, left_on='content_id', right_on='question_id', how='left')\n",
    "    test_df['prior_question_had_explanation'] = test_df['prior_question_had_explanation'].fillna(False).astype('bool')    \n",
    "    \n",
    "    user_sum = np.zeros(len(test_df), dtype=np.int16)\n",
    "    user_count = np.zeros(len(test_df), dtype=np.int16)\n",
    "    content_sum = np.zeros(len(test_df), dtype=np.int32)\n",
    "    content_count = np.zeros(len(test_df), dtype=np.int32)\n",
    "    \n",
    "    for i, (user_id, content_id) in enumerate(zip(test_df['user_id'].values, test_df['content_id'].values)):\n",
    "        user_sum[i] = user_sum_dict[user_id]\n",
    "        user_count[i] = user_count_dict[user_id]\n",
    "        content_sum[i] = content_sum_dict[content_id]\n",
    "        content_count[i] = content_count_dict[content_id]\n",
    "\n",
    "    test_df['user_correctness'] = user_sum / user_count\n",
    "    test_df['content_count'] = content_count\n",
    "    test_df['content_id'] = content_sum / content_count\n",
    "       \n",
    "    test_df[target] = model.predict(test_df[features])\n",
    "    env.predict(test_df[['row_id', target]])"
   ]
  },
  {
   "cell_type": "code",
   "execution_count": null,
   "metadata": {
    "papermill": {
     "duration": 0.042385,
     "end_time": "2020-11-30T08:40:46.737242",
     "exception": false,
     "start_time": "2020-11-30T08:40:46.694857",
     "status": "completed"
    },
    "tags": []
   },
   "outputs": [],
   "source": []
  }
 ],
 "metadata": {
  "kernelspec": {
   "display_name": "Python 3",
   "language": "python",
   "name": "python3"
  },
  "language_info": {
   "codemirror_mode": {
    "name": "ipython",
    "version": 3
   },
   "file_extension": ".py",
   "mimetype": "text/x-python",
   "name": "python",
   "nbconvert_exporter": "python",
   "pygments_lexer": "ipython3",
   "version": "3.7.6"
  },
  "papermill": {
   "duration": 2517.921583,
   "end_time": "2020-11-30T08:40:46.887008",
   "environment_variables": {},
   "exception": null,
   "input_path": "__notebook__.ipynb",
   "output_path": "__notebook__.ipynb",
   "parameters": {},
   "start_time": "2020-11-30T07:58:48.965425",
   "version": "2.1.0"
  }
 },
 "nbformat": 4,
 "nbformat_minor": 4
}
