{
 "cells": [
  {
   "cell_type": "code",
   "execution_count": 1,
   "metadata": {
    "_cell_guid": "b1076dfc-b9ad-4769-8c92-a6c4dae69d19",
    "_uuid": "8f2839f25d086af736a60e9eeb907d3b93b6e0e5",
    "execution": {
     "iopub.execute_input": "2020-11-28T16:38:38.319432Z",
     "iopub.status.busy": "2020-11-28T16:38:38.318675Z",
     "iopub.status.idle": "2020-11-28T16:39:09.175735Z",
     "shell.execute_reply": "2020-11-28T16:39:09.174895Z"
    },
    "papermill": {
     "duration": 30.883063,
     "end_time": "2020-11-28T16:39:09.175864",
     "exception": false,
     "start_time": "2020-11-28T16:38:38.292801",
     "status": "completed"
    },
    "tags": []
   },
   "outputs": [],
   "source": [
    "!pip install ../input/python-datatable/datatable-0.11.0-cp37-cp37m-manylinux2010_x86_64.whl > /dev/null 2>&1"
   ]
  },
  {
   "cell_type": "code",
   "execution_count": 2,
   "metadata": {
    "_cell_guid": "79c7e3d0-c299-4dcb-8224-4455121ee9b0",
    "_uuid": "d629ff2d2480ee46fbb7e2d37f6b5fab8052498a",
    "execution": {
     "iopub.execute_input": "2020-11-28T16:39:09.217251Z",
     "iopub.status.busy": "2020-11-28T16:39:09.216497Z",
     "iopub.status.idle": "2020-11-28T16:39:10.378164Z",
     "shell.execute_reply": "2020-11-28T16:39:10.377382Z"
    },
    "papermill": {
     "duration": 1.185414,
     "end_time": "2020-11-28T16:39:10.378302",
     "exception": false,
     "start_time": "2020-11-28T16:39:09.192888",
     "status": "completed"
    },
    "tags": []
   },
   "outputs": [
    {
     "data": {
      "text/html": [
       "<style type='text/css'>\n",
       ".datatable table.frame { margin-bottom: 0; }\n",
       ".datatable table.frame thead { border-bottom: none; }\n",
       ".datatable table.frame tr.coltypes td {  color: #FFFFFF;  line-height: 6px;  padding: 0 0.5em;}\n",
       ".datatable .bool    { background: #DDDD99; }\n",
       ".datatable .object  { background: #565656; }\n",
       ".datatable .int     { background: #5D9E5D; }\n",
       ".datatable .float   { background: #4040CC; }\n",
       ".datatable .str     { background: #CC4040; }\n",
       ".datatable .row_index {  background: var(--jp-border-color3);  border-right: 1px solid var(--jp-border-color0);  color: var(--jp-ui-font-color3);  font-size: 9px;}\n",
       ".datatable .frame tr.coltypes .row_index {  background: var(--jp-border-color0);}\n",
       ".datatable th:nth-child(2) { padding-left: 12px; }\n",
       ".datatable .hellipsis {  color: var(--jp-cell-editor-border-color);}\n",
       ".datatable .vellipsis {  background: var(--jp-layout-color0);  color: var(--jp-cell-editor-border-color);}\n",
       ".datatable .na {  color: var(--jp-cell-editor-border-color);  font-size: 80%;}\n",
       ".datatable .footer { font-size: 9px; }\n",
       ".datatable .frame_dimensions {  background: var(--jp-border-color3);  border-top: 1px solid var(--jp-border-color0);  color: var(--jp-ui-font-color3);  display: inline-block;  opacity: 0.6;  padding: 1px 10px 1px 5px;}\n",
       "</style>\n"
      ],
      "text/plain": [
       "<IPython.core.display.HTML object>"
      ]
     },
     "metadata": {},
     "output_type": "display_data"
    }
   ],
   "source": [
    "import numpy as np\n",
    "import pandas as pd\n",
    "from collections import defaultdict\n",
    "import datatable as dt\n",
    "import lightgbm as lgb\n",
    "from matplotlib import pyplot as plt\n",
    "import riiideducation\n",
    "\n",
    "_ = np.seterr(divide='ignore', invalid='ignore')"
   ]
  },
  {
   "cell_type": "markdown",
   "metadata": {
    "papermill": {
     "duration": 0.016859,
     "end_time": "2020-11-28T16:39:10.413117",
     "exception": false,
     "start_time": "2020-11-28T16:39:10.396258",
     "status": "completed"
    },
    "tags": []
   },
   "source": [
    "# Preprocess"
   ]
  },
  {
   "cell_type": "code",
   "execution_count": 3,
   "metadata": {
    "execution": {
     "iopub.execute_input": "2020-11-28T16:39:10.455111Z",
     "iopub.status.busy": "2020-11-28T16:39:10.454151Z",
     "iopub.status.idle": "2020-11-28T16:39:10.457346Z",
     "shell.execute_reply": "2020-11-28T16:39:10.456720Z"
    },
    "papermill": {
     "duration": 0.026599,
     "end_time": "2020-11-28T16:39:10.457481",
     "exception": false,
     "start_time": "2020-11-28T16:39:10.430882",
     "status": "completed"
    },
    "tags": []
   },
   "outputs": [],
   "source": [
    "data_types_dict = {\n",
    "    'user_id': 'int32', \n",
    "    'content_id': 'int16', \n",
    "    'answered_correctly': 'int8', \n",
    "    'prior_question_elapsed_time': 'float32', \n",
    "    'prior_question_had_explanation': 'bool'\n",
    "}\n",
    "target = 'answered_correctly'"
   ]
  },
  {
   "cell_type": "code",
   "execution_count": 4,
   "metadata": {
    "execution": {
     "iopub.execute_input": "2020-11-28T16:39:10.499137Z",
     "iopub.status.busy": "2020-11-28T16:39:10.498391Z",
     "iopub.status.idle": "2020-11-28T16:39:13.682406Z",
     "shell.execute_reply": "2020-11-28T16:39:13.681455Z"
    },
    "papermill": {
     "duration": 3.207443,
     "end_time": "2020-11-28T16:39:13.682614",
     "exception": false,
     "start_time": "2020-11-28T16:39:10.475171",
     "status": "completed"
    },
    "tags": []
   },
   "outputs": [
    {
     "name": "stdout",
     "output_type": "stream",
     "text": [
      "<class 'pandas.core.frame.DataFrame'>\n",
      "Int64Index: 21973260 entries, 0 to 21973259\n",
      "Data columns (total 10 columns):\n",
      " #   Column                          Dtype  \n",
      "---  ------                          -----  \n",
      " 0   row_id                          int64  \n",
      " 1   timestamp                       int64  \n",
      " 2   user_id                         int32  \n",
      " 3   content_id                      int16  \n",
      " 4   content_type_id                 int8   \n",
      " 5   task_container_id               int16  \n",
      " 6   user_answer                     int8   \n",
      " 7   answered_correctly              int8   \n",
      " 8   prior_question_elapsed_time     float32\n",
      " 9   prior_question_had_explanation  boolean\n",
      "dtypes: boolean(1), float32(1), int16(2), int32(1), int64(2), int8(3)\n",
      "memory usage: 859.2 MB\n",
      "CPU times: user 434 ms, sys: 1.89 s, total: 2.33 s\n",
      "Wall time: 3.18 s\n"
     ]
    }
   ],
   "source": [
    "%%time\n",
    "path = \"../input/cleaning-users-features-engineering/reduced_riiid_train.pkl.gzip\"\n",
    "train_df = pd.read_pickle(path)\n",
    "train_df.info()"
   ]
  },
  {
   "cell_type": "code",
   "execution_count": 5,
   "metadata": {
    "execution": {
     "iopub.execute_input": "2020-11-28T16:39:13.728108Z",
     "iopub.status.busy": "2020-11-28T16:39:13.727332Z",
     "iopub.status.idle": "2020-11-28T16:39:16.144133Z",
     "shell.execute_reply": "2020-11-28T16:39:16.143371Z"
    },
    "papermill": {
     "duration": 2.44329,
     "end_time": "2020-11-28T16:39:16.144285",
     "exception": false,
     "start_time": "2020-11-28T16:39:13.700995",
     "status": "completed"
    },
    "tags": []
   },
   "outputs": [],
   "source": [
    "# train_df = dt.fread('../input/riiid-test-answer-prediction/train.csv', columns=set(data_types_dict.keys())).to_pandas()\n",
    "train_df = train_df[train_df[target] != -1].reset_index(drop=True)\n",
    "train_df['prior_question_had_explanation'].fillna(False, inplace=True)\n",
    "train_df = train_df.astype(data_types_dict)"
   ]
  },
  {
   "cell_type": "code",
   "execution_count": 6,
   "metadata": {
    "execution": {
     "iopub.execute_input": "2020-11-28T16:39:16.192509Z",
     "iopub.status.busy": "2020-11-28T16:39:16.191725Z",
     "iopub.status.idle": "2020-11-28T16:39:20.097679Z",
     "shell.execute_reply": "2020-11-28T16:39:20.096861Z"
    },
    "papermill": {
     "duration": 3.934102,
     "end_time": "2020-11-28T16:39:20.097811",
     "exception": false,
     "start_time": "2020-11-28T16:39:16.163709",
     "status": "completed"
    },
    "tags": []
   },
   "outputs": [],
   "source": [
    "train_df['lag'] = train_df.groupby('user_id')[target].shift()\n",
    "cum = train_df.groupby('user_id')['lag'].agg(['cumsum', 'cumcount'])\n",
    "train_df['user_correctness'] = cum['cumsum'] / cum['cumcount']\n",
    "train_df.drop(columns=['lag'], inplace=True)"
   ]
  },
  {
   "cell_type": "code",
   "execution_count": 7,
   "metadata": {
    "execution": {
     "iopub.execute_input": "2020-11-28T16:39:20.142509Z",
     "iopub.status.busy": "2020-11-28T16:39:20.141671Z",
     "iopub.status.idle": "2020-11-28T16:39:22.012933Z",
     "shell.execute_reply": "2020-11-28T16:39:22.012180Z"
    },
    "papermill": {
     "duration": 1.896662,
     "end_time": "2020-11-28T16:39:22.013082",
     "exception": false,
     "start_time": "2020-11-28T16:39:20.116420",
     "status": "completed"
    },
    "tags": []
   },
   "outputs": [],
   "source": [
    "user_agg = train_df.groupby('user_id')[target].agg(['sum', 'count'])\n",
    "content_agg = train_df.groupby('content_id')[target].agg(['sum', 'count'])"
   ]
  },
  {
   "cell_type": "code",
   "execution_count": 8,
   "metadata": {
    "execution": {
     "iopub.execute_input": "2020-11-28T16:39:22.056883Z",
     "iopub.status.busy": "2020-11-28T16:39:22.056091Z",
     "iopub.status.idle": "2020-11-28T16:39:23.792595Z",
     "shell.execute_reply": "2020-11-28T16:39:23.791796Z"
    },
    "papermill": {
     "duration": 1.760695,
     "end_time": "2020-11-28T16:39:23.792722",
     "exception": false,
     "start_time": "2020-11-28T16:39:22.032027",
     "status": "completed"
    },
    "tags": []
   },
   "outputs": [],
   "source": [
    "train_df = train_df.groupby('user_id').tail(24).reset_index(drop=True)"
   ]
  },
  {
   "cell_type": "code",
   "execution_count": 9,
   "metadata": {
    "execution": {
     "iopub.execute_input": "2020-11-28T16:39:23.842474Z",
     "iopub.status.busy": "2020-11-28T16:39:23.841641Z",
     "iopub.status.idle": "2020-11-28T16:39:24.628516Z",
     "shell.execute_reply": "2020-11-28T16:39:24.627613Z"
    },
    "papermill": {
     "duration": 0.816148,
     "end_time": "2020-11-28T16:39:24.628650",
     "exception": false,
     "start_time": "2020-11-28T16:39:23.812502",
     "status": "completed"
    },
    "tags": []
   },
   "outputs": [],
   "source": [
    "questions_df = pd.read_csv(\n",
    "    '../input/riiid-test-answer-prediction/questions.csv', \n",
    "    usecols=[0, 3],\n",
    "    dtype={'question_id': 'int16', 'part': 'int8'}\n",
    ")\n",
    "train_df = pd.merge(train_df, questions_df, left_on='content_id', right_on='question_id', how='left')\n",
    "train_df.drop(columns=['question_id'], inplace=True)"
   ]
  },
  {
   "cell_type": "code",
   "execution_count": 10,
   "metadata": {
    "execution": {
     "iopub.execute_input": "2020-11-28T16:39:24.674449Z",
     "iopub.status.busy": "2020-11-28T16:39:24.673590Z",
     "iopub.status.idle": "2020-11-28T16:39:24.758956Z",
     "shell.execute_reply": "2020-11-28T16:39:24.758202Z"
    },
    "papermill": {
     "duration": 0.110908,
     "end_time": "2020-11-28T16:39:24.759106",
     "exception": false,
     "start_time": "2020-11-28T16:39:24.648198",
     "status": "completed"
    },
    "tags": []
   },
   "outputs": [],
   "source": [
    "train_df['content_count'] = train_df['content_id'].map(content_agg['count']).astype('int32')\n",
    "train_df['content_id'] = train_df['content_id'].map(content_agg['sum'] / content_agg['count'])"
   ]
  },
  {
   "cell_type": "code",
   "execution_count": 11,
   "metadata": {
    "execution": {
     "iopub.execute_input": "2020-11-28T16:39:24.804011Z",
     "iopub.status.busy": "2020-11-28T16:39:24.803242Z",
     "iopub.status.idle": "2020-11-28T16:39:25.988304Z",
     "shell.execute_reply": "2020-11-28T16:39:25.988908Z"
    },
    "papermill": {
     "duration": 1.210665,
     "end_time": "2020-11-28T16:39:25.989118",
     "exception": false,
     "start_time": "2020-11-28T16:39:24.778453",
     "status": "completed"
    },
    "tags": []
   },
   "outputs": [],
   "source": [
    "valid_df = train_df.groupby('user_id').tail(6)\n",
    "train_df.drop(valid_df.index, inplace=True)"
   ]
  },
  {
   "cell_type": "code",
   "execution_count": 12,
   "metadata": {
    "execution": {
     "iopub.execute_input": "2020-11-28T16:39:26.041655Z",
     "iopub.status.busy": "2020-11-28T16:39:26.040792Z",
     "iopub.status.idle": "2020-11-28T16:39:26.054249Z",
     "shell.execute_reply": "2020-11-28T16:39:26.053560Z"
    },
    "papermill": {
     "duration": 0.044762,
     "end_time": "2020-11-28T16:39:26.054392",
     "exception": false,
     "start_time": "2020-11-28T16:39:26.009630",
     "status": "completed"
    },
    "tags": []
   },
   "outputs": [
    {
     "data": {
      "text/html": [
       "<div>\n",
       "<style scoped>\n",
       "    .dataframe tbody tr th:only-of-type {\n",
       "        vertical-align: middle;\n",
       "    }\n",
       "\n",
       "    .dataframe tbody tr th {\n",
       "        vertical-align: top;\n",
       "    }\n",
       "\n",
       "    .dataframe thead th {\n",
       "        text-align: right;\n",
       "    }\n",
       "</style>\n",
       "<table border=\"1\" class=\"dataframe\">\n",
       "  <thead>\n",
       "    <tr style=\"text-align: right;\">\n",
       "      <th></th>\n",
       "      <th>row_id</th>\n",
       "      <th>timestamp</th>\n",
       "      <th>user_id</th>\n",
       "      <th>content_id</th>\n",
       "      <th>content_type_id</th>\n",
       "      <th>task_container_id</th>\n",
       "      <th>user_answer</th>\n",
       "      <th>answered_correctly</th>\n",
       "      <th>prior_question_elapsed_time</th>\n",
       "      <th>prior_question_had_explanation</th>\n",
       "      <th>user_correctness</th>\n",
       "      <th>part</th>\n",
       "      <th>content_count</th>\n",
       "    </tr>\n",
       "  </thead>\n",
       "  <tbody>\n",
       "    <tr>\n",
       "      <th>0</th>\n",
       "      <td>22</td>\n",
       "      <td>534187</td>\n",
       "      <td>115</td>\n",
       "      <td>0.675307</td>\n",
       "      <td>0</td>\n",
       "      <td>22</td>\n",
       "      <td>2</td>\n",
       "      <td>0</td>\n",
       "      <td>19000.0</td>\n",
       "      <td>False</td>\n",
       "      <td>0.727273</td>\n",
       "      <td>1</td>\n",
       "      <td>12230</td>\n",
       "    </tr>\n",
       "    <tr>\n",
       "      <th>1</th>\n",
       "      <td>23</td>\n",
       "      <td>557677</td>\n",
       "      <td>115</td>\n",
       "      <td>0.592028</td>\n",
       "      <td>0</td>\n",
       "      <td>23</td>\n",
       "      <td>3</td>\n",
       "      <td>0</td>\n",
       "      <td>21000.0</td>\n",
       "      <td>False</td>\n",
       "      <td>0.695652</td>\n",
       "      <td>1</td>\n",
       "      <td>17185</td>\n",
       "    </tr>\n",
       "    <tr>\n",
       "      <th>2</th>\n",
       "      <td>24</td>\n",
       "      <td>575289</td>\n",
       "      <td>115</td>\n",
       "      <td>0.567251</td>\n",
       "      <td>0</td>\n",
       "      <td>24</td>\n",
       "      <td>3</td>\n",
       "      <td>1</td>\n",
       "      <td>22000.0</td>\n",
       "      <td>False</td>\n",
       "      <td>0.666667</td>\n",
       "      <td>1</td>\n",
       "      <td>14022</td>\n",
       "    </tr>\n",
       "    <tr>\n",
       "      <th>3</th>\n",
       "      <td>25</td>\n",
       "      <td>597863</td>\n",
       "      <td>115</td>\n",
       "      <td>0.429466</td>\n",
       "      <td>0</td>\n",
       "      <td>25</td>\n",
       "      <td>3</td>\n",
       "      <td>1</td>\n",
       "      <td>16000.0</td>\n",
       "      <td>False</td>\n",
       "      <td>0.680000</td>\n",
       "      <td>1</td>\n",
       "      <td>58582</td>\n",
       "    </tr>\n",
       "    <tr>\n",
       "      <th>4</th>\n",
       "      <td>26</td>\n",
       "      <td>621464</td>\n",
       "      <td>115</td>\n",
       "      <td>0.447794</td>\n",
       "      <td>0</td>\n",
       "      <td>26</td>\n",
       "      <td>2</td>\n",
       "      <td>1</td>\n",
       "      <td>20000.0</td>\n",
       "      <td>False</td>\n",
       "      <td>0.692308</td>\n",
       "      <td>1</td>\n",
       "      <td>20199</td>\n",
       "    </tr>\n",
       "  </tbody>\n",
       "</table>\n",
       "</div>"
      ],
      "text/plain": [
       "   row_id  timestamp  user_id  content_id  content_type_id  task_container_id  \\\n",
       "0      22     534187      115    0.675307                0                 22   \n",
       "1      23     557677      115    0.592028                0                 23   \n",
       "2      24     575289      115    0.567251                0                 24   \n",
       "3      25     597863      115    0.429466                0                 25   \n",
       "4      26     621464      115    0.447794                0                 26   \n",
       "\n",
       "   user_answer  answered_correctly  prior_question_elapsed_time  \\\n",
       "0            2                   0                      19000.0   \n",
       "1            3                   0                      21000.0   \n",
       "2            3                   1                      22000.0   \n",
       "3            3                   1                      16000.0   \n",
       "4            2                   1                      20000.0   \n",
       "\n",
       "   prior_question_had_explanation  user_correctness  part  content_count  \n",
       "0                           False          0.727273     1          12230  \n",
       "1                           False          0.695652     1          17185  \n",
       "2                           False          0.666667     1          14022  \n",
       "3                           False          0.680000     1          58582  \n",
       "4                           False          0.692308     1          20199  "
      ]
     },
     "execution_count": 12,
     "metadata": {},
     "output_type": "execute_result"
    }
   ],
   "source": [
    "train_df.head()"
   ]
  },
  {
   "cell_type": "markdown",
   "metadata": {
    "papermill": {
     "duration": 0.020042,
     "end_time": "2020-11-28T16:39:26.094714",
     "exception": false,
     "start_time": "2020-11-28T16:39:26.074672",
     "status": "completed"
    },
    "tags": []
   },
   "source": [
    "# Train"
   ]
  },
  {
   "cell_type": "code",
   "execution_count": 13,
   "metadata": {
    "execution": {
     "iopub.execute_input": "2020-11-28T16:39:26.143513Z",
     "iopub.status.busy": "2020-11-28T16:39:26.142591Z",
     "iopub.status.idle": "2020-11-28T16:39:26.145323Z",
     "shell.execute_reply": "2020-11-28T16:39:26.145906Z"
    },
    "papermill": {
     "duration": 0.030569,
     "end_time": "2020-11-28T16:39:26.146078",
     "exception": false,
     "start_time": "2020-11-28T16:39:26.115509",
     "status": "completed"
    },
    "tags": []
   },
   "outputs": [],
   "source": [
    "features = [\n",
    "    'content_id',\n",
    "    'prior_question_elapsed_time',\n",
    "    'prior_question_had_explanation',\n",
    "    'user_correctness',\n",
    "    'part',\n",
    "    'content_count'\n",
    "]\n",
    "\n",
    "params = {\n",
    "    'objective': 'binary',\n",
    "    'seed': 42,\n",
    "    'metric': 'auc',\n",
    "    'learning_rate': 0.05,\n",
    "    'max_bin': 800,\n",
    "    'num_leaves': 80\n",
    "}"
   ]
  },
  {
   "cell_type": "code",
   "execution_count": 14,
   "metadata": {
    "execution": {
     "iopub.execute_input": "2020-11-28T16:39:26.244560Z",
     "iopub.status.busy": "2020-11-28T16:39:26.243743Z",
     "iopub.status.idle": "2020-11-28T16:44:36.676523Z",
     "shell.execute_reply": "2020-11-28T16:44:36.677095Z"
    },
    "papermill": {
     "duration": 310.510732,
     "end_time": "2020-11-28T16:44:36.677278",
     "exception": false,
     "start_time": "2020-11-28T16:39:26.166546",
     "status": "completed"
    },
    "tags": []
   },
   "outputs": [
    {
     "name": "stdout",
     "output_type": "stream",
     "text": [
      "Training until validation scores don't improve for 50 rounds\n",
      "[50]\ttraining's auc: 0.738727\tvalid_1's auc: 0.726156\n",
      "[100]\ttraining's auc: 0.740157\tvalid_1's auc: 0.727146\n",
      "[150]\ttraining's auc: 0.740853\tvalid_1's auc: 0.727384\n",
      "[200]\ttraining's auc: 0.741271\tvalid_1's auc: 0.727434\n",
      "[250]\ttraining's auc: 0.741654\tvalid_1's auc: 0.727469\n",
      "[300]\ttraining's auc: 0.74206\tvalid_1's auc: 0.727505\n",
      "[350]\ttraining's auc: 0.742415\tvalid_1's auc: 0.72753\n",
      "[400]\ttraining's auc: 0.742807\tvalid_1's auc: 0.727544\n",
      "[450]\ttraining's auc: 0.743185\tvalid_1's auc: 0.727559\n",
      "[500]\ttraining's auc: 0.743538\tvalid_1's auc: 0.727558\n",
      "Early stopping, best iteration is:\n",
      "[472]\ttraining's auc: 0.743342\tvalid_1's auc: 0.727567\n"
     ]
    },
    {
     "data": {
      "image/png": "[encoded data removed]",
      "text/plain": [
       "<Figure size 432x288 with 1 Axes>"
      ]
     },
     "metadata": {
      "needs_background": "light"
     },
     "output_type": "display_data"
    }
   ],
   "source": [
    "tr_data = lgb.Dataset(train_df[features], label=train_df[target])\n",
    "va_data = lgb.Dataset(valid_df[features], label=valid_df[target])\n",
    "\n",
    "model = lgb.train(\n",
    "    params, \n",
    "    tr_data, \n",
    "    num_boost_round=10000,\n",
    "    valid_sets=[tr_data, va_data], \n",
    "    early_stopping_rounds=50,\n",
    "    verbose_eval=50\n",
    ")\n",
    "\n",
    "# model.save_model(f'model.txt')\n",
    "lgb.plot_importance(model, importance_type='gain')\n",
    "plt.show()"
   ]
  },
  {
   "cell_type": "markdown",
   "metadata": {
    "papermill": {
     "duration": 0.026106,
     "end_time": "2020-11-28T16:44:36.730159",
     "exception": false,
     "start_time": "2020-11-28T16:44:36.704053",
     "status": "completed"
    },
    "tags": []
   },
   "source": [
    "# Inference"
   ]
  },
  {
   "cell_type": "code",
   "execution_count": 15,
   "metadata": {
    "execution": {
     "iopub.execute_input": "2020-11-28T16:44:36.792276Z",
     "iopub.status.busy": "2020-11-28T16:44:36.791433Z",
     "iopub.status.idle": "2020-11-28T16:44:36.967399Z",
     "shell.execute_reply": "2020-11-28T16:44:36.966591Z"
    },
    "papermill": {
     "duration": 0.210786,
     "end_time": "2020-11-28T16:44:36.967531",
     "exception": false,
     "start_time": "2020-11-28T16:44:36.756745",
     "status": "completed"
    },
    "tags": []
   },
   "outputs": [],
   "source": [
    "user_sum_dict = user_agg['sum'].astype('int16').to_dict(defaultdict(int))\n",
    "user_count_dict = user_agg['count'].astype('int16').to_dict(defaultdict(int))\n",
    "content_sum_dict = content_agg['sum'].astype('int32').to_dict(defaultdict(int))\n",
    "content_count_dict = content_agg['count'].astype('int32').to_dict(defaultdict(int))"
   ]
  },
  {
   "cell_type": "code",
   "execution_count": 16,
   "metadata": {
    "execution": {
     "iopub.execute_input": "2020-11-28T16:44:37.029404Z",
     "iopub.status.busy": "2020-11-28T16:44:37.028236Z",
     "iopub.status.idle": "2020-11-28T16:44:37.031179Z",
     "shell.execute_reply": "2020-11-28T16:44:37.031720Z"
    },
    "papermill": {
     "duration": 0.037443,
     "end_time": "2020-11-28T16:44:37.031888",
     "exception": false,
     "start_time": "2020-11-28T16:44:36.994445",
     "status": "completed"
    },
    "tags": []
   },
   "outputs": [],
   "source": [
    "# model = lgb.Booster(model_file='../input/riiid-lgbm-starter/model.txt')\n",
    "env = riiideducation.make_env()\n",
    "iter_test = env.iter_test()\n",
    "prior_test_df = None"
   ]
  },
  {
   "cell_type": "code",
   "execution_count": 17,
   "metadata": {
    "execution": {
     "iopub.execute_input": "2020-11-28T16:44:37.104792Z",
     "iopub.status.busy": "2020-11-28T16:44:37.097778Z",
     "iopub.status.idle": "2020-11-28T16:44:37.206518Z",
     "shell.execute_reply": "2020-11-28T16:44:37.207478Z"
    },
    "papermill": {
     "duration": 0.148952,
     "end_time": "2020-11-28T16:44:37.207677",
     "exception": false,
     "start_time": "2020-11-28T16:44:37.058725",
     "status": "completed"
    },
    "tags": []
   },
   "outputs": [
    {
     "name": "stdout",
     "output_type": "stream",
     "text": [
      "CPU times: user 313 ms, sys: 6.06 ms, total: 319 ms\n",
      "Wall time: 101 ms\n"
     ]
    }
   ],
   "source": [
    "%%time\n",
    "\n",
    "for (test_df, sample_prediction_df) in iter_test:\n",
    "    if prior_test_df is not None:\n",
    "        prior_test_df[target] = eval(test_df['prior_group_answers_correct'].iloc[0])\n",
    "        prior_test_df = prior_test_df[prior_test_df[target] != -1].reset_index(drop=True)\n",
    "        \n",
    "        user_ids = prior_test_df['user_id'].values\n",
    "        content_ids = prior_test_df['content_id'].values\n",
    "        targets = prior_test_df[target].values\n",
    "        \n",
    "        for user_id, content_id, answered_correctly in zip(user_ids, content_ids, targets):\n",
    "            user_sum_dict[user_id] += answered_correctly\n",
    "            user_count_dict[user_id] += 1\n",
    "            content_sum_dict[content_id] += answered_correctly\n",
    "            content_count_dict[content_id] += 1\n",
    "\n",
    "    prior_test_df = test_df.copy()\n",
    "    \n",
    "    test_df = test_df[test_df['content_type_id'] == 0].reset_index(drop=True)\n",
    "    test_df = pd.merge(test_df, questions_df, left_on='content_id', right_on='question_id', how='left')\n",
    "    test_df['prior_question_had_explanation'] = test_df['prior_question_had_explanation'].fillna(False).astype('bool')    \n",
    "    \n",
    "    user_sum = np.zeros(len(test_df), dtype=np.int16)\n",
    "    user_count = np.zeros(len(test_df), dtype=np.int16)\n",
    "    content_sum = np.zeros(len(test_df), dtype=np.int32)\n",
    "    content_count = np.zeros(len(test_df), dtype=np.int32)\n",
    "    \n",
    "    for i, (user_id, content_id) in enumerate(zip(test_df['user_id'].values, test_df['content_id'].values)):\n",
    "        user_sum[i] = user_sum_dict[user_id]\n",
    "        user_count[i] = user_count_dict[user_id]\n",
    "        content_sum[i] = content_sum_dict[content_id]\n",
    "        content_count[i] = content_count_dict[content_id]\n",
    "\n",
    "    test_df['user_correctness'] = user_sum / user_count\n",
    "    test_df['content_count'] = content_count\n",
    "    test_df['content_id'] = content_sum / content_count\n",
    "       \n",
    "    test_df[target] = model.predict(test_df[features])\n",
    "    env.predict(test_df[['row_id', target]])"
   ]
  },
  {
   "cell_type": "code",
   "execution_count": null,
   "metadata": {
    "papermill": {
     "duration": 0.032841,
     "end_time": "2020-11-28T16:44:37.274391",
     "exception": false,
     "start_time": "2020-11-28T16:44:37.241550",
     "status": "completed"
    },
    "tags": []
   },
   "outputs": [],
   "source": []
  }
 ],
 "metadata": {
  "kernelspec": {
   "display_name": "Python 3",
   "language": "python",
   "name": "python3"
  },
  "language_info": {
   "codemirror_mode": {
    "name": "ipython",
    "version": 3
   },
   "file_extension": ".py",
   "mimetype": "text/x-python",
   "name": "python",
   "nbconvert_exporter": "python",
   "pygments_lexer": "ipython3",
   "version": "3.7.6"
  },
  "papermill": {
   "duration": 363.987794,
   "end_time": "2020-11-28T16:44:37.415559",
   "environment_variables": {},
   "exception": null,
   "input_path": "__notebook__.ipynb",
   "output_path": "__notebook__.ipynb",
   "parameters": {},
   "start_time": "2020-11-28T16:38:33.427765",
   "version": "2.1.0"
  }
 },
 "nbformat": 4,
 "nbformat_minor": 4
}
