{
 "cells": [
  {
   "cell_type": "code",
   "execution_count": 1,
   "metadata": {
    "_cell_guid": "b1076dfc-b9ad-4769-8c92-a6c4dae69d19",
    "_uuid": "8f2839f25d086af736a60e9eeb907d3b93b6e0e5",
    "execution": {
     "iopub.execute_input": "2020-11-30T14:12:22.760867Z",
     "iopub.status.busy": "2020-11-30T14:12:22.759888Z",
     "iopub.status.idle": "2020-11-30T14:12:54.184982Z",
     "shell.execute_reply": "2020-11-30T14:12:54.184121Z"
    },
    "papermill": {
     "duration": 31.460582,
     "end_time": "2020-11-30T14:12:54.185147",
     "exception": false,
     "start_time": "2020-11-30T14:12:22.724565",
     "status": "completed"
    },
    "tags": []
   },
   "outputs": [],
   "source": [
    "!pip install ../input/python-datatable/datatable-0.11.0-cp37-cp37m-manylinux2010_x86_64.whl > /dev/null 2>&1"
   ]
  },
  {
   "cell_type": "code",
   "execution_count": 2,
   "metadata": {
    "_cell_guid": "79c7e3d0-c299-4dcb-8224-4455121ee9b0",
    "_uuid": "d629ff2d2480ee46fbb7e2d37f6b5fab8052498a",
    "execution": {
     "iopub.execute_input": "2020-11-30T14:12:54.239155Z",
     "iopub.status.busy": "2020-11-30T14:12:54.238354Z",
     "iopub.status.idle": "2020-11-30T14:12:55.575937Z",
     "shell.execute_reply": "2020-11-30T14:12:55.575133Z"
    },
    "papermill": {
     "duration": 1.367866,
     "end_time": "2020-11-30T14:12:55.576127",
     "exception": false,
     "start_time": "2020-11-30T14:12:54.208261",
     "status": "completed"
    },
    "tags": []
   },
   "outputs": [
    {
     "data": {
      "text/html": [
       "<style type='text/css'>\n",
       ".datatable table.frame { margin-bottom: 0; }\n",
       ".datatable table.frame thead { border-bottom: none; }\n",
       ".datatable table.frame tr.coltypes td {  color: #FFFFFF;  line-height: 6px;  padding: 0 0.5em;}\n",
       ".datatable .bool    { background: #DDDD99; }\n",
       ".datatable .object  { background: #565656; }\n",
       ".datatable .int     { background: #5D9E5D; }\n",
       ".datatable .float   { background: #4040CC; }\n",
       ".datatable .str     { background: #CC4040; }\n",
       ".datatable .row_index {  background: var(--jp-border-color3);  border-right: 1px solid var(--jp-border-color0);  color: var(--jp-ui-font-color3);  font-size: 9px;}\n",
       ".datatable .frame tr.coltypes .row_index {  background: var(--jp-border-color0);}\n",
       ".datatable th:nth-child(2) { padding-left: 12px; }\n",
       ".datatable .hellipsis {  color: var(--jp-cell-editor-border-color);}\n",
       ".datatable .vellipsis {  background: var(--jp-layout-color0);  color: var(--jp-cell-editor-border-color);}\n",
       ".datatable .na {  color: var(--jp-cell-editor-border-color);  font-size: 80%;}\n",
       ".datatable .footer { font-size: 9px; }\n",
       ".datatable .frame_dimensions {  background: var(--jp-border-color3);  border-top: 1px solid var(--jp-border-color0);  color: var(--jp-ui-font-color3);  display: inline-block;  opacity: 0.6;  padding: 1px 10px 1px 5px;}\n",
       "</style>\n"
      ],
      "text/plain": [
       "<IPython.core.display.HTML object>"
      ]
     },
     "metadata": {},
     "output_type": "display_data"
    }
   ],
   "source": [
    "import numpy as np\n",
    "import pandas as pd\n",
    "from collections import defaultdict\n",
    "import datatable as dt\n",
    "import lightgbm as lgb\n",
    "from matplotlib import pyplot as plt\n",
    "import riiideducation\n",
    "\n",
    "_ = np.seterr(divide='ignore', invalid='ignore')"
   ]
  },
  {
   "cell_type": "markdown",
   "metadata": {
    "papermill": {
     "duration": 0.023847,
     "end_time": "2020-11-30T14:12:55.625486",
     "exception": false,
     "start_time": "2020-11-30T14:12:55.601639",
     "status": "completed"
    },
    "tags": []
   },
   "source": [
    "# Preprocess"
   ]
  },
  {
   "cell_type": "code",
   "execution_count": 3,
   "metadata": {
    "execution": {
     "iopub.execute_input": "2020-11-30T14:12:55.679332Z",
     "iopub.status.busy": "2020-11-30T14:12:55.678321Z",
     "iopub.status.idle": "2020-11-30T14:12:55.681608Z",
     "shell.execute_reply": "2020-11-30T14:12:55.680952Z"
    },
    "papermill": {
     "duration": 0.032676,
     "end_time": "2020-11-30T14:12:55.681736",
     "exception": false,
     "start_time": "2020-11-30T14:12:55.649060",
     "status": "completed"
    },
    "tags": []
   },
   "outputs": [],
   "source": [
    "data_types_dict = {\n",
    "    'user_id': 'int32', \n",
    "    'content_id': 'int16', \n",
    "    'answered_correctly': 'int8', \n",
    "    'prior_question_elapsed_time': 'float32', \n",
    "    'prior_question_had_explanation': 'bool'\n",
    "}\n",
    "target = 'answered_correctly'"
   ]
  },
  {
   "cell_type": "code",
   "execution_count": 4,
   "metadata": {
    "execution": {
     "iopub.execute_input": "2020-11-30T14:12:55.738375Z",
     "iopub.status.busy": "2020-11-30T14:12:55.737227Z",
     "iopub.status.idle": "2020-11-30T14:14:04.514920Z",
     "shell.execute_reply": "2020-11-30T14:14:04.514127Z"
    },
    "papermill": {
     "duration": 68.809758,
     "end_time": "2020-11-30T14:14:04.515082",
     "exception": false,
     "start_time": "2020-11-30T14:12:55.705324",
     "status": "completed"
    },
    "tags": []
   },
   "outputs": [],
   "source": [
    "train_df = dt.fread('../input/riiid-test-answer-prediction/train.csv', columns=set(data_types_dict.keys())).to_pandas()"
   ]
  },
  {
   "cell_type": "code",
   "execution_count": 5,
   "metadata": {
    "execution": {
     "iopub.execute_input": "2020-11-30T14:14:04.581426Z",
     "iopub.status.busy": "2020-11-30T14:14:04.580605Z",
     "iopub.status.idle": "2020-11-30T14:14:05.484942Z",
     "shell.execute_reply": "2020-11-30T14:14:05.484158Z"
    },
    "papermill": {
     "duration": 0.945589,
     "end_time": "2020-11-30T14:14:05.485098",
     "exception": false,
     "start_time": "2020-11-30T14:14:04.539509",
     "status": "completed"
    },
    "tags": []
   },
   "outputs": [
    {
     "data": {
      "text/html": [
       "<div>\n",
       "<style scoped>\n",
       "    .dataframe tbody tr th:only-of-type {\n",
       "        vertical-align: middle;\n",
       "    }\n",
       "\n",
       "    .dataframe tbody tr th {\n",
       "        vertical-align: top;\n",
       "    }\n",
       "\n",
       "    .dataframe thead th {\n",
       "        text-align: right;\n",
       "    }\n",
       "</style>\n",
       "<table border=\"1\" class=\"dataframe\">\n",
       "  <thead>\n",
       "    <tr style=\"text-align: right;\">\n",
       "      <th></th>\n",
       "      <th>user_id</th>\n",
       "      <th>binned_help_usage</th>\n",
       "    </tr>\n",
       "  </thead>\n",
       "  <tbody>\n",
       "    <tr>\n",
       "      <th>0</th>\n",
       "      <td>2746</td>\n",
       "      <td>1</td>\n",
       "    </tr>\n",
       "    <tr>\n",
       "      <th>1</th>\n",
       "      <td>5382</td>\n",
       "      <td>2</td>\n",
       "    </tr>\n",
       "    <tr>\n",
       "      <th>2</th>\n",
       "      <td>8623</td>\n",
       "      <td>2</td>\n",
       "    </tr>\n",
       "    <tr>\n",
       "      <th>3</th>\n",
       "      <td>12741</td>\n",
       "      <td>3</td>\n",
       "    </tr>\n",
       "    <tr>\n",
       "      <th>4</th>\n",
       "      <td>13134</td>\n",
       "      <td>3</td>\n",
       "    </tr>\n",
       "    <tr>\n",
       "      <th>...</th>\n",
       "      <td>...</td>\n",
       "      <td>...</td>\n",
       "    </tr>\n",
       "    <tr>\n",
       "      <th>149601</th>\n",
       "      <td>2147419988</td>\n",
       "      <td>3</td>\n",
       "    </tr>\n",
       "    <tr>\n",
       "      <th>149602</th>\n",
       "      <td>2147469944</td>\n",
       "      <td>2</td>\n",
       "    </tr>\n",
       "    <tr>\n",
       "      <th>149603</th>\n",
       "      <td>2147470770</td>\n",
       "      <td>2</td>\n",
       "    </tr>\n",
       "    <tr>\n",
       "      <th>149604</th>\n",
       "      <td>2147470777</td>\n",
       "      <td>3</td>\n",
       "    </tr>\n",
       "    <tr>\n",
       "      <th>149605</th>\n",
       "      <td>2147482216</td>\n",
       "      <td>3</td>\n",
       "    </tr>\n",
       "  </tbody>\n",
       "</table>\n",
       "<p>149606 rows × 2 columns</p>\n",
       "</div>"
      ],
      "text/plain": [
       "           user_id binned_help_usage\n",
       "0             2746                 1\n",
       "1             5382                 2\n",
       "2             8623                 2\n",
       "3            12741                 3\n",
       "4            13134                 3\n",
       "...            ...               ...\n",
       "149601  2147419988                 3\n",
       "149602  2147469944                 2\n",
       "149603  2147470770                 2\n",
       "149604  2147470777                 3\n",
       "149605  2147482216                 3\n",
       "\n",
       "[149606 rows x 2 columns]"
      ]
     },
     "execution_count": 5,
     "metadata": {},
     "output_type": "execute_result"
    }
   ],
   "source": [
    "help_usage = train_df[train_df[target] == -1].groupby('user_id')['content_id'].count()\n",
    "help_usage = help_usage.reset_index().rename(columns={'content_id': 'help_usage'})\n",
    "help_usage['binned_help_usage'] = pd.cut(help_usage['help_usage'], bins=[-np.inf, 0, 1, 3, np.inf], labels=[0, 1, 2, 3])\n",
    "help_usage.drop(columns=['help_usage'], inplace=True)\n",
    "help_usage"
   ]
  },
  {
   "cell_type": "code",
   "execution_count": 6,
   "metadata": {
    "execution": {
     "iopub.execute_input": "2020-11-30T14:14:05.542311Z",
     "iopub.status.busy": "2020-11-30T14:14:05.541060Z",
     "iopub.status.idle": "2020-11-30T14:14:24.695401Z",
     "shell.execute_reply": "2020-11-30T14:14:24.694557Z"
    },
    "papermill": {
     "duration": 19.185613,
     "end_time": "2020-11-30T14:14:24.695548",
     "exception": false,
     "start_time": "2020-11-30T14:14:05.509935",
     "status": "completed"
    },
    "tags": []
   },
   "outputs": [],
   "source": [
    "train_df = pd.merge(train_df, help_usage, on='user_id', how='left')\n",
    "train_df.binned_help_usage = train_df.binned_help_usage.fillna(0)"
   ]
  },
  {
   "cell_type": "code",
   "execution_count": 7,
   "metadata": {
    "execution": {
     "iopub.execute_input": "2020-11-30T14:14:24.763687Z",
     "iopub.status.busy": "2020-11-30T14:14:24.762514Z",
     "iopub.status.idle": "2020-11-30T14:14:51.897102Z",
     "shell.execute_reply": "2020-11-30T14:14:51.897751Z"
    },
    "papermill": {
     "duration": 27.17709,
     "end_time": "2020-11-30T14:14:51.897920",
     "exception": false,
     "start_time": "2020-11-30T14:14:24.720830",
     "status": "completed"
    },
    "tags": []
   },
   "outputs": [],
   "source": [
    "train_df = train_df[train_df[target] != -1].reset_index(drop=True)\n",
    "train_df['prior_question_had_explanation'].fillna(False, inplace=True)\n",
    "train_df = train_df.astype(data_types_dict)"
   ]
  },
  {
   "cell_type": "code",
   "execution_count": 8,
   "metadata": {
    "execution": {
     "iopub.execute_input": "2020-11-30T14:14:51.957916Z",
     "iopub.status.busy": "2020-11-30T14:14:51.956327Z",
     "iopub.status.idle": "2020-11-30T14:15:10.440830Z",
     "shell.execute_reply": "2020-11-30T14:15:10.440141Z"
    },
    "papermill": {
     "duration": 18.518073,
     "end_time": "2020-11-30T14:15:10.440973",
     "exception": false,
     "start_time": "2020-11-30T14:14:51.922900",
     "status": "completed"
    },
    "tags": []
   },
   "outputs": [],
   "source": [
    "# Calcul du taux de réussite de l'utilisateur en fonction de son avancée\n",
    "train_df['lag'] = train_df.groupby('user_id')[target].shift()\n",
    "cum = train_df.groupby('user_id')['lag'].agg(['cumsum', 'cumcount'])\n",
    "train_df['user_correctness'] = cum['cumsum'] / cum['cumcount']\n",
    "train_df.drop(columns=['lag'], inplace=True)"
   ]
  },
  {
   "cell_type": "code",
   "execution_count": 9,
   "metadata": {
    "execution": {
     "iopub.execute_input": "2020-11-30T14:15:10.499572Z",
     "iopub.status.busy": "2020-11-30T14:15:10.498738Z",
     "iopub.status.idle": "2020-11-30T14:15:19.920940Z",
     "shell.execute_reply": "2020-11-30T14:15:19.920165Z"
    },
    "papermill": {
     "duration": 9.454591,
     "end_time": "2020-11-30T14:15:19.921114",
     "exception": false,
     "start_time": "2020-11-30T14:15:10.466523",
     "status": "completed"
    },
    "tags": []
   },
   "outputs": [],
   "source": [
    "# Je compte le nombre de bonnes réponses par utilisateurs et \n",
    "# Je compte le nombre de réponses par utilsateurs (juste ou fausse)\n",
    "user_agg = train_df.groupby('user_id')[target].agg(['sum', 'count'])\n",
    "\n",
    "# Je compte le nombre de bonnes réponses par contenu et\n",
    "# Je compte le nombres de réponses par contenu (juste ou fausse)\n",
    "content_agg = train_df.groupby('content_id')[target].agg(['sum', 'count'])"
   ]
  },
  {
   "cell_type": "markdown",
   "metadata": {
    "papermill": {
     "duration": 0.026192,
     "end_time": "2020-11-30T14:15:19.974086",
     "exception": false,
     "start_time": "2020-11-30T14:15:19.947894",
     "status": "completed"
    },
    "tags": []
   },
   "source": [
    "Stratégie de validation\n",
    "\n",
    "Initialement, il est conservé les 24 dernières interactions par utilisateurs, \n",
    "Les 6 dernières sont affectés aux données de validation, soit 25%.\n",
    "Il convient de s'assurer que chacun des utilisateurs aient au moins 24 interactions à son actif pour respecter les 25% dans un premier temps.\n",
    "\n",
    "Dans un second temps, il conviendra de tester d'autres proportions, comme 48 / 12."
   ]
  },
  {
   "cell_type": "markdown",
   "metadata": {
    "papermill": {
     "duration": 0.028708,
     "end_time": "2020-11-30T14:15:20.028384",
     "exception": false,
     "start_time": "2020-11-30T14:15:19.999676",
     "status": "completed"
    },
    "tags": []
   },
   "source": [
    "24 correspond à 80% des users avec plus de 24 interactions. Cependant, les users avec moins de 24 interactions sont conservés"
   ]
  },
  {
   "cell_type": "code",
   "execution_count": 10,
   "metadata": {
    "execution": {
     "iopub.execute_input": "2020-11-30T14:15:20.089644Z",
     "iopub.status.busy": "2020-11-30T14:15:20.087960Z",
     "iopub.status.idle": "2020-11-30T14:15:22.644623Z",
     "shell.execute_reply": "2020-11-30T14:15:22.643925Z"
    },
    "papermill": {
     "duration": 2.590991,
     "end_time": "2020-11-30T14:15:22.644783",
     "exception": false,
     "start_time": "2020-11-30T14:15:20.053792",
     "status": "completed"
    },
    "tags": []
   },
   "outputs": [
    {
     "name": "stdout",
     "output_type": "stream",
     "text": [
      "80 % des utilisateurs ont au moins 26 interactions\n"
     ]
    }
   ],
   "source": [
    "# J'ai 80 % des utilisateurs qui ont au moins 24 interactions. \n",
    "# J'ai besoin de 24 interactions, dont les 6 dernières en validation\n",
    "# Que se passe-t-il si il ont moins de 6 interaction \n",
    "user_info = train_df.groupby('user_id')['content_id'].count().sort_values(ascending=False).reset_index()\n",
    "user_info = user_info.rename(columns={'content_id':'nb_interactions'})\n",
    "\n",
    "# Loi de Pareto 80/20\n",
    "tresh = 80\n",
    "idx = int(len(user_info) * tresh / 100)\n",
    "min_interaction = user_info.at[idx, 'nb_interactions']\n",
    "print(f'{tresh} % des utilisateurs ont au moins {min_interaction} interactions')"
   ]
  },
  {
   "cell_type": "code",
   "execution_count": 11,
   "metadata": {
    "execution": {
     "iopub.execute_input": "2020-11-30T14:15:22.705051Z",
     "iopub.status.busy": "2020-11-30T14:15:22.704239Z",
     "iopub.status.idle": "2020-11-30T14:15:22.723585Z",
     "shell.execute_reply": "2020-11-30T14:15:22.722874Z"
    },
    "papermill": {
     "duration": 0.052239,
     "end_time": "2020-11-30T14:15:22.723734",
     "exception": false,
     "start_time": "2020-11-30T14:15:22.671495",
     "status": "completed"
    },
    "tags": []
   },
   "outputs": [
    {
     "data": {
      "text/html": [
       "<div>\n",
       "<style scoped>\n",
       "    .dataframe tbody tr th:only-of-type {\n",
       "        vertical-align: middle;\n",
       "    }\n",
       "\n",
       "    .dataframe tbody tr th {\n",
       "        vertical-align: top;\n",
       "    }\n",
       "\n",
       "    .dataframe thead th {\n",
       "        text-align: right;\n",
       "    }\n",
       "</style>\n",
       "<table border=\"1\" class=\"dataframe\">\n",
       "  <thead>\n",
       "    <tr style=\"text-align: right;\">\n",
       "      <th></th>\n",
       "      <th>user_id</th>\n",
       "      <th>nb_interactions</th>\n",
       "    </tr>\n",
       "  </thead>\n",
       "  <tbody>\n",
       "    <tr>\n",
       "      <th>0</th>\n",
       "      <td>801103753</td>\n",
       "      <td>17609</td>\n",
       "    </tr>\n",
       "    <tr>\n",
       "      <th>1</th>\n",
       "      <td>1478712595</td>\n",
       "      <td>16842</td>\n",
       "    </tr>\n",
       "    <tr>\n",
       "      <th>2</th>\n",
       "      <td>455973631</td>\n",
       "      <td>16640</td>\n",
       "    </tr>\n",
       "    <tr>\n",
       "      <th>3</th>\n",
       "      <td>1842816145</td>\n",
       "      <td>16533</td>\n",
       "    </tr>\n",
       "    <tr>\n",
       "      <th>4</th>\n",
       "      <td>1743444187</td>\n",
       "      <td>16424</td>\n",
       "    </tr>\n",
       "    <tr>\n",
       "      <th>...</th>\n",
       "      <td>...</td>\n",
       "      <td>...</td>\n",
       "    </tr>\n",
       "    <tr>\n",
       "      <th>315690</th>\n",
       "      <td>1161533469</td>\n",
       "      <td>26</td>\n",
       "    </tr>\n",
       "    <tr>\n",
       "      <th>315691</th>\n",
       "      <td>1923443849</td>\n",
       "      <td>26</td>\n",
       "    </tr>\n",
       "    <tr>\n",
       "      <th>315692</th>\n",
       "      <td>535972367</td>\n",
       "      <td>26</td>\n",
       "    </tr>\n",
       "    <tr>\n",
       "      <th>315693</th>\n",
       "      <td>2095103204</td>\n",
       "      <td>26</td>\n",
       "    </tr>\n",
       "    <tr>\n",
       "      <th>315694</th>\n",
       "      <td>59340969</td>\n",
       "      <td>26</td>\n",
       "    </tr>\n",
       "  </tbody>\n",
       "</table>\n",
       "<p>315695 rows × 2 columns</p>\n",
       "</div>"
      ],
      "text/plain": [
       "           user_id  nb_interactions\n",
       "0        801103753            17609\n",
       "1       1478712595            16842\n",
       "2        455973631            16640\n",
       "3       1842816145            16533\n",
       "4       1743444187            16424\n",
       "...            ...              ...\n",
       "315690  1161533469               26\n",
       "315691  1923443849               26\n",
       "315692   535972367               26\n",
       "315693  2095103204               26\n",
       "315694    59340969               26\n",
       "\n",
       "[315695 rows x 2 columns]"
      ]
     },
     "execution_count": 11,
     "metadata": {},
     "output_type": "execute_result"
    }
   ],
   "source": [
    "user_info = user_info[user_info.nb_interactions >= min_interaction]\n",
    "user_info"
   ]
  },
  {
   "cell_type": "code",
   "execution_count": 12,
   "metadata": {
    "execution": {
     "iopub.execute_input": "2020-11-30T14:15:22.785186Z",
     "iopub.status.busy": "2020-11-30T14:15:22.784332Z",
     "iopub.status.idle": "2020-11-30T14:15:36.276431Z",
     "shell.execute_reply": "2020-11-30T14:15:36.276996Z"
    },
    "papermill": {
     "duration": 13.525679,
     "end_time": "2020-11-30T14:15:36.277197",
     "exception": false,
     "start_time": "2020-11-30T14:15:22.751518",
     "status": "completed"
    },
    "tags": []
   },
   "outputs": [
    {
     "data": {
      "text/html": [
       "<div>\n",
       "<style scoped>\n",
       "    .dataframe tbody tr th:only-of-type {\n",
       "        vertical-align: middle;\n",
       "    }\n",
       "\n",
       "    .dataframe tbody tr th {\n",
       "        vertical-align: top;\n",
       "    }\n",
       "\n",
       "    .dataframe thead th {\n",
       "        text-align: right;\n",
       "    }\n",
       "</style>\n",
       "<table border=\"1\" class=\"dataframe\">\n",
       "  <thead>\n",
       "    <tr style=\"text-align: right;\">\n",
       "      <th></th>\n",
       "      <th>user_id</th>\n",
       "      <th>content_id</th>\n",
       "      <th>answered_correctly</th>\n",
       "      <th>prior_question_elapsed_time</th>\n",
       "      <th>prior_question_had_explanation</th>\n",
       "      <th>binned_help_usage</th>\n",
       "      <th>user_correctness</th>\n",
       "      <th>nb_interactions</th>\n",
       "    </tr>\n",
       "  </thead>\n",
       "  <tbody>\n",
       "    <tr>\n",
       "      <th>0</th>\n",
       "      <td>115</td>\n",
       "      <td>5692</td>\n",
       "      <td>1</td>\n",
       "      <td>NaN</td>\n",
       "      <td>False</td>\n",
       "      <td>0</td>\n",
       "      <td>NaN</td>\n",
       "      <td>46</td>\n",
       "    </tr>\n",
       "    <tr>\n",
       "      <th>1</th>\n",
       "      <td>115</td>\n",
       "      <td>5716</td>\n",
       "      <td>1</td>\n",
       "      <td>37000.0</td>\n",
       "      <td>False</td>\n",
       "      <td>0</td>\n",
       "      <td>1.000000</td>\n",
       "      <td>46</td>\n",
       "    </tr>\n",
       "    <tr>\n",
       "      <th>2</th>\n",
       "      <td>115</td>\n",
       "      <td>128</td>\n",
       "      <td>1</td>\n",
       "      <td>55000.0</td>\n",
       "      <td>False</td>\n",
       "      <td>0</td>\n",
       "      <td>1.000000</td>\n",
       "      <td>46</td>\n",
       "    </tr>\n",
       "    <tr>\n",
       "      <th>3</th>\n",
       "      <td>115</td>\n",
       "      <td>7860</td>\n",
       "      <td>1</td>\n",
       "      <td>19000.0</td>\n",
       "      <td>False</td>\n",
       "      <td>0</td>\n",
       "      <td>1.000000</td>\n",
       "      <td>46</td>\n",
       "    </tr>\n",
       "    <tr>\n",
       "      <th>4</th>\n",
       "      <td>115</td>\n",
       "      <td>7922</td>\n",
       "      <td>1</td>\n",
       "      <td>11000.0</td>\n",
       "      <td>False</td>\n",
       "      <td>0</td>\n",
       "      <td>1.000000</td>\n",
       "      <td>46</td>\n",
       "    </tr>\n",
       "    <tr>\n",
       "      <th>...</th>\n",
       "      <td>...</td>\n",
       "      <td>...</td>\n",
       "      <td>...</td>\n",
       "      <td>...</td>\n",
       "      <td>...</td>\n",
       "      <td>...</td>\n",
       "      <td>...</td>\n",
       "      <td>...</td>\n",
       "    </tr>\n",
       "    <tr>\n",
       "      <th>97948854</th>\n",
       "      <td>2147482888</td>\n",
       "      <td>3586</td>\n",
       "      <td>1</td>\n",
       "      <td>18000.0</td>\n",
       "      <td>True</td>\n",
       "      <td>0</td>\n",
       "      <td>0.500000</td>\n",
       "      <td>27</td>\n",
       "    </tr>\n",
       "    <tr>\n",
       "      <th>97948855</th>\n",
       "      <td>2147482888</td>\n",
       "      <td>6341</td>\n",
       "      <td>1</td>\n",
       "      <td>14000.0</td>\n",
       "      <td>True</td>\n",
       "      <td>0</td>\n",
       "      <td>0.521739</td>\n",
       "      <td>27</td>\n",
       "    </tr>\n",
       "    <tr>\n",
       "      <th>97948856</th>\n",
       "      <td>2147482888</td>\n",
       "      <td>4212</td>\n",
       "      <td>1</td>\n",
       "      <td>14000.0</td>\n",
       "      <td>True</td>\n",
       "      <td>0</td>\n",
       "      <td>0.541667</td>\n",
       "      <td>27</td>\n",
       "    </tr>\n",
       "    <tr>\n",
       "      <th>97948857</th>\n",
       "      <td>2147482888</td>\n",
       "      <td>6343</td>\n",
       "      <td>0</td>\n",
       "      <td>22000.0</td>\n",
       "      <td>True</td>\n",
       "      <td>0</td>\n",
       "      <td>0.560000</td>\n",
       "      <td>27</td>\n",
       "    </tr>\n",
       "    <tr>\n",
       "      <th>97948858</th>\n",
       "      <td>2147482888</td>\n",
       "      <td>7995</td>\n",
       "      <td>1</td>\n",
       "      <td>29000.0</td>\n",
       "      <td>True</td>\n",
       "      <td>0</td>\n",
       "      <td>0.538462</td>\n",
       "      <td>27</td>\n",
       "    </tr>\n",
       "  </tbody>\n",
       "</table>\n",
       "<p>97948859 rows × 8 columns</p>\n",
       "</div>"
      ],
      "text/plain": [
       "             user_id  content_id  answered_correctly  \\\n",
       "0                115        5692                   1   \n",
       "1                115        5716                   1   \n",
       "2                115         128                   1   \n",
       "3                115        7860                   1   \n",
       "4                115        7922                   1   \n",
       "...              ...         ...                 ...   \n",
       "97948854  2147482888        3586                   1   \n",
       "97948855  2147482888        6341                   1   \n",
       "97948856  2147482888        4212                   1   \n",
       "97948857  2147482888        6343                   0   \n",
       "97948858  2147482888        7995                   1   \n",
       "\n",
       "          prior_question_elapsed_time  prior_question_had_explanation  \\\n",
       "0                                 NaN                           False   \n",
       "1                             37000.0                           False   \n",
       "2                             55000.0                           False   \n",
       "3                             19000.0                           False   \n",
       "4                             11000.0                           False   \n",
       "...                               ...                             ...   \n",
       "97948854                      18000.0                            True   \n",
       "97948855                      14000.0                            True   \n",
       "97948856                      14000.0                            True   \n",
       "97948857                      22000.0                            True   \n",
       "97948858                      29000.0                            True   \n",
       "\n",
       "         binned_help_usage  user_correctness  nb_interactions  \n",
       "0                        0               NaN               46  \n",
       "1                        0          1.000000               46  \n",
       "2                        0          1.000000               46  \n",
       "3                        0          1.000000               46  \n",
       "4                        0          1.000000               46  \n",
       "...                    ...               ...              ...  \n",
       "97948854                 0          0.500000               27  \n",
       "97948855                 0          0.521739               27  \n",
       "97948856                 0          0.541667               27  \n",
       "97948857                 0          0.560000               27  \n",
       "97948858                 0          0.538462               27  \n",
       "\n",
       "[97948859 rows x 8 columns]"
      ]
     },
     "execution_count": 12,
     "metadata": {},
     "output_type": "execute_result"
    }
   ],
   "source": [
    "train_df = pd.merge(train_df, user_info, on='user_id')\n",
    "train_df"
   ]
  },
  {
   "cell_type": "code",
   "execution_count": 13,
   "metadata": {
    "execution": {
     "iopub.execute_input": "2020-11-30T14:15:36.339272Z",
     "iopub.status.busy": "2020-11-30T14:15:36.338434Z",
     "iopub.status.idle": "2020-11-30T14:15:43.527902Z",
     "shell.execute_reply": "2020-11-30T14:15:43.527063Z"
    },
    "papermill": {
     "duration": 7.223176,
     "end_time": "2020-11-30T14:15:43.528074",
     "exception": false,
     "start_time": "2020-11-30T14:15:36.304898",
     "status": "completed"
    },
    "tags": []
   },
   "outputs": [],
   "source": [
    "# Récupération des 24 dernières interactions de chaque utilisateur.\n",
    "# C'est une manière de réduire considérablement le jeu de données,\n",
    "# en conservant les dernières interactions (les plus intéréssantes ?)\n",
    "# C'est aussi une manière de traiter l'aspect temporel des données\n",
    "train_df = train_df.groupby('user_id').tail(min_interaction).reset_index(drop=True)"
   ]
  },
  {
   "cell_type": "code",
   "execution_count": 14,
   "metadata": {
    "execution": {
     "iopub.execute_input": "2020-11-30T14:15:43.602002Z",
     "iopub.status.busy": "2020-11-30T14:15:43.601132Z",
     "iopub.status.idle": "2020-11-30T14:15:43.643915Z",
     "shell.execute_reply": "2020-11-30T14:15:43.642987Z"
    },
    "papermill": {
     "duration": 0.08792,
     "end_time": "2020-11-30T14:15:43.644093",
     "exception": false,
     "start_time": "2020-11-30T14:15:43.556173",
     "status": "completed"
    },
    "tags": []
   },
   "outputs": [
    {
     "name": "stderr",
     "output_type": "stream",
     "text": [
      "/opt/conda/lib/python3.7/site-packages/ipykernel_launcher.py:12: SettingWithCopyWarning: \n",
      "A value is trying to be set on a copy of a slice from a DataFrame\n",
      "\n",
      "See the caveats in the documentation: https://pandas.pydata.org/pandas-docs/stable/user_guide/indexing.html#returning-a-view-versus-a-copy\n",
      "  if sys.path[0] == '':\n"
     ]
    },
    {
     "data": {
      "text/html": [
       "<div>\n",
       "<style scoped>\n",
       "    .dataframe tbody tr th:only-of-type {\n",
       "        vertical-align: middle;\n",
       "    }\n",
       "\n",
       "    .dataframe tbody tr th {\n",
       "        vertical-align: top;\n",
       "    }\n",
       "\n",
       "    .dataframe thead th {\n",
       "        text-align: right;\n",
       "    }\n",
       "</style>\n",
       "<table border=\"1\" class=\"dataframe\">\n",
       "  <thead>\n",
       "    <tr style=\"text-align: right;\">\n",
       "      <th></th>\n",
       "      <th>question_id</th>\n",
       "      <th>part</th>\n",
       "      <th>L_R</th>\n",
       "      <th>difficulty_level</th>\n",
       "    </tr>\n",
       "  </thead>\n",
       "  <tbody>\n",
       "    <tr>\n",
       "      <th>0</th>\n",
       "      <td>0</td>\n",
       "      <td>1</td>\n",
       "      <td>0</td>\n",
       "      <td>1</td>\n",
       "    </tr>\n",
       "    <tr>\n",
       "      <th>1</th>\n",
       "      <td>1</td>\n",
       "      <td>1</td>\n",
       "      <td>0</td>\n",
       "      <td>1</td>\n",
       "    </tr>\n",
       "    <tr>\n",
       "      <th>2</th>\n",
       "      <td>2</td>\n",
       "      <td>1</td>\n",
       "      <td>0</td>\n",
       "      <td>1</td>\n",
       "    </tr>\n",
       "    <tr>\n",
       "      <th>3</th>\n",
       "      <td>3</td>\n",
       "      <td>1</td>\n",
       "      <td>0</td>\n",
       "      <td>1</td>\n",
       "    </tr>\n",
       "    <tr>\n",
       "      <th>4</th>\n",
       "      <td>4</td>\n",
       "      <td>1</td>\n",
       "      <td>0</td>\n",
       "      <td>1</td>\n",
       "    </tr>\n",
       "    <tr>\n",
       "      <th>...</th>\n",
       "      <td>...</td>\n",
       "      <td>...</td>\n",
       "      <td>...</td>\n",
       "      <td>...</td>\n",
       "    </tr>\n",
       "    <tr>\n",
       "      <th>13518</th>\n",
       "      <td>13518</td>\n",
       "      <td>5</td>\n",
       "      <td>1</td>\n",
       "      <td>1</td>\n",
       "    </tr>\n",
       "    <tr>\n",
       "      <th>13519</th>\n",
       "      <td>13519</td>\n",
       "      <td>5</td>\n",
       "      <td>1</td>\n",
       "      <td>1</td>\n",
       "    </tr>\n",
       "    <tr>\n",
       "      <th>13520</th>\n",
       "      <td>13520</td>\n",
       "      <td>5</td>\n",
       "      <td>1</td>\n",
       "      <td>1</td>\n",
       "    </tr>\n",
       "    <tr>\n",
       "      <th>13521</th>\n",
       "      <td>13521</td>\n",
       "      <td>5</td>\n",
       "      <td>1</td>\n",
       "      <td>1</td>\n",
       "    </tr>\n",
       "    <tr>\n",
       "      <th>13522</th>\n",
       "      <td>13522</td>\n",
       "      <td>5</td>\n",
       "      <td>1</td>\n",
       "      <td>1</td>\n",
       "    </tr>\n",
       "  </tbody>\n",
       "</table>\n",
       "<p>13523 rows × 4 columns</p>\n",
       "</div>"
      ],
      "text/plain": [
       "       question_id  part L_R  difficulty_level\n",
       "0                0     1   0                 1\n",
       "1                1     1   0                 1\n",
       "2                2     1   0                 1\n",
       "3                3     1   0                 1\n",
       "4                4     1   0                 1\n",
       "...            ...   ...  ..               ...\n",
       "13518        13518     5   1                 1\n",
       "13519        13519     5   1                 1\n",
       "13520        13520     5   1                 1\n",
       "13521        13521     5   1                 1\n",
       "13522        13522     5   1                 1\n",
       "\n",
       "[13523 rows x 4 columns]"
      ]
     },
     "execution_count": 14,
     "metadata": {},
     "output_type": "execute_result"
    }
   ],
   "source": [
    "# Récupération des parts du TOEIC\n",
    "questions_df = pd.read_csv(\n",
    "    '../input/riiid-test-answer-prediction/questions.csv', \n",
    "    usecols=[0, 3],\n",
    "    dtype={'question_id': 'int16', 'part': 'int8'}\n",
    ")\n",
    "\n",
    "# Catégorisation Listening (0) ou Reading (1)\n",
    "questions_df['L_R'] = pd.cut(questions_df['part'], bins=[-np.inf, 4, np.inf], labels=[0, 1])\n",
    "\n",
    "questions_df['difficulty_level'] = 0\n",
    "questions_df['difficulty_level'][questions_df['L_R'] == 0] = questions_df['part'][questions_df['L_R'] == 0]\n",
    "questions_df['difficulty_level'][questions_df['L_R'] == 1] = questions_df['part'][questions_df['L_R'] == 1] - 4\n",
    "questions_df"
   ]
  },
  {
   "cell_type": "code",
   "execution_count": 15,
   "metadata": {
    "execution": {
     "iopub.execute_input": "2020-11-30T14:15:43.712393Z",
     "iopub.status.busy": "2020-11-30T14:15:43.711547Z",
     "iopub.status.idle": "2020-11-30T14:15:45.725842Z",
     "shell.execute_reply": "2020-11-30T14:15:45.724989Z"
    },
    "papermill": {
     "duration": 2.051103,
     "end_time": "2020-11-30T14:15:45.725987",
     "exception": false,
     "start_time": "2020-11-30T14:15:43.674884",
     "status": "completed"
    },
    "tags": []
   },
   "outputs": [],
   "source": [
    "train_df = pd.merge(train_df, questions_df, left_on='content_id', right_on='question_id', how='left')\n",
    "train_df.drop(columns=['question_id'], inplace=True)"
   ]
  },
  {
   "cell_type": "code",
   "execution_count": 16,
   "metadata": {
    "execution": {
     "iopub.execute_input": "2020-11-30T14:15:45.793493Z",
     "iopub.status.busy": "2020-11-30T14:15:45.791736Z",
     "iopub.status.idle": "2020-11-30T14:15:46.063609Z",
     "shell.execute_reply": "2020-11-30T14:15:46.062759Z"
    },
    "papermill": {
     "duration": 0.308516,
     "end_time": "2020-11-30T14:15:46.063757",
     "exception": false,
     "start_time": "2020-11-30T14:15:45.755241",
     "status": "completed"
    },
    "tags": []
   },
   "outputs": [],
   "source": [
    "# J'intègre le nombre d'apparitions totales de chaque contenu sur leurs lignes respectives\n",
    "train_df['content_count'] = train_df['content_id'].map(content_agg['count']).astype('int32')\n",
    "\n",
    "# Je transforme content_id en taux de réussite par contenu\n",
    "train_df['content_id'] = train_df['content_id'].map(content_agg['sum'] / content_agg['count'])"
   ]
  },
  {
   "cell_type": "code",
   "execution_count": 17,
   "metadata": {
    "execution": {
     "iopub.execute_input": "2020-11-30T14:15:46.133600Z",
     "iopub.status.busy": "2020-11-30T14:15:46.132718Z",
     "iopub.status.idle": "2020-11-30T14:15:49.117900Z",
     "shell.execute_reply": "2020-11-30T14:15:49.117273Z"
    },
    "papermill": {
     "duration": 3.023066,
     "end_time": "2020-11-30T14:15:49.118065",
     "exception": false,
     "start_time": "2020-11-30T14:15:46.094999",
     "status": "completed"
    },
    "tags": []
   },
   "outputs": [
    {
     "name": "stdout",
     "output_type": "stream",
     "text": [
      "Taille des interactions de validation par utilisateurs : 6\n"
     ]
    }
   ],
   "source": [
    "# Les 6 dernières lignes de chaque utilisateurs devient le jeu de validation\n",
    "# Cela represente un jeu de validation de 25 %\n",
    "val_size = int(min_interaction * 0.25)\n",
    "print(f\"Taille des interactions de validation par utilisateurs : {val_size}\")\n",
    "valid_df = train_df.groupby('user_id').tail(val_size)\n",
    "train_df.drop(valid_df.index, inplace=True)"
   ]
  },
  {
   "cell_type": "code",
   "execution_count": 18,
   "metadata": {
    "execution": {
     "iopub.execute_input": "2020-11-30T14:15:49.199777Z",
     "iopub.status.busy": "2020-11-30T14:15:49.198874Z",
     "iopub.status.idle": "2020-11-30T14:15:49.205663Z",
     "shell.execute_reply": "2020-11-30T14:15:49.204377Z"
    },
    "papermill": {
     "duration": 0.056631,
     "end_time": "2020-11-30T14:15:49.205833",
     "exception": false,
     "start_time": "2020-11-30T14:15:49.149202",
     "status": "completed"
    },
    "tags": []
   },
   "outputs": [
    {
     "data": {
      "text/html": [
       "<div>\n",
       "<style scoped>\n",
       "    .dataframe tbody tr th:only-of-type {\n",
       "        vertical-align: middle;\n",
       "    }\n",
       "\n",
       "    .dataframe tbody tr th {\n",
       "        vertical-align: top;\n",
       "    }\n",
       "\n",
       "    .dataframe thead th {\n",
       "        text-align: right;\n",
       "    }\n",
       "</style>\n",
       "<table border=\"1\" class=\"dataframe\">\n",
       "  <thead>\n",
       "    <tr style=\"text-align: right;\">\n",
       "      <th></th>\n",
       "      <th>user_id</th>\n",
       "      <th>content_id</th>\n",
       "      <th>answered_correctly</th>\n",
       "      <th>prior_question_elapsed_time</th>\n",
       "      <th>prior_question_had_explanation</th>\n",
       "      <th>binned_help_usage</th>\n",
       "      <th>user_correctness</th>\n",
       "      <th>nb_interactions</th>\n",
       "      <th>part</th>\n",
       "      <th>L_R</th>\n",
       "      <th>difficulty_level</th>\n",
       "      <th>content_count</th>\n",
       "    </tr>\n",
       "  </thead>\n",
       "  <tbody>\n",
       "    <tr>\n",
       "      <th>0</th>\n",
       "      <td>115</td>\n",
       "      <td>0.613215</td>\n",
       "      <td>0</td>\n",
       "      <td>29000.0</td>\n",
       "      <td>False</td>\n",
       "      <td>0</td>\n",
       "      <td>0.800000</td>\n",
       "      <td>46</td>\n",
       "      <td>1</td>\n",
       "      <td>0</td>\n",
       "      <td>1</td>\n",
       "      <td>31736</td>\n",
       "    </tr>\n",
       "    <tr>\n",
       "      <th>1</th>\n",
       "      <td>115</td>\n",
       "      <td>0.675862</td>\n",
       "      <td>0</td>\n",
       "      <td>20000.0</td>\n",
       "      <td>False</td>\n",
       "      <td>0</td>\n",
       "      <td>0.761905</td>\n",
       "      <td>46</td>\n",
       "      <td>1</td>\n",
       "      <td>0</td>\n",
       "      <td>1</td>\n",
       "      <td>26137</td>\n",
       "    </tr>\n",
       "    <tr>\n",
       "      <th>2</th>\n",
       "      <td>115</td>\n",
       "      <td>0.687217</td>\n",
       "      <td>0</td>\n",
       "      <td>19000.0</td>\n",
       "      <td>False</td>\n",
       "      <td>0</td>\n",
       "      <td>0.727273</td>\n",
       "      <td>46</td>\n",
       "      <td>1</td>\n",
       "      <td>0</td>\n",
       "      <td>1</td>\n",
       "      <td>36674</td>\n",
       "    </tr>\n",
       "    <tr>\n",
       "      <th>3</th>\n",
       "      <td>115</td>\n",
       "      <td>0.608222</td>\n",
       "      <td>0</td>\n",
       "      <td>21000.0</td>\n",
       "      <td>False</td>\n",
       "      <td>0</td>\n",
       "      <td>0.695652</td>\n",
       "      <td>46</td>\n",
       "      <td>1</td>\n",
       "      <td>0</td>\n",
       "      <td>1</td>\n",
       "      <td>47047</td>\n",
       "    </tr>\n",
       "    <tr>\n",
       "      <th>4</th>\n",
       "      <td>115</td>\n",
       "      <td>0.601824</td>\n",
       "      <td>1</td>\n",
       "      <td>22000.0</td>\n",
       "      <td>False</td>\n",
       "      <td>0</td>\n",
       "      <td>0.666667</td>\n",
       "      <td>46</td>\n",
       "      <td>1</td>\n",
       "      <td>0</td>\n",
       "      <td>1</td>\n",
       "      <td>40452</td>\n",
       "    </tr>\n",
       "  </tbody>\n",
       "</table>\n",
       "</div>"
      ],
      "text/plain": [
       "   user_id  content_id  answered_correctly  prior_question_elapsed_time  \\\n",
       "0      115    0.613215                   0                      29000.0   \n",
       "1      115    0.675862                   0                      20000.0   \n",
       "2      115    0.687217                   0                      19000.0   \n",
       "3      115    0.608222                   0                      21000.0   \n",
       "4      115    0.601824                   1                      22000.0   \n",
       "\n",
       "   prior_question_had_explanation binned_help_usage  user_correctness  \\\n",
       "0                           False                 0          0.800000   \n",
       "1                           False                 0          0.761905   \n",
       "2                           False                 0          0.727273   \n",
       "3                           False                 0          0.695652   \n",
       "4                           False                 0          0.666667   \n",
       "\n",
       "   nb_interactions  part L_R  difficulty_level  content_count  \n",
       "0               46     1   0                 1          31736  \n",
       "1               46     1   0                 1          26137  \n",
       "2               46     1   0                 1          36674  \n",
       "3               46     1   0                 1          47047  \n",
       "4               46     1   0                 1          40452  "
      ]
     },
     "execution_count": 18,
     "metadata": {},
     "output_type": "execute_result"
    }
   ],
   "source": [
    "train_df.head()"
   ]
  },
  {
   "cell_type": "markdown",
   "metadata": {
    "papermill": {
     "duration": 0.0315,
     "end_time": "2020-11-30T14:15:49.269231",
     "exception": false,
     "start_time": "2020-11-30T14:15:49.237731",
     "status": "completed"
    },
    "tags": []
   },
   "source": [
    "Points d'amélioration :\n",
    "- 0/ ~~Essayer mon nettoyage. Soumettre~~ *Résultat dévalué*\n",
    "- 1/ ~~Vérifier si tous les users ont au moins 24 interactions. Soumettre.~~ *Dévalué sur LB, meilleur en local | Option pour le LB privé*\n",
    "> Pour être bon au leaderboard public il faut laisser tous les users, pas sur que ce soit le cas pour le leaderboard privé\n",
    "- 2/ Essayer les parts de train et val (actuellement 24 / 6).\n",
    "- 3/ Injecter mes propres features, 1 à 1. Soumettre à chaque nouvelles features.\n",
    "\n",
    "- Régler les paramètres du modèle (actuellement standard)\n"
   ]
  },
  {
   "cell_type": "markdown",
   "metadata": {
    "papermill": {
     "duration": 0.030884,
     "end_time": "2020-11-30T14:15:49.333013",
     "exception": false,
     "start_time": "2020-11-30T14:15:49.302129",
     "status": "completed"
    },
    "tags": []
   },
   "source": [
    "# Train"
   ]
  },
  {
   "cell_type": "code",
   "execution_count": 19,
   "metadata": {
    "execution": {
     "iopub.execute_input": "2020-11-30T14:15:49.403776Z",
     "iopub.status.busy": "2020-11-30T14:15:49.402906Z",
     "iopub.status.idle": "2020-11-30T14:15:49.407182Z",
     "shell.execute_reply": "2020-11-30T14:15:49.406452Z"
    },
    "papermill": {
     "duration": 0.043264,
     "end_time": "2020-11-30T14:15:49.407331",
     "exception": false,
     "start_time": "2020-11-30T14:15:49.364067",
     "status": "completed"
    },
    "tags": []
   },
   "outputs": [],
   "source": [
    "features = [\n",
    "    'content_id',\n",
    "    'prior_question_elapsed_time',\n",
    "    'prior_question_had_explanation',\n",
    "    'user_correctness',\n",
    "    'part',\n",
    "    'content_count',\n",
    "    'binned_help_usage',\n",
    "    'L_R'\n",
    "]\n",
    "\n",
    "params = {\n",
    "    'objective': 'binary',\n",
    "    'seed': 42,\n",
    "    'metric': 'auc',\n",
    "    'learning_rate': 0.05,\n",
    "    'max_bin': 800,\n",
    "    'num_leaves': 80\n",
    "}"
   ]
  },
  {
   "cell_type": "code",
   "execution_count": 20,
   "metadata": {
    "execution": {
     "iopub.execute_input": "2020-11-30T14:15:49.515576Z",
     "iopub.status.busy": "2020-11-30T14:15:49.479702Z",
     "iopub.status.idle": "2020-11-30T15:02:38.383422Z",
     "shell.execute_reply": "2020-11-30T15:02:38.382646Z"
    },
    "papermill": {
     "duration": 2808.9441,
     "end_time": "2020-11-30T15:02:38.383631",
     "exception": false,
     "start_time": "2020-11-30T14:15:49.439531",
     "status": "completed"
    },
    "tags": []
   },
   "outputs": [
    {
     "name": "stdout",
     "output_type": "stream",
     "text": [
      "Training until validation scores don't improve for 50 rounds\n",
      "[50]\ttraining's auc: 0.757848\tvalid_1's auc: 0.741723\n",
      "[100]\ttraining's auc: 0.759399\tvalid_1's auc: 0.743444\n",
      "[150]\ttraining's auc: 0.760024\tvalid_1's auc: 0.743962\n",
      "[200]\ttraining's auc: 0.760298\tvalid_1's auc: 0.744106\n",
      "[250]\ttraining's auc: 0.760564\tvalid_1's auc: 0.744237\n",
      "[300]\ttraining's auc: 0.760819\tvalid_1's auc: 0.74434\n",
      "[350]\ttraining's auc: 0.761061\tvalid_1's auc: 0.744444\n",
      "[400]\ttraining's auc: 0.761272\tvalid_1's auc: 0.744496\n",
      "[450]\ttraining's auc: 0.761466\tvalid_1's auc: 0.744543\n",
      "[500]\ttraining's auc: 0.761662\tvalid_1's auc: 0.744595\n",
      "[550]\ttraining's auc: 0.761889\tvalid_1's auc: 0.744659\n",
      "[600]\ttraining's auc: 0.762061\tvalid_1's auc: 0.74469\n",
      "[650]\ttraining's auc: 0.76223\tvalid_1's auc: 0.744723\n",
      "[700]\ttraining's auc: 0.762392\tvalid_1's auc: 0.744742\n",
      "[750]\ttraining's auc: 0.76255\tvalid_1's auc: 0.744759\n",
      "[800]\ttraining's auc: 0.762709\tvalid_1's auc: 0.744773\n",
      "[850]\ttraining's auc: 0.762888\tvalid_1's auc: 0.744791\n",
      "[900]\ttraining's auc: 0.763058\tvalid_1's auc: 0.744806\n",
      "[950]\ttraining's auc: 0.763213\tvalid_1's auc: 0.744816\n",
      "[1000]\ttraining's auc: 0.763374\tvalid_1's auc: 0.744829\n",
      "[1050]\ttraining's auc: 0.763537\tvalid_1's auc: 0.744845\n",
      "[1100]\ttraining's auc: 0.76371\tvalid_1's auc: 0.744855\n",
      "[1150]\ttraining's auc: 0.763862\tvalid_1's auc: 0.744872\n",
      "[1200]\ttraining's auc: 0.764049\tvalid_1's auc: 0.744891\n",
      "[1250]\ttraining's auc: 0.764211\tvalid_1's auc: 0.744891\n",
      "[1300]\ttraining's auc: 0.764377\tvalid_1's auc: 0.744905\n",
      "[1350]\ttraining's auc: 0.764534\tvalid_1's auc: 0.744914\n",
      "[1400]\ttraining's auc: 0.764701\tvalid_1's auc: 0.744934\n",
      "[1450]\ttraining's auc: 0.764856\tvalid_1's auc: 0.744953\n",
      "[1500]\ttraining's auc: 0.765014\tvalid_1's auc: 0.74496\n",
      "[1550]\ttraining's auc: 0.765162\tvalid_1's auc: 0.744965\n",
      "[1600]\ttraining's auc: 0.76532\tvalid_1's auc: 0.744974\n",
      "[1650]\ttraining's auc: 0.765477\tvalid_1's auc: 0.744978\n",
      "Early stopping, best iteration is:\n",
      "[1631]\ttraining's auc: 0.76542\tvalid_1's auc: 0.74498\n"
     ]
    },
    {
     "data": {
      "image/png": "[encoded data removed]",
      "text/plain": [
       "<Figure size 432x288 with 1 Axes>"
      ]
     },
     "metadata": {
      "needs_background": "light"
     },
     "output_type": "display_data"
    }
   ],
   "source": [
    "tr_data = lgb.Dataset(train_df[features], label=train_df[target])\n",
    "va_data = lgb.Dataset(valid_df[features], label=valid_df[target])\n",
    "\n",
    "model = lgb.train(\n",
    "    params, \n",
    "    tr_data, \n",
    "    num_boost_round=10000,\n",
    "    valid_sets=[tr_data, va_data], \n",
    "    early_stopping_rounds=50,\n",
    "    verbose_eval=50\n",
    ")\n",
    "\n",
    "# model.save_model(f'model_binned.txt')\n",
    "lgb.plot_importance(model, importance_type='gain')\n",
    "plt.show()"
   ]
  },
  {
   "cell_type": "markdown",
   "metadata": {
    "papermill": {
     "duration": 0.047058,
     "end_time": "2020-11-30T15:02:38.478754",
     "exception": false,
     "start_time": "2020-11-30T15:02:38.431696",
     "status": "completed"
    },
    "tags": []
   },
   "source": [
    "# Inference"
   ]
  },
  {
   "cell_type": "code",
   "execution_count": 21,
   "metadata": {
    "execution": {
     "iopub.execute_input": "2020-11-30T15:02:38.582263Z",
     "iopub.status.busy": "2020-11-30T15:02:38.581472Z",
     "iopub.status.idle": "2020-11-30T15:02:39.071734Z",
     "shell.execute_reply": "2020-11-30T15:02:39.071043Z"
    },
    "papermill": {
     "duration": 0.546642,
     "end_time": "2020-11-30T15:02:39.071861",
     "exception": false,
     "start_time": "2020-11-30T15:02:38.525219",
     "status": "completed"
    },
    "tags": []
   },
   "outputs": [],
   "source": [
    "user_sum_dict = user_agg['sum'].astype('int16').to_dict(defaultdict(int))\n",
    "user_count_dict = user_agg['count'].astype('int16').to_dict(defaultdict(int))\n",
    "content_sum_dict = content_agg['sum'].astype('int32').to_dict(defaultdict(int))\n",
    "content_count_dict = content_agg['count'].astype('int32').to_dict(defaultdict(int))"
   ]
  },
  {
   "cell_type": "code",
   "execution_count": 22,
   "metadata": {
    "execution": {
     "iopub.execute_input": "2020-11-30T15:02:39.172889Z",
     "iopub.status.busy": "2020-11-30T15:02:39.171778Z",
     "iopub.status.idle": "2020-11-30T15:02:39.176478Z",
     "shell.execute_reply": "2020-11-30T15:02:39.175621Z"
    },
    "papermill": {
     "duration": 0.057823,
     "end_time": "2020-11-30T15:02:39.176613",
     "exception": false,
     "start_time": "2020-11-30T15:02:39.118790",
     "status": "completed"
    },
    "tags": []
   },
   "outputs": [
    {
     "data": {
      "text/plain": [
       "\"\\ntest_df = pd.read_csv('../input/riiid-test-answer-prediction/example_test.csv')\\n\\ntest_df = test_df[test_df['content_type_id'] == 0].reset_index(drop=True)\\ntest_df = pd.merge(test_df, help_usage, on='user_id', how='left')\\ntest_df.binned_help_usage = test_df.binned_help_usage.fillna(0)\\ntest_df = pd.merge(test_df, questions_df, left_on='content_id', right_on='question_id', how='left')\\ntest_df['prior_question_had_explanation'] = test_df['prior_question_had_explanation'].fillna(False).astype('bool')\\ntest_df\\n\""
      ]
     },
     "execution_count": 22,
     "metadata": {},
     "output_type": "execute_result"
    }
   ],
   "source": [
    "\"\"\"\n",
    "test_df = pd.read_csv('../input/riiid-test-answer-prediction/example_test.csv')\n",
    "\n",
    "test_df = test_df[test_df['content_type_id'] == 0].reset_index(drop=True)\n",
    "test_df = pd.merge(test_df, help_usage, on='user_id', how='left')\n",
    "test_df.binned_help_usage = test_df.binned_help_usage.fillna(0)\n",
    "test_df = pd.merge(test_df, questions_df, left_on='content_id', right_on='question_id', how='left')\n",
    "test_df['prior_question_had_explanation'] = test_df['prior_question_had_explanation'].fillna(False).astype('bool')\n",
    "test_df\n",
    "\"\"\""
   ]
  },
  {
   "cell_type": "code",
   "execution_count": 23,
   "metadata": {
    "execution": {
     "iopub.execute_input": "2020-11-30T15:02:39.280416Z",
     "iopub.status.busy": "2020-11-30T15:02:39.279431Z",
     "iopub.status.idle": "2020-11-30T15:02:39.282451Z",
     "shell.execute_reply": "2020-11-30T15:02:39.281828Z"
    },
    "papermill": {
     "duration": 0.057548,
     "end_time": "2020-11-30T15:02:39.282588",
     "exception": false,
     "start_time": "2020-11-30T15:02:39.225040",
     "status": "completed"
    },
    "tags": []
   },
   "outputs": [],
   "source": [
    "# model = lgb.Booster(model_file='../input/model-binned/model_binned.txt')\n",
    "env = riiideducation.make_env()\n",
    "iter_test = env.iter_test()\n",
    "prior_test_df = None"
   ]
  },
  {
   "cell_type": "code",
   "execution_count": 24,
   "metadata": {
    "execution": {
     "iopub.execute_input": "2020-11-30T15:02:39.406056Z",
     "iopub.status.busy": "2020-11-30T15:02:39.405242Z",
     "iopub.status.idle": "2020-11-30T15:02:40.339417Z",
     "shell.execute_reply": "2020-11-30T15:02:40.340665Z"
    },
    "papermill": {
     "duration": 1.010296,
     "end_time": "2020-11-30T15:02:40.340881",
     "exception": false,
     "start_time": "2020-11-30T15:02:39.330585",
     "status": "completed"
    },
    "tags": []
   },
   "outputs": [
    {
     "name": "stdout",
     "output_type": "stream",
     "text": [
      "CPU times: user 1.69 s, sys: 66.3 ms, total: 1.76 s\n",
      "Wall time: 933 ms\n"
     ]
    }
   ],
   "source": [
    "%%time\n",
    "\n",
    "for (test_df, sample_prediction_df) in iter_test:\n",
    "    # Extraction des données du test_df précédent\n",
    "    if prior_test_df is not None:\n",
    "        prior_test_df[target] = eval(test_df['prior_group_answers_correct'].iloc[0])\n",
    "        prior_test_df = prior_test_df[prior_test_df[target] != -1].reset_index(drop=True)\n",
    "        \n",
    "        # Récupération des valeurs\n",
    "        user_ids = prior_test_df['user_id'].values\n",
    "        content_ids = prior_test_df['content_id'].values\n",
    "        targets = prior_test_df[target].values\n",
    "        \n",
    "        # Intégration dans un dictionnaire\n",
    "        for user_id, content_id, answered_correctly in zip(user_ids, content_ids, targets):\n",
    "            user_sum_dict[user_id] += answered_correctly\n",
    "            user_count_dict[user_id] += 1\n",
    "            content_sum_dict[content_id] += answered_correctly\n",
    "            content_count_dict[content_id] += 1\n",
    "    \n",
    "    # Copie du test_df pour réutilisation\n",
    "    prior_test_df = test_df.copy()\n",
    "    \n",
    "    \n",
    "    test_df = test_df[test_df['content_type_id'] == 0].reset_index(drop=True)\n",
    "    test_df = pd.merge(test_df, help_usage, on='user_id', how='left')\n",
    "    test_df.binned_help_usage = test_df.binned_help_usage.fillna(0)\n",
    "    test_df = pd.merge(test_df, questions_df, left_on='content_id', right_on='question_id', how='left')\n",
    "    test_df['prior_question_had_explanation'] = test_df['prior_question_had_explanation'].fillna(False).astype('bool')    \n",
    "    \n",
    "    user_sum = np.zeros(len(test_df), dtype=np.int16)\n",
    "    user_count = np.zeros(len(test_df), dtype=np.int16)\n",
    "    content_sum = np.zeros(len(test_df), dtype=np.int32)\n",
    "    content_count = np.zeros(len(test_df), dtype=np.int32)\n",
    "    \n",
    "    for i, (user_id, content_id) in enumerate(zip(test_df['user_id'].values, test_df['content_id'].values)):\n",
    "        user_sum[i] = user_sum_dict[user_id]\n",
    "        user_count[i] = user_count_dict[user_id]\n",
    "        content_sum[i] = content_sum_dict[content_id]\n",
    "        content_count[i] = content_count_dict[content_id]\n",
    "\n",
    "    test_df['user_correctness'] = user_sum / user_count\n",
    "    test_df['content_count'] = content_count\n",
    "    test_df['content_id'] = content_sum / content_count\n",
    "       \n",
    "    test_df[target] = model.predict(test_df[features])\n",
    "    env.predict(test_df[['row_id', target]])"
   ]
  }
 ],
 "metadata": {
  "kernelspec": {
   "display_name": "Python 3",
   "language": "python",
   "name": "python3"
  },
  "language_info": {
   "codemirror_mode": {
    "name": "ipython",
    "version": 3
   },
   "file_extension": ".py",
   "mimetype": "text/x-python",
   "name": "python",
   "nbconvert_exporter": "python",
   "pygments_lexer": "ipython3",
   "version": "3.7.6"
  },
  "papermill": {
   "duration": 3023.70104,
   "end_time": "2020-11-30T15:02:40.498193",
   "environment_variables": {},
   "exception": null,
   "input_path": "__notebook__.ipynb",
   "output_path": "__notebook__.ipynb",
   "parameters": {},
   "start_time": "2020-11-30T14:12:16.797153",
   "version": "2.1.0"
  }
 },
 "nbformat": 4,
 "nbformat_minor": 4
}
