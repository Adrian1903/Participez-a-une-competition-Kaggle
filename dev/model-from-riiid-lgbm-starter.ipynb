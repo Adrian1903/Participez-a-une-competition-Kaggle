{
 "cells": [
  {
   "cell_type": "code",
   "execution_count": 1,
   "metadata": {
    "_cell_guid": "b1076dfc-b9ad-4769-8c92-a6c4dae69d19",
    "_uuid": "8f2839f25d086af736a60e9eeb907d3b93b6e0e5",
    "execution": {
     "iopub.execute_input": "2020-11-30T15:17:56.393832Z",
     "iopub.status.busy": "2020-11-30T15:17:56.392916Z",
     "iopub.status.idle": "2020-11-30T15:18:26.763330Z",
     "shell.execute_reply": "2020-11-30T15:18:26.762554Z"
    },
    "papermill": {
     "duration": 30.402838,
     "end_time": "2020-11-30T15:18:26.763473",
     "exception": false,
     "start_time": "2020-11-30T15:17:56.360635",
     "status": "completed"
    },
    "tags": []
   },
   "outputs": [],
   "source": [
    "!pip install ../input/python-datatable/datatable-0.11.0-cp37-cp37m-manylinux2010_x86_64.whl > /dev/null 2>&1"
   ]
  },
  {
   "cell_type": "code",
   "execution_count": 2,
   "metadata": {
    "_cell_guid": "79c7e3d0-c299-4dcb-8224-4455121ee9b0",
    "_uuid": "d629ff2d2480ee46fbb7e2d37f6b5fab8052498a",
    "execution": {
     "iopub.execute_input": "2020-11-30T15:18:26.816560Z",
     "iopub.status.busy": "2020-11-30T15:18:26.815789Z",
     "iopub.status.idle": "2020-11-30T15:18:27.952770Z",
     "shell.execute_reply": "2020-11-30T15:18:27.952044Z"
    },
    "papermill": {
     "duration": 1.166595,
     "end_time": "2020-11-30T15:18:27.952901",
     "exception": false,
     "start_time": "2020-11-30T15:18:26.786306",
     "status": "completed"
    },
    "tags": []
   },
   "outputs": [
    {
     "data": {
      "text/html": [
       "<style type='text/css'>\n",
       ".datatable table.frame { margin-bottom: 0; }\n",
       ".datatable table.frame thead { border-bottom: none; }\n",
       ".datatable table.frame tr.coltypes td {  color: #FFFFFF;  line-height: 6px;  padding: 0 0.5em;}\n",
       ".datatable .bool    { background: #DDDD99; }\n",
       ".datatable .object  { background: #565656; }\n",
       ".datatable .int     { background: #5D9E5D; }\n",
       ".datatable .float   { background: #4040CC; }\n",
       ".datatable .str     { background: #CC4040; }\n",
       ".datatable .row_index {  background: var(--jp-border-color3);  border-right: 1px solid var(--jp-border-color0);  color: var(--jp-ui-font-color3);  font-size: 9px;}\n",
       ".datatable .frame tr.coltypes .row_index {  background: var(--jp-border-color0);}\n",
       ".datatable th:nth-child(2) { padding-left: 12px; }\n",
       ".datatable .hellipsis {  color: var(--jp-cell-editor-border-color);}\n",
       ".datatable .vellipsis {  background: var(--jp-layout-color0);  color: var(--jp-cell-editor-border-color);}\n",
       ".datatable .na {  color: var(--jp-cell-editor-border-color);  font-size: 80%;}\n",
       ".datatable .footer { font-size: 9px; }\n",
       ".datatable .frame_dimensions {  background: var(--jp-border-color3);  border-top: 1px solid var(--jp-border-color0);  color: var(--jp-ui-font-color3);  display: inline-block;  opacity: 0.6;  padding: 1px 10px 1px 5px;}\n",
       "</style>\n"
      ],
      "text/plain": [
       "<IPython.core.display.HTML object>"
      ]
     },
     "metadata": {},
     "output_type": "display_data"
    }
   ],
   "source": [
    "import numpy as np\n",
    "import pandas as pd\n",
    "from collections import defaultdict\n",
    "import datatable as dt\n",
    "import lightgbm as lgb\n",
    "from matplotlib import pyplot as plt\n",
    "import riiideducation\n",
    "\n",
    "_ = np.seterr(divide='ignore', invalid='ignore')"
   ]
  },
  {
   "cell_type": "markdown",
   "metadata": {
    "papermill": {
     "duration": 0.022471,
     "end_time": "2020-11-30T15:18:27.998806",
     "exception": false,
     "start_time": "2020-11-30T15:18:27.976335",
     "status": "completed"
    },
    "tags": []
   },
   "source": [
    "# Preprocess"
   ]
  },
  {
   "cell_type": "code",
   "execution_count": 3,
   "metadata": {
    "execution": {
     "iopub.execute_input": "2020-11-30T15:18:28.050874Z",
     "iopub.status.busy": "2020-11-30T15:18:28.050102Z",
     "iopub.status.idle": "2020-11-30T15:18:28.053714Z",
     "shell.execute_reply": "2020-11-30T15:18:28.053132Z"
    },
    "papermill": {
     "duration": 0.03206,
     "end_time": "2020-11-30T15:18:28.053839",
     "exception": false,
     "start_time": "2020-11-30T15:18:28.021779",
     "status": "completed"
    },
    "tags": []
   },
   "outputs": [],
   "source": [
    "data_types_dict = {\n",
    "    'user_id': 'int32', \n",
    "    'content_id': 'int16', \n",
    "    'answered_correctly': 'int8', \n",
    "    'prior_question_elapsed_time': 'float32', \n",
    "    'prior_question_had_explanation': 'bool'\n",
    "}\n",
    "target = 'answered_correctly'"
   ]
  },
  {
   "cell_type": "code",
   "execution_count": 4,
   "metadata": {
    "execution": {
     "iopub.execute_input": "2020-11-30T15:18:28.105940Z",
     "iopub.status.busy": "2020-11-30T15:18:28.105189Z",
     "iopub.status.idle": "2020-11-30T15:19:19.474187Z",
     "shell.execute_reply": "2020-11-30T15:19:19.474769Z"
    },
    "papermill": {
     "duration": 51.397942,
     "end_time": "2020-11-30T15:19:19.474961",
     "exception": false,
     "start_time": "2020-11-30T15:18:28.077019",
     "status": "completed"
    },
    "tags": []
   },
   "outputs": [],
   "source": [
    "train_df = dt.fread('../input/riiid-test-answer-prediction/train.csv', columns=set(data_types_dict.keys())).to_pandas()"
   ]
  },
  {
   "cell_type": "code",
   "execution_count": 5,
   "metadata": {
    "execution": {
     "iopub.execute_input": "2020-11-30T15:19:19.539594Z",
     "iopub.status.busy": "2020-11-30T15:19:19.538805Z",
     "iopub.status.idle": "2020-11-30T15:19:20.442956Z",
     "shell.execute_reply": "2020-11-30T15:19:20.442266Z"
    },
    "papermill": {
     "duration": 0.944424,
     "end_time": "2020-11-30T15:19:20.443088",
     "exception": false,
     "start_time": "2020-11-30T15:19:19.498664",
     "status": "completed"
    },
    "tags": []
   },
   "outputs": [
    {
     "data": {
      "text/html": [
       "<div>\n",
       "<style scoped>\n",
       "    .dataframe tbody tr th:only-of-type {\n",
       "        vertical-align: middle;\n",
       "    }\n",
       "\n",
       "    .dataframe tbody tr th {\n",
       "        vertical-align: top;\n",
       "    }\n",
       "\n",
       "    .dataframe thead th {\n",
       "        text-align: right;\n",
       "    }\n",
       "</style>\n",
       "<table border=\"1\" class=\"dataframe\">\n",
       "  <thead>\n",
       "    <tr style=\"text-align: right;\">\n",
       "      <th></th>\n",
       "      <th>user_id</th>\n",
       "      <th>binned_help_usage</th>\n",
       "    </tr>\n",
       "  </thead>\n",
       "  <tbody>\n",
       "    <tr>\n",
       "      <th>0</th>\n",
       "      <td>2746</td>\n",
       "      <td>1</td>\n",
       "    </tr>\n",
       "    <tr>\n",
       "      <th>1</th>\n",
       "      <td>5382</td>\n",
       "      <td>2</td>\n",
       "    </tr>\n",
       "    <tr>\n",
       "      <th>2</th>\n",
       "      <td>8623</td>\n",
       "      <td>2</td>\n",
       "    </tr>\n",
       "    <tr>\n",
       "      <th>3</th>\n",
       "      <td>12741</td>\n",
       "      <td>3</td>\n",
       "    </tr>\n",
       "    <tr>\n",
       "      <th>4</th>\n",
       "      <td>13134</td>\n",
       "      <td>3</td>\n",
       "    </tr>\n",
       "    <tr>\n",
       "      <th>...</th>\n",
       "      <td>...</td>\n",
       "      <td>...</td>\n",
       "    </tr>\n",
       "    <tr>\n",
       "      <th>149601</th>\n",
       "      <td>2147419988</td>\n",
       "      <td>3</td>\n",
       "    </tr>\n",
       "    <tr>\n",
       "      <th>149602</th>\n",
       "      <td>2147469944</td>\n",
       "      <td>2</td>\n",
       "    </tr>\n",
       "    <tr>\n",
       "      <th>149603</th>\n",
       "      <td>2147470770</td>\n",
       "      <td>2</td>\n",
       "    </tr>\n",
       "    <tr>\n",
       "      <th>149604</th>\n",
       "      <td>2147470777</td>\n",
       "      <td>3</td>\n",
       "    </tr>\n",
       "    <tr>\n",
       "      <th>149605</th>\n",
       "      <td>2147482216</td>\n",
       "      <td>3</td>\n",
       "    </tr>\n",
       "  </tbody>\n",
       "</table>\n",
       "<p>149606 rows × 2 columns</p>\n",
       "</div>"
      ],
      "text/plain": [
       "           user_id binned_help_usage\n",
       "0             2746                 1\n",
       "1             5382                 2\n",
       "2             8623                 2\n",
       "3            12741                 3\n",
       "4            13134                 3\n",
       "...            ...               ...\n",
       "149601  2147419988                 3\n",
       "149602  2147469944                 2\n",
       "149603  2147470770                 2\n",
       "149604  2147470777                 3\n",
       "149605  2147482216                 3\n",
       "\n",
       "[149606 rows x 2 columns]"
      ]
     },
     "execution_count": 5,
     "metadata": {},
     "output_type": "execute_result"
    }
   ],
   "source": [
    "help_usage = train_df[train_df[target] == -1].groupby('user_id')['content_id'].count()\n",
    "help_usage = help_usage.reset_index().rename(columns={'content_id': 'help_usage'})\n",
    "help_usage['binned_help_usage'] = pd.cut(help_usage['help_usage'], bins=[-np.inf, 0, 1, 3, np.inf], labels=[0, 1, 2, 3])\n",
    "help_usage.drop(columns=['help_usage'], inplace=True)\n",
    "help_usage"
   ]
  },
  {
   "cell_type": "code",
   "execution_count": 6,
   "metadata": {
    "execution": {
     "iopub.execute_input": "2020-11-30T15:19:20.498269Z",
     "iopub.status.busy": "2020-11-30T15:19:20.497046Z",
     "iopub.status.idle": "2020-11-30T15:19:39.650994Z",
     "shell.execute_reply": "2020-11-30T15:19:39.650331Z"
    },
    "papermill": {
     "duration": 19.184033,
     "end_time": "2020-11-30T15:19:39.651123",
     "exception": false,
     "start_time": "2020-11-30T15:19:20.467090",
     "status": "completed"
    },
    "tags": []
   },
   "outputs": [],
   "source": [
    "train_df = pd.merge(train_df, help_usage, on='user_id', how='left')\n",
    "train_df.binned_help_usage = train_df.binned_help_usage.fillna(0)"
   ]
  },
  {
   "cell_type": "code",
   "execution_count": 7,
   "metadata": {
    "execution": {
     "iopub.execute_input": "2020-11-30T15:19:39.718991Z",
     "iopub.status.busy": "2020-11-30T15:19:39.717896Z",
     "iopub.status.idle": "2020-11-30T15:20:06.737406Z",
     "shell.execute_reply": "2020-11-30T15:20:06.736706Z"
    },
    "papermill": {
     "duration": 27.061973,
     "end_time": "2020-11-30T15:20:06.737563",
     "exception": false,
     "start_time": "2020-11-30T15:19:39.675590",
     "status": "completed"
    },
    "tags": []
   },
   "outputs": [],
   "source": [
    "train_df = train_df[train_df[target] != -1].reset_index(drop=True)\n",
    "train_df['prior_question_had_explanation'].fillna(False, inplace=True)\n",
    "train_df = train_df.astype(data_types_dict)"
   ]
  },
  {
   "cell_type": "code",
   "execution_count": 8,
   "metadata": {
    "execution": {
     "iopub.execute_input": "2020-11-30T15:20:06.795561Z",
     "iopub.status.busy": "2020-11-30T15:20:06.794099Z",
     "iopub.status.idle": "2020-11-30T15:20:25.186773Z",
     "shell.execute_reply": "2020-11-30T15:20:25.186103Z"
    },
    "papermill": {
     "duration": 18.424799,
     "end_time": "2020-11-30T15:20:25.186913",
     "exception": false,
     "start_time": "2020-11-30T15:20:06.762114",
     "status": "completed"
    },
    "tags": []
   },
   "outputs": [],
   "source": [
    "# Calcul du taux de réussite de l'utilisateur en fonction de son avancée\n",
    "train_df['lag'] = train_df.groupby('user_id')[target].shift()\n",
    "cum = train_df.groupby('user_id')['lag'].agg(['cumsum', 'cumcount'])\n",
    "train_df['user_correctness'] = cum['cumsum'] / cum['cumcount']\n",
    "train_df.drop(columns=['lag'], inplace=True)"
   ]
  },
  {
   "cell_type": "code",
   "execution_count": 9,
   "metadata": {
    "execution": {
     "iopub.execute_input": "2020-11-30T15:20:25.243650Z",
     "iopub.status.busy": "2020-11-30T15:20:25.242872Z",
     "iopub.status.idle": "2020-11-30T15:20:34.875549Z",
     "shell.execute_reply": "2020-11-30T15:20:34.874444Z"
    },
    "papermill": {
     "duration": 9.664151,
     "end_time": "2020-11-30T15:20:34.875742",
     "exception": false,
     "start_time": "2020-11-30T15:20:25.211591",
     "status": "completed"
    },
    "tags": []
   },
   "outputs": [],
   "source": [
    "# Je compte le nombre de bonnes réponses par utilisateurs et \n",
    "# Je compte le nombre de réponses par utilsateurs (juste ou fausse)\n",
    "user_agg = train_df.groupby('user_id')[target].agg(['sum', 'count'])\n",
    "\n",
    "# Je compte le nombre de bonnes réponses par contenu et\n",
    "# Je compte le nombres de réponses par contenu (juste ou fausse)\n",
    "content_agg = train_df.groupby('content_id')[target].agg(['sum', 'count'])"
   ]
  },
  {
   "cell_type": "markdown",
   "metadata": {
    "papermill": {
     "duration": 0.031852,
     "end_time": "2020-11-30T15:20:34.952660",
     "exception": false,
     "start_time": "2020-11-30T15:20:34.920808",
     "status": "completed"
    },
    "tags": []
   },
   "source": [
    "Stratégie de validation\n",
    "\n",
    "Initialement, il est conservé les 24 dernières interactions par utilisateurs, \n",
    "Les 6 dernières sont affectés aux données de validation, soit 25%.\n",
    "Il convient de s'assurer que chacun des utilisateurs aient au moins 24 interactions à son actif pour respecter les 25% dans un premier temps.\n",
    "\n",
    "Dans un second temps, il conviendra de tester d'autres proportions, comme 48 / 12."
   ]
  },
  {
   "cell_type": "markdown",
   "metadata": {
    "papermill": {
     "duration": 0.025073,
     "end_time": "2020-11-30T15:20:35.007817",
     "exception": false,
     "start_time": "2020-11-30T15:20:34.982744",
     "status": "completed"
    },
    "tags": []
   },
   "source": [
    "24 correspond à 80% des users avec plus de 24 interactions. Cependant, les users avec moins de 24 interactions sont conservés"
   ]
  },
  {
   "cell_type": "code",
   "execution_count": 10,
   "metadata": {
    "execution": {
     "iopub.execute_input": "2020-11-30T15:20:35.068671Z",
     "iopub.status.busy": "2020-11-30T15:20:35.067866Z",
     "iopub.status.idle": "2020-11-30T15:20:37.611935Z",
     "shell.execute_reply": "2020-11-30T15:20:37.611312Z"
    },
    "papermill": {
     "duration": 2.578812,
     "end_time": "2020-11-30T15:20:37.612079",
     "exception": false,
     "start_time": "2020-11-30T15:20:35.033267",
     "status": "completed"
    },
    "tags": []
   },
   "outputs": [
    {
     "name": "stdout",
     "output_type": "stream",
     "text": [
      "80 % des utilisateurs ont au moins 26 interactions\n"
     ]
    }
   ],
   "source": [
    "# J'ai 80 % des utilisateurs qui ont au moins 24 interactions. \n",
    "# J'ai besoin de 24 interactions, dont les 6 dernières en validation\n",
    "# Que se passe-t-il si il ont moins de 6 interaction \n",
    "user_info = train_df.groupby('user_id')['content_id'].count().sort_values(ascending=False).reset_index()\n",
    "user_info = user_info.rename(columns={'content_id':'nb_interactions'})\n",
    "\n",
    "# Loi de Pareto 80/20\n",
    "tresh = 80\n",
    "idx = int(len(user_info) * tresh / 100)\n",
    "min_interaction = user_info.at[idx, 'nb_interactions']\n",
    "print(f'{tresh} % des utilisateurs ont au moins {min_interaction} interactions')"
   ]
  },
  {
   "cell_type": "code",
   "execution_count": 11,
   "metadata": {
    "execution": {
     "iopub.execute_input": "2020-11-30T15:20:37.669961Z",
     "iopub.status.busy": "2020-11-30T15:20:37.669204Z",
     "iopub.status.idle": "2020-11-30T15:20:37.688218Z",
     "shell.execute_reply": "2020-11-30T15:20:37.687466Z"
    },
    "papermill": {
     "duration": 0.049834,
     "end_time": "2020-11-30T15:20:37.688337",
     "exception": false,
     "start_time": "2020-11-30T15:20:37.638503",
     "status": "completed"
    },
    "tags": []
   },
   "outputs": [
    {
     "data": {
      "text/html": [
       "<div>\n",
       "<style scoped>\n",
       "    .dataframe tbody tr th:only-of-type {\n",
       "        vertical-align: middle;\n",
       "    }\n",
       "\n",
       "    .dataframe tbody tr th {\n",
       "        vertical-align: top;\n",
       "    }\n",
       "\n",
       "    .dataframe thead th {\n",
       "        text-align: right;\n",
       "    }\n",
       "</style>\n",
       "<table border=\"1\" class=\"dataframe\">\n",
       "  <thead>\n",
       "    <tr style=\"text-align: right;\">\n",
       "      <th></th>\n",
       "      <th>user_id</th>\n",
       "      <th>nb_interactions</th>\n",
       "    </tr>\n",
       "  </thead>\n",
       "  <tbody>\n",
       "    <tr>\n",
       "      <th>0</th>\n",
       "      <td>801103753</td>\n",
       "      <td>17609</td>\n",
       "    </tr>\n",
       "    <tr>\n",
       "      <th>1</th>\n",
       "      <td>1478712595</td>\n",
       "      <td>16842</td>\n",
       "    </tr>\n",
       "    <tr>\n",
       "      <th>2</th>\n",
       "      <td>455973631</td>\n",
       "      <td>16640</td>\n",
       "    </tr>\n",
       "    <tr>\n",
       "      <th>3</th>\n",
       "      <td>1842816145</td>\n",
       "      <td>16533</td>\n",
       "    </tr>\n",
       "    <tr>\n",
       "      <th>4</th>\n",
       "      <td>1743444187</td>\n",
       "      <td>16424</td>\n",
       "    </tr>\n",
       "    <tr>\n",
       "      <th>...</th>\n",
       "      <td>...</td>\n",
       "      <td>...</td>\n",
       "    </tr>\n",
       "    <tr>\n",
       "      <th>315690</th>\n",
       "      <td>1161533469</td>\n",
       "      <td>26</td>\n",
       "    </tr>\n",
       "    <tr>\n",
       "      <th>315691</th>\n",
       "      <td>1923443849</td>\n",
       "      <td>26</td>\n",
       "    </tr>\n",
       "    <tr>\n",
       "      <th>315692</th>\n",
       "      <td>535972367</td>\n",
       "      <td>26</td>\n",
       "    </tr>\n",
       "    <tr>\n",
       "      <th>315693</th>\n",
       "      <td>2095103204</td>\n",
       "      <td>26</td>\n",
       "    </tr>\n",
       "    <tr>\n",
       "      <th>315694</th>\n",
       "      <td>59340969</td>\n",
       "      <td>26</td>\n",
       "    </tr>\n",
       "  </tbody>\n",
       "</table>\n",
       "<p>315695 rows × 2 columns</p>\n",
       "</div>"
      ],
      "text/plain": [
       "           user_id  nb_interactions\n",
       "0        801103753            17609\n",
       "1       1478712595            16842\n",
       "2        455973631            16640\n",
       "3       1842816145            16533\n",
       "4       1743444187            16424\n",
       "...            ...              ...\n",
       "315690  1161533469               26\n",
       "315691  1923443849               26\n",
       "315692   535972367               26\n",
       "315693  2095103204               26\n",
       "315694    59340969               26\n",
       "\n",
       "[315695 rows x 2 columns]"
      ]
     },
     "execution_count": 11,
     "metadata": {},
     "output_type": "execute_result"
    }
   ],
   "source": [
    "user_info = user_info[user_info.nb_interactions >= min_interaction]\n",
    "user_info"
   ]
  },
  {
   "cell_type": "code",
   "execution_count": 12,
   "metadata": {
    "execution": {
     "iopub.execute_input": "2020-11-30T15:20:37.746409Z",
     "iopub.status.busy": "2020-11-30T15:20:37.745694Z",
     "iopub.status.idle": "2020-11-30T15:20:51.011439Z",
     "shell.execute_reply": "2020-11-30T15:20:51.010681Z"
    },
    "papermill": {
     "duration": 13.296787,
     "end_time": "2020-11-30T15:20:51.011590",
     "exception": false,
     "start_time": "2020-11-30T15:20:37.714803",
     "status": "completed"
    },
    "tags": []
   },
   "outputs": [
    {
     "data": {
      "text/html": [
       "<div>\n",
       "<style scoped>\n",
       "    .dataframe tbody tr th:only-of-type {\n",
       "        vertical-align: middle;\n",
       "    }\n",
       "\n",
       "    .dataframe tbody tr th {\n",
       "        vertical-align: top;\n",
       "    }\n",
       "\n",
       "    .dataframe thead th {\n",
       "        text-align: right;\n",
       "    }\n",
       "</style>\n",
       "<table border=\"1\" class=\"dataframe\">\n",
       "  <thead>\n",
       "    <tr style=\"text-align: right;\">\n",
       "      <th></th>\n",
       "      <th>user_id</th>\n",
       "      <th>content_id</th>\n",
       "      <th>answered_correctly</th>\n",
       "      <th>prior_question_elapsed_time</th>\n",
       "      <th>prior_question_had_explanation</th>\n",
       "      <th>binned_help_usage</th>\n",
       "      <th>user_correctness</th>\n",
       "      <th>nb_interactions</th>\n",
       "    </tr>\n",
       "  </thead>\n",
       "  <tbody>\n",
       "    <tr>\n",
       "      <th>0</th>\n",
       "      <td>115</td>\n",
       "      <td>5692</td>\n",
       "      <td>1</td>\n",
       "      <td>NaN</td>\n",
       "      <td>False</td>\n",
       "      <td>0</td>\n",
       "      <td>NaN</td>\n",
       "      <td>46</td>\n",
       "    </tr>\n",
       "    <tr>\n",
       "      <th>1</th>\n",
       "      <td>115</td>\n",
       "      <td>5716</td>\n",
       "      <td>1</td>\n",
       "      <td>37000.0</td>\n",
       "      <td>False</td>\n",
       "      <td>0</td>\n",
       "      <td>1.000000</td>\n",
       "      <td>46</td>\n",
       "    </tr>\n",
       "    <tr>\n",
       "      <th>2</th>\n",
       "      <td>115</td>\n",
       "      <td>128</td>\n",
       "      <td>1</td>\n",
       "      <td>55000.0</td>\n",
       "      <td>False</td>\n",
       "      <td>0</td>\n",
       "      <td>1.000000</td>\n",
       "      <td>46</td>\n",
       "    </tr>\n",
       "    <tr>\n",
       "      <th>3</th>\n",
       "      <td>115</td>\n",
       "      <td>7860</td>\n",
       "      <td>1</td>\n",
       "      <td>19000.0</td>\n",
       "      <td>False</td>\n",
       "      <td>0</td>\n",
       "      <td>1.000000</td>\n",
       "      <td>46</td>\n",
       "    </tr>\n",
       "    <tr>\n",
       "      <th>4</th>\n",
       "      <td>115</td>\n",
       "      <td>7922</td>\n",
       "      <td>1</td>\n",
       "      <td>11000.0</td>\n",
       "      <td>False</td>\n",
       "      <td>0</td>\n",
       "      <td>1.000000</td>\n",
       "      <td>46</td>\n",
       "    </tr>\n",
       "    <tr>\n",
       "      <th>...</th>\n",
       "      <td>...</td>\n",
       "      <td>...</td>\n",
       "      <td>...</td>\n",
       "      <td>...</td>\n",
       "      <td>...</td>\n",
       "      <td>...</td>\n",
       "      <td>...</td>\n",
       "      <td>...</td>\n",
       "    </tr>\n",
       "    <tr>\n",
       "      <th>97948854</th>\n",
       "      <td>2147482888</td>\n",
       "      <td>3586</td>\n",
       "      <td>1</td>\n",
       "      <td>18000.0</td>\n",
       "      <td>True</td>\n",
       "      <td>0</td>\n",
       "      <td>0.500000</td>\n",
       "      <td>27</td>\n",
       "    </tr>\n",
       "    <tr>\n",
       "      <th>97948855</th>\n",
       "      <td>2147482888</td>\n",
       "      <td>6341</td>\n",
       "      <td>1</td>\n",
       "      <td>14000.0</td>\n",
       "      <td>True</td>\n",
       "      <td>0</td>\n",
       "      <td>0.521739</td>\n",
       "      <td>27</td>\n",
       "    </tr>\n",
       "    <tr>\n",
       "      <th>97948856</th>\n",
       "      <td>2147482888</td>\n",
       "      <td>4212</td>\n",
       "      <td>1</td>\n",
       "      <td>14000.0</td>\n",
       "      <td>True</td>\n",
       "      <td>0</td>\n",
       "      <td>0.541667</td>\n",
       "      <td>27</td>\n",
       "    </tr>\n",
       "    <tr>\n",
       "      <th>97948857</th>\n",
       "      <td>2147482888</td>\n",
       "      <td>6343</td>\n",
       "      <td>0</td>\n",
       "      <td>22000.0</td>\n",
       "      <td>True</td>\n",
       "      <td>0</td>\n",
       "      <td>0.560000</td>\n",
       "      <td>27</td>\n",
       "    </tr>\n",
       "    <tr>\n",
       "      <th>97948858</th>\n",
       "      <td>2147482888</td>\n",
       "      <td>7995</td>\n",
       "      <td>1</td>\n",
       "      <td>29000.0</td>\n",
       "      <td>True</td>\n",
       "      <td>0</td>\n",
       "      <td>0.538462</td>\n",
       "      <td>27</td>\n",
       "    </tr>\n",
       "  </tbody>\n",
       "</table>\n",
       "<p>97948859 rows × 8 columns</p>\n",
       "</div>"
      ],
      "text/plain": [
       "             user_id  content_id  answered_correctly  \\\n",
       "0                115        5692                   1   \n",
       "1                115        5716                   1   \n",
       "2                115         128                   1   \n",
       "3                115        7860                   1   \n",
       "4                115        7922                   1   \n",
       "...              ...         ...                 ...   \n",
       "97948854  2147482888        3586                   1   \n",
       "97948855  2147482888        6341                   1   \n",
       "97948856  2147482888        4212                   1   \n",
       "97948857  2147482888        6343                   0   \n",
       "97948858  2147482888        7995                   1   \n",
       "\n",
       "          prior_question_elapsed_time  prior_question_had_explanation  \\\n",
       "0                                 NaN                           False   \n",
       "1                             37000.0                           False   \n",
       "2                             55000.0                           False   \n",
       "3                             19000.0                           False   \n",
       "4                             11000.0                           False   \n",
       "...                               ...                             ...   \n",
       "97948854                      18000.0                            True   \n",
       "97948855                      14000.0                            True   \n",
       "97948856                      14000.0                            True   \n",
       "97948857                      22000.0                            True   \n",
       "97948858                      29000.0                            True   \n",
       "\n",
       "         binned_help_usage  user_correctness  nb_interactions  \n",
       "0                        0               NaN               46  \n",
       "1                        0          1.000000               46  \n",
       "2                        0          1.000000               46  \n",
       "3                        0          1.000000               46  \n",
       "4                        0          1.000000               46  \n",
       "...                    ...               ...              ...  \n",
       "97948854                 0          0.500000               27  \n",
       "97948855                 0          0.521739               27  \n",
       "97948856                 0          0.541667               27  \n",
       "97948857                 0          0.560000               27  \n",
       "97948858                 0          0.538462               27  \n",
       "\n",
       "[97948859 rows x 8 columns]"
      ]
     },
     "execution_count": 12,
     "metadata": {},
     "output_type": "execute_result"
    }
   ],
   "source": [
    "train_df = pd.merge(train_df, user_info, on='user_id')\n",
    "train_df"
   ]
  },
  {
   "cell_type": "code",
   "execution_count": 13,
   "metadata": {
    "execution": {
     "iopub.execute_input": "2020-11-30T15:20:51.072630Z",
     "iopub.status.busy": "2020-11-30T15:20:51.071846Z",
     "iopub.status.idle": "2020-11-30T15:20:58.288597Z",
     "shell.execute_reply": "2020-11-30T15:20:58.287957Z"
    },
    "papermill": {
     "duration": 7.249782,
     "end_time": "2020-11-30T15:20:58.288732",
     "exception": false,
     "start_time": "2020-11-30T15:20:51.038950",
     "status": "completed"
    },
    "tags": []
   },
   "outputs": [],
   "source": [
    "# Récupération des 24 dernières interactions de chaque utilisateur.\n",
    "# C'est une manière de réduire considérablement le jeu de données,\n",
    "# en conservant les dernières interactions (les plus intéréssantes ?)\n",
    "# C'est aussi une manière de traiter l'aspect temporel des données\n",
    "train_df = train_df.groupby('user_id').tail(min_interaction).reset_index(drop=True)"
   ]
  },
  {
   "cell_type": "code",
   "execution_count": 14,
   "metadata": {
    "execution": {
     "iopub.execute_input": "2020-11-30T15:20:58.359073Z",
     "iopub.status.busy": "2020-11-30T15:20:58.358050Z",
     "iopub.status.idle": "2020-11-30T15:20:58.401363Z",
     "shell.execute_reply": "2020-11-30T15:20:58.402247Z"
    },
    "papermill": {
     "duration": 0.086277,
     "end_time": "2020-11-30T15:20:58.402443",
     "exception": false,
     "start_time": "2020-11-30T15:20:58.316166",
     "status": "completed"
    },
    "tags": []
   },
   "outputs": [
    {
     "name": "stderr",
     "output_type": "stream",
     "text": [
      "/opt/conda/lib/python3.7/site-packages/ipykernel_launcher.py:12: SettingWithCopyWarning: \n",
      "A value is trying to be set on a copy of a slice from a DataFrame\n",
      "\n",
      "See the caveats in the documentation: https://pandas.pydata.org/pandas-docs/stable/user_guide/indexing.html#returning-a-view-versus-a-copy\n",
      "  if sys.path[0] == '':\n"
     ]
    },
    {
     "data": {
      "text/html": [
       "<div>\n",
       "<style scoped>\n",
       "    .dataframe tbody tr th:only-of-type {\n",
       "        vertical-align: middle;\n",
       "    }\n",
       "\n",
       "    .dataframe tbody tr th {\n",
       "        vertical-align: top;\n",
       "    }\n",
       "\n",
       "    .dataframe thead th {\n",
       "        text-align: right;\n",
       "    }\n",
       "</style>\n",
       "<table border=\"1\" class=\"dataframe\">\n",
       "  <thead>\n",
       "    <tr style=\"text-align: right;\">\n",
       "      <th></th>\n",
       "      <th>question_id</th>\n",
       "      <th>part</th>\n",
       "      <th>L_R</th>\n",
       "      <th>difficulty_level</th>\n",
       "    </tr>\n",
       "  </thead>\n",
       "  <tbody>\n",
       "    <tr>\n",
       "      <th>0</th>\n",
       "      <td>0</td>\n",
       "      <td>1</td>\n",
       "      <td>0</td>\n",
       "      <td>1</td>\n",
       "    </tr>\n",
       "    <tr>\n",
       "      <th>1</th>\n",
       "      <td>1</td>\n",
       "      <td>1</td>\n",
       "      <td>0</td>\n",
       "      <td>1</td>\n",
       "    </tr>\n",
       "    <tr>\n",
       "      <th>2</th>\n",
       "      <td>2</td>\n",
       "      <td>1</td>\n",
       "      <td>0</td>\n",
       "      <td>1</td>\n",
       "    </tr>\n",
       "    <tr>\n",
       "      <th>3</th>\n",
       "      <td>3</td>\n",
       "      <td>1</td>\n",
       "      <td>0</td>\n",
       "      <td>1</td>\n",
       "    </tr>\n",
       "    <tr>\n",
       "      <th>4</th>\n",
       "      <td>4</td>\n",
       "      <td>1</td>\n",
       "      <td>0</td>\n",
       "      <td>1</td>\n",
       "    </tr>\n",
       "    <tr>\n",
       "      <th>...</th>\n",
       "      <td>...</td>\n",
       "      <td>...</td>\n",
       "      <td>...</td>\n",
       "      <td>...</td>\n",
       "    </tr>\n",
       "    <tr>\n",
       "      <th>13518</th>\n",
       "      <td>13518</td>\n",
       "      <td>5</td>\n",
       "      <td>1</td>\n",
       "      <td>1</td>\n",
       "    </tr>\n",
       "    <tr>\n",
       "      <th>13519</th>\n",
       "      <td>13519</td>\n",
       "      <td>5</td>\n",
       "      <td>1</td>\n",
       "      <td>1</td>\n",
       "    </tr>\n",
       "    <tr>\n",
       "      <th>13520</th>\n",
       "      <td>13520</td>\n",
       "      <td>5</td>\n",
       "      <td>1</td>\n",
       "      <td>1</td>\n",
       "    </tr>\n",
       "    <tr>\n",
       "      <th>13521</th>\n",
       "      <td>13521</td>\n",
       "      <td>5</td>\n",
       "      <td>1</td>\n",
       "      <td>1</td>\n",
       "    </tr>\n",
       "    <tr>\n",
       "      <th>13522</th>\n",
       "      <td>13522</td>\n",
       "      <td>5</td>\n",
       "      <td>1</td>\n",
       "      <td>1</td>\n",
       "    </tr>\n",
       "  </tbody>\n",
       "</table>\n",
       "<p>13523 rows × 4 columns</p>\n",
       "</div>"
      ],
      "text/plain": [
       "       question_id  part L_R  difficulty_level\n",
       "0                0     1   0                 1\n",
       "1                1     1   0                 1\n",
       "2                2     1   0                 1\n",
       "3                3     1   0                 1\n",
       "4                4     1   0                 1\n",
       "...            ...   ...  ..               ...\n",
       "13518        13518     5   1                 1\n",
       "13519        13519     5   1                 1\n",
       "13520        13520     5   1                 1\n",
       "13521        13521     5   1                 1\n",
       "13522        13522     5   1                 1\n",
       "\n",
       "[13523 rows x 4 columns]"
      ]
     },
     "execution_count": 14,
     "metadata": {},
     "output_type": "execute_result"
    }
   ],
   "source": [
    "# Récupération des parts du TOEIC\n",
    "questions_df = pd.read_csv(\n",
    "    '../input/riiid-test-answer-prediction/questions.csv', \n",
    "    usecols=[0, 3],\n",
    "    dtype={'question_id': 'int16', 'part': 'int8'}\n",
    ")\n",
    "\n",
    "# Catégorisation Listening (0) ou Reading (1)\n",
    "questions_df['L_R'] = pd.cut(questions_df['part'], bins=[-np.inf, 4, np.inf], labels=[0, 1])\n",
    "\n",
    "questions_df['difficulty_level'] = 0\n",
    "questions_df['difficulty_level'][questions_df['L_R'] == 0] = questions_df['part'][questions_df['L_R'] == 0]\n",
    "questions_df['difficulty_level'][questions_df['L_R'] == 1] = questions_df['part'][questions_df['L_R'] == 1] - 4\n",
    "questions_df"
   ]
  },
  {
   "cell_type": "code",
   "execution_count": 15,
   "metadata": {
    "execution": {
     "iopub.execute_input": "2020-11-30T15:20:58.467912Z",
     "iopub.status.busy": "2020-11-30T15:20:58.467161Z",
     "iopub.status.idle": "2020-11-30T15:21:00.487802Z",
     "shell.execute_reply": "2020-11-30T15:21:00.487124Z"
    },
    "papermill": {
     "duration": 2.055854,
     "end_time": "2020-11-30T15:21:00.487926",
     "exception": false,
     "start_time": "2020-11-30T15:20:58.432072",
     "status": "completed"
    },
    "tags": []
   },
   "outputs": [],
   "source": [
    "train_df = pd.merge(train_df, questions_df, left_on='content_id', right_on='question_id', how='left')\n",
    "train_df.drop(columns=['question_id'], inplace=True)"
   ]
  },
  {
   "cell_type": "code",
   "execution_count": 16,
   "metadata": {
    "execution": {
     "iopub.execute_input": "2020-11-30T15:21:00.553939Z",
     "iopub.status.busy": "2020-11-30T15:21:00.552462Z",
     "iopub.status.idle": "2020-11-30T15:21:00.803217Z",
     "shell.execute_reply": "2020-11-30T15:21:00.802488Z"
    },
    "papermill": {
     "duration": 0.286576,
     "end_time": "2020-11-30T15:21:00.803342",
     "exception": false,
     "start_time": "2020-11-30T15:21:00.516766",
     "status": "completed"
    },
    "tags": []
   },
   "outputs": [],
   "source": [
    "# J'intègre le nombre d'apparitions totales de chaque contenu sur leurs lignes respectives\n",
    "train_df['content_count'] = train_df['content_id'].map(content_agg['count']).astype('int32')\n",
    "\n",
    "# Je transforme content_id en taux de réussite par contenu\n",
    "train_df['content_id'] = train_df['content_id'].map(content_agg['sum'] / content_agg['count'])"
   ]
  },
  {
   "cell_type": "code",
   "execution_count": 17,
   "metadata": {
    "execution": {
     "iopub.execute_input": "2020-11-30T15:21:00.868213Z",
     "iopub.status.busy": "2020-11-30T15:21:00.867470Z",
     "iopub.status.idle": "2020-11-30T15:21:03.743977Z",
     "shell.execute_reply": "2020-11-30T15:21:03.744553Z"
    },
    "papermill": {
     "duration": 2.912539,
     "end_time": "2020-11-30T15:21:03.744723",
     "exception": false,
     "start_time": "2020-11-30T15:21:00.832184",
     "status": "completed"
    },
    "tags": []
   },
   "outputs": [
    {
     "name": "stdout",
     "output_type": "stream",
     "text": [
      "Taille des interactions de validation par utilisateurs : 6\n"
     ]
    }
   ],
   "source": [
    "# Les 6 dernières lignes de chaque utilisateurs devient le jeu de validation\n",
    "# Cela represente un jeu de validation de 25 %\n",
    "val_size = int(min_interaction * 0.25)\n",
    "print(f\"Taille des interactions de validation par utilisateurs : {val_size}\")\n",
    "valid_df = train_df.groupby('user_id').tail(val_size)\n",
    "train_df.drop(valid_df.index, inplace=True)"
   ]
  },
  {
   "cell_type": "code",
   "execution_count": 18,
   "metadata": {
    "execution": {
     "iopub.execute_input": "2020-11-30T15:21:03.824106Z",
     "iopub.status.busy": "2020-11-30T15:21:03.816125Z",
     "iopub.status.idle": "2020-11-30T15:21:03.829187Z",
     "shell.execute_reply": "2020-11-30T15:21:03.828438Z"
    },
    "papermill": {
     "duration": 0.05402,
     "end_time": "2020-11-30T15:21:03.829310",
     "exception": false,
     "start_time": "2020-11-30T15:21:03.775290",
     "status": "completed"
    },
    "tags": []
   },
   "outputs": [
    {
     "data": {
      "text/html": [
       "<div>\n",
       "<style scoped>\n",
       "    .dataframe tbody tr th:only-of-type {\n",
       "        vertical-align: middle;\n",
       "    }\n",
       "\n",
       "    .dataframe tbody tr th {\n",
       "        vertical-align: top;\n",
       "    }\n",
       "\n",
       "    .dataframe thead th {\n",
       "        text-align: right;\n",
       "    }\n",
       "</style>\n",
       "<table border=\"1\" class=\"dataframe\">\n",
       "  <thead>\n",
       "    <tr style=\"text-align: right;\">\n",
       "      <th></th>\n",
       "      <th>user_id</th>\n",
       "      <th>content_id</th>\n",
       "      <th>answered_correctly</th>\n",
       "      <th>prior_question_elapsed_time</th>\n",
       "      <th>prior_question_had_explanation</th>\n",
       "      <th>binned_help_usage</th>\n",
       "      <th>user_correctness</th>\n",
       "      <th>nb_interactions</th>\n",
       "      <th>part</th>\n",
       "      <th>L_R</th>\n",
       "      <th>difficulty_level</th>\n",
       "      <th>content_count</th>\n",
       "    </tr>\n",
       "  </thead>\n",
       "  <tbody>\n",
       "    <tr>\n",
       "      <th>0</th>\n",
       "      <td>115</td>\n",
       "      <td>0.613215</td>\n",
       "      <td>0</td>\n",
       "      <td>29000.0</td>\n",
       "      <td>False</td>\n",
       "      <td>0</td>\n",
       "      <td>0.800000</td>\n",
       "      <td>46</td>\n",
       "      <td>1</td>\n",
       "      <td>0</td>\n",
       "      <td>1</td>\n",
       "      <td>31736</td>\n",
       "    </tr>\n",
       "    <tr>\n",
       "      <th>1</th>\n",
       "      <td>115</td>\n",
       "      <td>0.675862</td>\n",
       "      <td>0</td>\n",
       "      <td>20000.0</td>\n",
       "      <td>False</td>\n",
       "      <td>0</td>\n",
       "      <td>0.761905</td>\n",
       "      <td>46</td>\n",
       "      <td>1</td>\n",
       "      <td>0</td>\n",
       "      <td>1</td>\n",
       "      <td>26137</td>\n",
       "    </tr>\n",
       "    <tr>\n",
       "      <th>2</th>\n",
       "      <td>115</td>\n",
       "      <td>0.687217</td>\n",
       "      <td>0</td>\n",
       "      <td>19000.0</td>\n",
       "      <td>False</td>\n",
       "      <td>0</td>\n",
       "      <td>0.727273</td>\n",
       "      <td>46</td>\n",
       "      <td>1</td>\n",
       "      <td>0</td>\n",
       "      <td>1</td>\n",
       "      <td>36674</td>\n",
       "    </tr>\n",
       "    <tr>\n",
       "      <th>3</th>\n",
       "      <td>115</td>\n",
       "      <td>0.608222</td>\n",
       "      <td>0</td>\n",
       "      <td>21000.0</td>\n",
       "      <td>False</td>\n",
       "      <td>0</td>\n",
       "      <td>0.695652</td>\n",
       "      <td>46</td>\n",
       "      <td>1</td>\n",
       "      <td>0</td>\n",
       "      <td>1</td>\n",
       "      <td>47047</td>\n",
       "    </tr>\n",
       "    <tr>\n",
       "      <th>4</th>\n",
       "      <td>115</td>\n",
       "      <td>0.601824</td>\n",
       "      <td>1</td>\n",
       "      <td>22000.0</td>\n",
       "      <td>False</td>\n",
       "      <td>0</td>\n",
       "      <td>0.666667</td>\n",
       "      <td>46</td>\n",
       "      <td>1</td>\n",
       "      <td>0</td>\n",
       "      <td>1</td>\n",
       "      <td>40452</td>\n",
       "    </tr>\n",
       "  </tbody>\n",
       "</table>\n",
       "</div>"
      ],
      "text/plain": [
       "   user_id  content_id  answered_correctly  prior_question_elapsed_time  \\\n",
       "0      115    0.613215                   0                      29000.0   \n",
       "1      115    0.675862                   0                      20000.0   \n",
       "2      115    0.687217                   0                      19000.0   \n",
       "3      115    0.608222                   0                      21000.0   \n",
       "4      115    0.601824                   1                      22000.0   \n",
       "\n",
       "   prior_question_had_explanation binned_help_usage  user_correctness  \\\n",
       "0                           False                 0          0.800000   \n",
       "1                           False                 0          0.761905   \n",
       "2                           False                 0          0.727273   \n",
       "3                           False                 0          0.695652   \n",
       "4                           False                 0          0.666667   \n",
       "\n",
       "   nb_interactions  part L_R  difficulty_level  content_count  \n",
       "0               46     1   0                 1          31736  \n",
       "1               46     1   0                 1          26137  \n",
       "2               46     1   0                 1          36674  \n",
       "3               46     1   0                 1          47047  \n",
       "4               46     1   0                 1          40452  "
      ]
     },
     "execution_count": 18,
     "metadata": {},
     "output_type": "execute_result"
    }
   ],
   "source": [
    "train_df.head()"
   ]
  },
  {
   "cell_type": "markdown",
   "metadata": {
    "papermill": {
     "duration": 0.029932,
     "end_time": "2020-11-30T15:21:03.889583",
     "exception": false,
     "start_time": "2020-11-30T15:21:03.859651",
     "status": "completed"
    },
    "tags": []
   },
   "source": [
    "Points d'amélioration :\n",
    "- 0/ ~~Essayer mon nettoyage. Soumettre~~ *Résultat dévalué*\n",
    "- 1/ ~~Vérifier si tous les users ont au moins 24 interactions. Soumettre.~~ *Dévalué sur LB, meilleur en local | Option pour le LB privé*\n",
    "> Pour être bon au leaderboard public il faut laisser tous les users, pas sur que ce soit le cas pour le leaderboard privé\n",
    "- 2/ Essayer les parts de train et val (actuellement 24 / 6).\n",
    "- 3/ Injecter mes propres features, 1 à 1. Soumettre à chaque nouvelles features.\n",
    "\n",
    "- Régler les paramètres du modèle (actuellement standard)\n"
   ]
  },
  {
   "cell_type": "markdown",
   "metadata": {
    "papermill": {
     "duration": 0.029846,
     "end_time": "2020-11-30T15:21:03.949783",
     "exception": false,
     "start_time": "2020-11-30T15:21:03.919937",
     "status": "completed"
    },
    "tags": []
   },
   "source": [
    "# Train"
   ]
  },
  {
   "cell_type": "code",
   "execution_count": 19,
   "metadata": {
    "execution": {
     "iopub.execute_input": "2020-11-30T15:21:04.018006Z",
     "iopub.status.busy": "2020-11-30T15:21:04.016896Z",
     "iopub.status.idle": "2020-11-30T15:21:04.019686Z",
     "shell.execute_reply": "2020-11-30T15:21:04.020238Z"
    },
    "papermill": {
     "duration": 0.040374,
     "end_time": "2020-11-30T15:21:04.020405",
     "exception": false,
     "start_time": "2020-11-30T15:21:03.980031",
     "status": "completed"
    },
    "tags": []
   },
   "outputs": [],
   "source": [
    "features = [\n",
    "    'content_id',\n",
    "    'prior_question_elapsed_time',\n",
    "    'prior_question_had_explanation',\n",
    "    'user_correctness',\n",
    "    'part',\n",
    "    'content_count',\n",
    "    'binned_help_usage',\n",
    "    'L_R',\n",
    "    'difficulty_level'\n",
    "]\n",
    "\n",
    "params = {\n",
    "    'objective': 'binary',\n",
    "    'seed': 42,\n",
    "    'metric': 'auc',\n",
    "    'learning_rate': 0.05,\n",
    "    'max_bin': 800,\n",
    "    'num_leaves': 80\n",
    "}"
   ]
  },
  {
   "cell_type": "code",
   "execution_count": 20,
   "metadata": {
    "execution": {
     "iopub.execute_input": "2020-11-30T15:21:04.210738Z",
     "iopub.status.busy": "2020-11-30T15:21:04.180183Z",
     "iopub.status.idle": "2020-11-30T16:13:58.669230Z",
     "shell.execute_reply": "2020-11-30T16:13:58.668328Z"
    },
    "papermill": {
     "duration": 3174.618452,
     "end_time": "2020-11-30T16:13:58.669545",
     "exception": false,
     "start_time": "2020-11-30T15:21:04.051093",
     "status": "completed"
    },
    "tags": []
   },
   "outputs": [
    {
     "name": "stdout",
     "output_type": "stream",
     "text": [
      "Training until validation scores don't improve for 50 rounds\n",
      "[50]\ttraining's auc: 0.757897\tvalid_1's auc: 0.741732\n",
      "[100]\ttraining's auc: 0.759422\tvalid_1's auc: 0.743451\n",
      "[150]\ttraining's auc: 0.760018\tvalid_1's auc: 0.743946\n",
      "[200]\ttraining's auc: 0.760315\tvalid_1's auc: 0.744114\n",
      "[250]\ttraining's auc: 0.760557\tvalid_1's auc: 0.744201\n",
      "[300]\ttraining's auc: 0.760794\tvalid_1's auc: 0.744279\n",
      "[350]\ttraining's auc: 0.761008\tvalid_1's auc: 0.744342\n",
      "[400]\ttraining's auc: 0.761221\tvalid_1's auc: 0.744408\n",
      "[450]\ttraining's auc: 0.761417\tvalid_1's auc: 0.74447\n",
      "[500]\ttraining's auc: 0.761613\tvalid_1's auc: 0.744532\n",
      "[550]\ttraining's auc: 0.761807\tvalid_1's auc: 0.744563\n",
      "[600]\ttraining's auc: 0.761988\tvalid_1's auc: 0.744593\n",
      "[650]\ttraining's auc: 0.762191\tvalid_1's auc: 0.744649\n",
      "[700]\ttraining's auc: 0.762383\tvalid_1's auc: 0.744683\n",
      "[750]\ttraining's auc: 0.762537\tvalid_1's auc: 0.744698\n",
      "[800]\ttraining's auc: 0.762701\tvalid_1's auc: 0.744719\n",
      "[850]\ttraining's auc: 0.762868\tvalid_1's auc: 0.744744\n",
      "[900]\ttraining's auc: 0.763049\tvalid_1's auc: 0.744767\n",
      "[950]\ttraining's auc: 0.763182\tvalid_1's auc: 0.744776\n",
      "[1000]\ttraining's auc: 0.763339\tvalid_1's auc: 0.744792\n",
      "[1050]\ttraining's auc: 0.763512\tvalid_1's auc: 0.74482\n",
      "[1100]\ttraining's auc: 0.763665\tvalid_1's auc: 0.744833\n",
      "[1150]\ttraining's auc: 0.763813\tvalid_1's auc: 0.744851\n",
      "[1200]\ttraining's auc: 0.763964\tvalid_1's auc: 0.744864\n",
      "[1250]\ttraining's auc: 0.764115\tvalid_1's auc: 0.74487\n",
      "[1300]\ttraining's auc: 0.76429\tvalid_1's auc: 0.744893\n",
      "[1350]\ttraining's auc: 0.764471\tvalid_1's auc: 0.744917\n",
      "[1400]\ttraining's auc: 0.764629\tvalid_1's auc: 0.744934\n",
      "[1450]\ttraining's auc: 0.764782\tvalid_1's auc: 0.744943\n",
      "[1500]\ttraining's auc: 0.764951\tvalid_1's auc: 0.744957\n",
      "[1550]\ttraining's auc: 0.765114\tvalid_1's auc: 0.744964\n",
      "[1600]\ttraining's auc: 0.765255\tvalid_1's auc: 0.74497\n",
      "[1650]\ttraining's auc: 0.765406\tvalid_1's auc: 0.744975\n",
      "[1700]\ttraining's auc: 0.765542\tvalid_1's auc: 0.744983\n",
      "[1750]\ttraining's auc: 0.765689\tvalid_1's auc: 0.744991\n",
      "[1800]\ttraining's auc: 0.765847\tvalid_1's auc: 0.745006\n",
      "[1850]\ttraining's auc: 0.766\tvalid_1's auc: 0.745011\n",
      "[1900]\ttraining's auc: 0.76615\tvalid_1's auc: 0.745011\n",
      "[1950]\ttraining's auc: 0.766325\tvalid_1's auc: 0.745021\n",
      "[2000]\ttraining's auc: 0.76648\tvalid_1's auc: 0.745029\n",
      "[2050]\ttraining's auc: 0.766624\tvalid_1's auc: 0.745026\n",
      "Early stopping, best iteration is:\n",
      "[2022]\ttraining's auc: 0.766542\tvalid_1's auc: 0.745031\n"
     ]
    },
    {
     "data": {
      "image/png": "[encoded data removed]",
      "text/plain": [
       "<Figure size 432x288 with 1 Axes>"
      ]
     },
     "metadata": {
      "needs_background": "light"
     },
     "output_type": "display_data"
    }
   ],
   "source": [
    "tr_data = lgb.Dataset(train_df[features], label=train_df[target])\n",
    "va_data = lgb.Dataset(valid_df[features], label=valid_df[target])\n",
    "\n",
    "model = lgb.train(\n",
    "    params, \n",
    "    tr_data, \n",
    "    num_boost_round=10000,\n",
    "    valid_sets=[tr_data, va_data], \n",
    "    early_stopping_rounds=50,\n",
    "    verbose_eval=50\n",
    ")\n",
    "\n",
    "# model.save_model(f'model_binned.txt')\n",
    "lgb.plot_importance(model, importance_type='gain')\n",
    "plt.show()"
   ]
  },
  {
   "cell_type": "markdown",
   "metadata": {
    "papermill": {
     "duration": 0.048685,
     "end_time": "2020-11-30T16:13:58.767756",
     "exception": false,
     "start_time": "2020-11-30T16:13:58.719071",
     "status": "completed"
    },
    "tags": []
   },
   "source": [
    "# Inference"
   ]
  },
  {
   "cell_type": "code",
   "execution_count": 21,
   "metadata": {
    "execution": {
     "iopub.execute_input": "2020-11-30T16:13:58.883188Z",
     "iopub.status.busy": "2020-11-30T16:13:58.881992Z",
     "iopub.status.idle": "2020-11-30T16:13:59.398269Z",
     "shell.execute_reply": "2020-11-30T16:13:59.397468Z"
    },
    "papermill": {
     "duration": 0.58196,
     "end_time": "2020-11-30T16:13:59.398400",
     "exception": false,
     "start_time": "2020-11-30T16:13:58.816440",
     "status": "completed"
    },
    "tags": []
   },
   "outputs": [],
   "source": [
    "user_sum_dict = user_agg['sum'].astype('int16').to_dict(defaultdict(int))\n",
    "user_count_dict = user_agg['count'].astype('int16').to_dict(defaultdict(int))\n",
    "content_sum_dict = content_agg['sum'].astype('int32').to_dict(defaultdict(int))\n",
    "content_count_dict = content_agg['count'].astype('int32').to_dict(defaultdict(int))"
   ]
  },
  {
   "cell_type": "code",
   "execution_count": 22,
   "metadata": {
    "execution": {
     "iopub.execute_input": "2020-11-30T16:13:59.505220Z",
     "iopub.status.busy": "2020-11-30T16:13:59.504163Z",
     "iopub.status.idle": "2020-11-30T16:13:59.509036Z",
     "shell.execute_reply": "2020-11-30T16:13:59.508412Z"
    },
    "papermill": {
     "duration": 0.06118,
     "end_time": "2020-11-30T16:13:59.509168",
     "exception": false,
     "start_time": "2020-11-30T16:13:59.447988",
     "status": "completed"
    },
    "tags": []
   },
   "outputs": [
    {
     "data": {
      "text/plain": [
       "\"\\ntest_df = pd.read_csv('../input/riiid-test-answer-prediction/example_test.csv')\\n\\ntest_df = test_df[test_df['content_type_id'] == 0].reset_index(drop=True)\\ntest_df = pd.merge(test_df, help_usage, on='user_id', how='left')\\ntest_df.binned_help_usage = test_df.binned_help_usage.fillna(0)\\ntest_df = pd.merge(test_df, questions_df, left_on='content_id', right_on='question_id', how='left')\\ntest_df['prior_question_had_explanation'] = test_df['prior_question_had_explanation'].fillna(False).astype('bool')\\ntest_df\\n\""
      ]
     },
     "execution_count": 22,
     "metadata": {},
     "output_type": "execute_result"
    }
   ],
   "source": [
    "\"\"\"\n",
    "test_df = pd.read_csv('../input/riiid-test-answer-prediction/example_test.csv')\n",
    "\n",
    "test_df = test_df[test_df['content_type_id'] == 0].reset_index(drop=True)\n",
    "test_df = pd.merge(test_df, help_usage, on='user_id', how='left')\n",
    "test_df.binned_help_usage = test_df.binned_help_usage.fillna(0)\n",
    "test_df = pd.merge(test_df, questions_df, left_on='content_id', right_on='question_id', how='left')\n",
    "test_df['prior_question_had_explanation'] = test_df['prior_question_had_explanation'].fillna(False).astype('bool')\n",
    "test_df\n",
    "\"\"\""
   ]
  },
  {
   "cell_type": "code",
   "execution_count": 23,
   "metadata": {
    "execution": {
     "iopub.execute_input": "2020-11-30T16:13:59.626029Z",
     "iopub.status.busy": "2020-11-30T16:13:59.624967Z",
     "iopub.status.idle": "2020-11-30T16:13:59.628600Z",
     "shell.execute_reply": "2020-11-30T16:13:59.627966Z"
    },
    "papermill": {
     "duration": 0.068574,
     "end_time": "2020-11-30T16:13:59.628725",
     "exception": false,
     "start_time": "2020-11-30T16:13:59.560151",
     "status": "completed"
    },
    "tags": []
   },
   "outputs": [],
   "source": [
    "# model = lgb.Booster(model_file='../input/model-binned/model_binned.txt')\n",
    "env = riiideducation.make_env()\n",
    "iter_test = env.iter_test()\n",
    "prior_test_df = None"
   ]
  },
  {
   "cell_type": "code",
   "execution_count": 24,
   "metadata": {
    "execution": {
     "iopub.execute_input": "2020-11-30T16:13:59.772697Z",
     "iopub.status.busy": "2020-11-30T16:13:59.771492Z",
     "iopub.status.idle": "2020-11-30T16:14:00.855200Z",
     "shell.execute_reply": "2020-11-30T16:14:00.854599Z"
    },
    "papermill": {
     "duration": 1.171034,
     "end_time": "2020-11-30T16:14:00.855327",
     "exception": false,
     "start_time": "2020-11-30T16:13:59.684293",
     "status": "completed"
    },
    "tags": []
   },
   "outputs": [
    {
     "name": "stdout",
     "output_type": "stream",
     "text": [
      "CPU times: user 1.66 s, sys: 89.4 ms, total: 1.75 s\n",
      "Wall time: 1.08 s\n"
     ]
    }
   ],
   "source": [
    "%%time\n",
    "\n",
    "for (test_df, sample_prediction_df) in iter_test:\n",
    "    # Extraction des données du test_df précédent\n",
    "    if prior_test_df is not None:\n",
    "        prior_test_df[target] = eval(test_df['prior_group_answers_correct'].iloc[0])\n",
    "        prior_test_df = prior_test_df[prior_test_df[target] != -1].reset_index(drop=True)\n",
    "        \n",
    "        # Récupération des valeurs\n",
    "        user_ids = prior_test_df['user_id'].values\n",
    "        content_ids = prior_test_df['content_id'].values\n",
    "        targets = prior_test_df[target].values\n",
    "        \n",
    "        # Intégration dans un dictionnaire\n",
    "        for user_id, content_id, answered_correctly in zip(user_ids, content_ids, targets):\n",
    "            user_sum_dict[user_id] += answered_correctly\n",
    "            user_count_dict[user_id] += 1\n",
    "            content_sum_dict[content_id] += answered_correctly\n",
    "            content_count_dict[content_id] += 1\n",
    "    \n",
    "    # Copie du test_df pour réutilisation\n",
    "    prior_test_df = test_df.copy()\n",
    "    \n",
    "    \n",
    "    test_df = test_df[test_df['content_type_id'] == 0].reset_index(drop=True)\n",
    "    test_df = pd.merge(test_df, help_usage, on='user_id', how='left')\n",
    "    test_df.binned_help_usage = test_df.binned_help_usage.fillna(0)\n",
    "    test_df = pd.merge(test_df, questions_df, left_on='content_id', right_on='question_id', how='left')\n",
    "    test_df['prior_question_had_explanation'] = test_df['prior_question_had_explanation'].fillna(False).astype('bool')    \n",
    "    \n",
    "    user_sum = np.zeros(len(test_df), dtype=np.int16)\n",
    "    user_count = np.zeros(len(test_df), dtype=np.int16)\n",
    "    content_sum = np.zeros(len(test_df), dtype=np.int32)\n",
    "    content_count = np.zeros(len(test_df), dtype=np.int32)\n",
    "    \n",
    "    for i, (user_id, content_id) in enumerate(zip(test_df['user_id'].values, test_df['content_id'].values)):\n",
    "        user_sum[i] = user_sum_dict[user_id]\n",
    "        user_count[i] = user_count_dict[user_id]\n",
    "        content_sum[i] = content_sum_dict[content_id]\n",
    "        content_count[i] = content_count_dict[content_id]\n",
    "\n",
    "    test_df['user_correctness'] = user_sum / user_count\n",
    "    test_df['content_count'] = content_count\n",
    "    test_df['content_id'] = content_sum / content_count\n",
    "       \n",
    "    test_df[target] = model.predict(test_df[features])\n",
    "    env.predict(test_df[['row_id', target]])"
   ]
  }
 ],
 "metadata": {
  "kernelspec": {
   "display_name": "Python 3",
   "language": "python",
   "name": "python3"
  },
  "language_info": {
   "codemirror_mode": {
    "name": "ipython",
    "version": 3
   },
   "file_extension": ".py",
   "mimetype": "text/x-python",
   "name": "python",
   "nbconvert_exporter": "python",
   "pygments_lexer": "ipython3",
   "version": "3.7.6"
  },
  "papermill": {
   "duration": 3369.677079,
   "end_time": "2020-11-30T16:14:01.118038",
   "environment_variables": {},
   "exception": null,
   "input_path": "__notebook__.ipynb",
   "output_path": "__notebook__.ipynb",
   "parameters": {},
   "start_time": "2020-11-30T15:17:51.440959",
   "version": "2.1.0"
  }
 },
 "nbformat": 4,
 "nbformat_minor": 4
}
