{
 "cells": [
  {
   "cell_type": "code",
   "execution_count": 1,
   "metadata": {
    "_cell_guid": "b1076dfc-b9ad-4769-8c92-a6c4dae69d19",
    "_uuid": "8f2839f25d086af736a60e9eeb907d3b93b6e0e5",
    "execution": {
     "iopub.execute_input": "2020-11-29T07:25:14.423751Z",
     "iopub.status.busy": "2020-11-29T07:25:14.422784Z",
     "iopub.status.idle": "2020-11-29T07:25:45.685169Z",
     "shell.execute_reply": "2020-11-29T07:25:45.683655Z"
    },
    "papermill": {
     "duration": 31.289349,
     "end_time": "2020-11-29T07:25:45.685404",
     "exception": false,
     "start_time": "2020-11-29T07:25:14.396055",
     "status": "completed"
    },
    "tags": []
   },
   "outputs": [],
   "source": [
    "!pip install ../input/python-datatable/datatable-0.11.0-cp37-cp37m-manylinux2010_x86_64.whl > /dev/null 2>&1"
   ]
  },
  {
   "cell_type": "code",
   "execution_count": 2,
   "metadata": {
    "_cell_guid": "79c7e3d0-c299-4dcb-8224-4455121ee9b0",
    "_uuid": "d629ff2d2480ee46fbb7e2d37f6b5fab8052498a",
    "execution": {
     "iopub.execute_input": "2020-11-29T07:25:45.741432Z",
     "iopub.status.busy": "2020-11-29T07:25:45.740355Z",
     "iopub.status.idle": "2020-11-29T07:25:47.187851Z",
     "shell.execute_reply": "2020-11-29T07:25:47.187207Z"
    },
    "papermill": {
     "duration": 1.479217,
     "end_time": "2020-11-29T07:25:47.187986",
     "exception": false,
     "start_time": "2020-11-29T07:25:45.708769",
     "status": "completed"
    },
    "tags": []
   },
   "outputs": [
    {
     "data": {
      "text/html": [
       "<style type='text/css'>\n",
       ".datatable table.frame { margin-bottom: 0; }\n",
       ".datatable table.frame thead { border-bottom: none; }\n",
       ".datatable table.frame tr.coltypes td {  color: #FFFFFF;  line-height: 6px;  padding: 0 0.5em;}\n",
       ".datatable .bool    { background: #DDDD99; }\n",
       ".datatable .object  { background: #565656; }\n",
       ".datatable .int     { background: #5D9E5D; }\n",
       ".datatable .float   { background: #4040CC; }\n",
       ".datatable .str     { background: #CC4040; }\n",
       ".datatable .row_index {  background: var(--jp-border-color3);  border-right: 1px solid var(--jp-border-color0);  color: var(--jp-ui-font-color3);  font-size: 9px;}\n",
       ".datatable .frame tr.coltypes .row_index {  background: var(--jp-border-color0);}\n",
       ".datatable th:nth-child(2) { padding-left: 12px; }\n",
       ".datatable .hellipsis {  color: var(--jp-cell-editor-border-color);}\n",
       ".datatable .vellipsis {  background: var(--jp-layout-color0);  color: var(--jp-cell-editor-border-color);}\n",
       ".datatable .na {  color: var(--jp-cell-editor-border-color);  font-size: 80%;}\n",
       ".datatable .footer { font-size: 9px; }\n",
       ".datatable .frame_dimensions {  background: var(--jp-border-color3);  border-top: 1px solid var(--jp-border-color0);  color: var(--jp-ui-font-color3);  display: inline-block;  opacity: 0.6;  padding: 1px 10px 1px 5px;}\n",
       "</style>\n"
      ],
      "text/plain": [
       "<IPython.core.display.HTML object>"
      ]
     },
     "metadata": {},
     "output_type": "display_data"
    }
   ],
   "source": [
    "import numpy as np\n",
    "import pandas as pd\n",
    "from collections import defaultdict\n",
    "import datatable as dt\n",
    "import lightgbm as lgb\n",
    "from matplotlib import pyplot as plt\n",
    "import riiideducation\n",
    "\n",
    "_ = np.seterr(divide='ignore', invalid='ignore')"
   ]
  },
  {
   "cell_type": "markdown",
   "metadata": {
    "papermill": {
     "duration": 0.016732,
     "end_time": "2020-11-29T07:25:47.222330",
     "exception": false,
     "start_time": "2020-11-29T07:25:47.205598",
     "status": "completed"
    },
    "tags": []
   },
   "source": [
    "# Preprocess"
   ]
  },
  {
   "cell_type": "code",
   "execution_count": 3,
   "metadata": {
    "execution": {
     "iopub.execute_input": "2020-11-29T07:25:47.263180Z",
     "iopub.status.busy": "2020-11-29T07:25:47.262098Z",
     "iopub.status.idle": "2020-11-29T07:25:47.265647Z",
     "shell.execute_reply": "2020-11-29T07:25:47.264968Z"
    },
    "papermill": {
     "duration": 0.026425,
     "end_time": "2020-11-29T07:25:47.265768",
     "exception": false,
     "start_time": "2020-11-29T07:25:47.239343",
     "status": "completed"
    },
    "tags": []
   },
   "outputs": [],
   "source": [
    "data_types_dict = {\n",
    "    'user_id': 'int32', \n",
    "    'content_id': 'int16', \n",
    "    'answered_correctly': 'int8', \n",
    "    'prior_question_elapsed_time': 'float32', \n",
    "    'prior_question_had_explanation': 'bool'\n",
    "}\n",
    "target = 'answered_correctly'"
   ]
  },
  {
   "cell_type": "code",
   "execution_count": 4,
   "metadata": {
    "execution": {
     "iopub.execute_input": "2020-11-29T07:25:47.307642Z",
     "iopub.status.busy": "2020-11-29T07:25:47.306830Z",
     "iopub.status.idle": "2020-11-29T07:25:57.799378Z",
     "shell.execute_reply": "2020-11-29T07:25:57.798071Z"
    },
    "papermill": {
     "duration": 10.516108,
     "end_time": "2020-11-29T07:25:57.799518",
     "exception": false,
     "start_time": "2020-11-29T07:25:47.283410",
     "status": "completed"
    },
    "tags": []
   },
   "outputs": [
    {
     "name": "stdout",
     "output_type": "stream",
     "text": [
      "<class 'pandas.core.frame.DataFrame'>\n",
      "Int64Index: 38201463 entries, 0 to 38201462\n",
      "Data columns (total 10 columns):\n",
      " #   Column                          Dtype  \n",
      "---  ------                          -----  \n",
      " 0   row_id                          int64  \n",
      " 1   timestamp                       int64  \n",
      " 2   user_id                         int32  \n",
      " 3   content_id                      int16  \n",
      " 4   content_type_id                 int8   \n",
      " 5   task_container_id               int16  \n",
      " 6   user_answer                     int8   \n",
      " 7   answered_correctly              int8   \n",
      " 8   prior_question_elapsed_time     float32\n",
      " 9   prior_question_had_explanation  boolean\n",
      "dtypes: boolean(1), float32(1), int16(2), int32(1), int64(2), int8(3)\n",
      "memory usage: 1.5 GB\n",
      "CPU times: user 725 ms, sys: 9.54 s, total: 10.3 s\n",
      "Wall time: 10.5 s\n"
     ]
    }
   ],
   "source": [
    "%%time\n",
    "path = \"../input/cleaning-users-features-engineering/reduced_riiid_train.pkl.gzip\"\n",
    "train_df = pd.read_pickle(path)\n",
    "train_df.info()"
   ]
  },
  {
   "cell_type": "code",
   "execution_count": 5,
   "metadata": {
    "execution": {
     "iopub.execute_input": "2020-11-29T07:25:57.843592Z",
     "iopub.status.busy": "2020-11-29T07:25:57.842813Z",
     "iopub.status.idle": "2020-11-29T07:26:05.379728Z",
     "shell.execute_reply": "2020-11-29T07:26:05.378938Z"
    },
    "papermill": {
     "duration": 7.561702,
     "end_time": "2020-11-29T07:26:05.379859",
     "exception": false,
     "start_time": "2020-11-29T07:25:57.818157",
     "status": "completed"
    },
    "tags": []
   },
   "outputs": [],
   "source": [
    "# train_df = dt.fread('../input/riiid-test-answer-prediction/train.csv', columns=set(data_types_dict.keys())).to_pandas()\n",
    "train_df = train_df[train_df[target] != -1].reset_index(drop=True)\n",
    "train_df['prior_question_had_explanation'].fillna(False, inplace=True)\n",
    "train_df = train_df.astype(data_types_dict)"
   ]
  },
  {
   "cell_type": "code",
   "execution_count": 6,
   "metadata": {
    "execution": {
     "iopub.execute_input": "2020-11-29T07:26:05.425400Z",
     "iopub.status.busy": "2020-11-29T07:26:05.424550Z",
     "iopub.status.idle": "2020-11-29T07:26:12.786316Z",
     "shell.execute_reply": "2020-11-29T07:26:12.786894Z"
    },
    "papermill": {
     "duration": 7.388868,
     "end_time": "2020-11-29T07:26:12.787075",
     "exception": false,
     "start_time": "2020-11-29T07:26:05.398207",
     "status": "completed"
    },
    "tags": []
   },
   "outputs": [],
   "source": [
    "train_df['lag'] = train_df.groupby('user_id')[target].shift()\n",
    "cum = train_df.groupby('user_id')['lag'].agg(['cumsum', 'cumcount'])\n",
    "train_df['user_correctness'] = cum['cumsum'] / cum['cumcount']\n",
    "train_df.drop(columns=['lag'], inplace=True)"
   ]
  },
  {
   "cell_type": "code",
   "execution_count": 7,
   "metadata": {
    "execution": {
     "iopub.execute_input": "2020-11-29T07:26:12.832099Z",
     "iopub.status.busy": "2020-11-29T07:26:12.831335Z",
     "iopub.status.idle": "2020-11-29T07:26:16.689940Z",
     "shell.execute_reply": "2020-11-29T07:26:16.689145Z"
    },
    "papermill": {
     "duration": 3.883926,
     "end_time": "2020-11-29T07:26:16.690077",
     "exception": false,
     "start_time": "2020-11-29T07:26:12.806151",
     "status": "completed"
    },
    "tags": []
   },
   "outputs": [],
   "source": [
    "user_agg = train_df.groupby('user_id')[target].agg(['sum', 'count'])\n",
    "content_agg = train_df.groupby('content_id')[target].agg(['sum', 'count'])"
   ]
  },
  {
   "cell_type": "code",
   "execution_count": 8,
   "metadata": {
    "execution": {
     "iopub.execute_input": "2020-11-29T07:26:16.734716Z",
     "iopub.status.busy": "2020-11-29T07:26:16.733094Z",
     "iopub.status.idle": "2020-11-29T07:26:19.825203Z",
     "shell.execute_reply": "2020-11-29T07:26:19.824547Z"
    },
    "papermill": {
     "duration": 3.116618,
     "end_time": "2020-11-29T07:26:19.825374",
     "exception": false,
     "start_time": "2020-11-29T07:26:16.708756",
     "status": "completed"
    },
    "tags": []
   },
   "outputs": [],
   "source": [
    "train_df = train_df.groupby('user_id').tail(24).reset_index(drop=True)"
   ]
  },
  {
   "cell_type": "code",
   "execution_count": 9,
   "metadata": {
    "execution": {
     "iopub.execute_input": "2020-11-29T07:26:19.875333Z",
     "iopub.status.busy": "2020-11-29T07:26:19.874111Z",
     "iopub.status.idle": "2020-11-29T07:26:21.177082Z",
     "shell.execute_reply": "2020-11-29T07:26:21.176125Z"
    },
    "papermill": {
     "duration": 1.33283,
     "end_time": "2020-11-29T07:26:21.177337",
     "exception": false,
     "start_time": "2020-11-29T07:26:19.844507",
     "status": "completed"
    },
    "tags": []
   },
   "outputs": [],
   "source": [
    "questions_df = pd.read_csv(\n",
    "    '../input/riiid-test-answer-prediction/questions.csv', \n",
    "    usecols=[0, 3],\n",
    "    dtype={'question_id': 'int16', 'part': 'int8'}\n",
    ")\n",
    "train_df = pd.merge(train_df, questions_df, left_on='content_id', right_on='question_id', how='left')\n",
    "train_df.drop(columns=['question_id'], inplace=True)"
   ]
  },
  {
   "cell_type": "code",
   "execution_count": 10,
   "metadata": {
    "execution": {
     "iopub.execute_input": "2020-11-29T07:26:21.238114Z",
     "iopub.status.busy": "2020-11-29T07:26:21.237357Z",
     "iopub.status.idle": "2020-11-29T07:26:21.383411Z",
     "shell.execute_reply": "2020-11-29T07:26:21.382759Z"
    },
    "papermill": {
     "duration": 0.176023,
     "end_time": "2020-11-29T07:26:21.383550",
     "exception": false,
     "start_time": "2020-11-29T07:26:21.207527",
     "status": "completed"
    },
    "tags": []
   },
   "outputs": [],
   "source": [
    "train_df['content_count'] = train_df['content_id'].map(content_agg['count']).astype('int32')\n",
    "train_df['content_id'] = train_df['content_id'].map(content_agg['sum'] / content_agg['count'])"
   ]
  },
  {
   "cell_type": "code",
   "execution_count": 11,
   "metadata": {
    "execution": {
     "iopub.execute_input": "2020-11-29T07:26:21.430605Z",
     "iopub.status.busy": "2020-11-29T07:26:21.429781Z",
     "iopub.status.idle": "2020-11-29T07:26:23.062295Z",
     "shell.execute_reply": "2020-11-29T07:26:23.061088Z"
    },
    "papermill": {
     "duration": 1.65958,
     "end_time": "2020-11-29T07:26:23.062451",
     "exception": false,
     "start_time": "2020-11-29T07:26:21.402871",
     "status": "completed"
    },
    "tags": []
   },
   "outputs": [],
   "source": [
    "valid_df = train_df.groupby('user_id').tail(6)\n",
    "train_df.drop(valid_df.index, inplace=True)"
   ]
  },
  {
   "cell_type": "code",
   "execution_count": 12,
   "metadata": {
    "execution": {
     "iopub.execute_input": "2020-11-29T07:26:23.116610Z",
     "iopub.status.busy": "2020-11-29T07:26:23.115844Z",
     "iopub.status.idle": "2020-11-29T07:26:23.131189Z",
     "shell.execute_reply": "2020-11-29T07:26:23.131774Z"
    },
    "papermill": {
     "duration": 0.046905,
     "end_time": "2020-11-29T07:26:23.131934",
     "exception": false,
     "start_time": "2020-11-29T07:26:23.085029",
     "status": "completed"
    },
    "tags": []
   },
   "outputs": [
    {
     "data": {
      "text/html": [
       "<div>\n",
       "<style scoped>\n",
       "    .dataframe tbody tr th:only-of-type {\n",
       "        vertical-align: middle;\n",
       "    }\n",
       "\n",
       "    .dataframe tbody tr th {\n",
       "        vertical-align: top;\n",
       "    }\n",
       "\n",
       "    .dataframe thead th {\n",
       "        text-align: right;\n",
       "    }\n",
       "</style>\n",
       "<table border=\"1\" class=\"dataframe\">\n",
       "  <thead>\n",
       "    <tr style=\"text-align: right;\">\n",
       "      <th></th>\n",
       "      <th>row_id</th>\n",
       "      <th>timestamp</th>\n",
       "      <th>user_id</th>\n",
       "      <th>content_id</th>\n",
       "      <th>content_type_id</th>\n",
       "      <th>task_container_id</th>\n",
       "      <th>user_answer</th>\n",
       "      <th>answered_correctly</th>\n",
       "      <th>prior_question_elapsed_time</th>\n",
       "      <th>prior_question_had_explanation</th>\n",
       "      <th>user_correctness</th>\n",
       "      <th>part</th>\n",
       "      <th>content_count</th>\n",
       "    </tr>\n",
       "  </thead>\n",
       "  <tbody>\n",
       "    <tr>\n",
       "      <th>0</th>\n",
       "      <td>22</td>\n",
       "      <td>534187</td>\n",
       "      <td>115</td>\n",
       "      <td>0.681450</td>\n",
       "      <td>0</td>\n",
       "      <td>22</td>\n",
       "      <td>2</td>\n",
       "      <td>0</td>\n",
       "      <td>19000.0</td>\n",
       "      <td>False</td>\n",
       "      <td>0.727273</td>\n",
       "      <td>1</td>\n",
       "      <td>18151</td>\n",
       "    </tr>\n",
       "    <tr>\n",
       "      <th>1</th>\n",
       "      <td>23</td>\n",
       "      <td>557677</td>\n",
       "      <td>115</td>\n",
       "      <td>0.603984</td>\n",
       "      <td>0</td>\n",
       "      <td>23</td>\n",
       "      <td>3</td>\n",
       "      <td>0</td>\n",
       "      <td>21000.0</td>\n",
       "      <td>False</td>\n",
       "      <td>0.695652</td>\n",
       "      <td>1</td>\n",
       "      <td>25499</td>\n",
       "    </tr>\n",
       "    <tr>\n",
       "      <th>2</th>\n",
       "      <td>24</td>\n",
       "      <td>575289</td>\n",
       "      <td>115</td>\n",
       "      <td>0.588526</td>\n",
       "      <td>0</td>\n",
       "      <td>24</td>\n",
       "      <td>3</td>\n",
       "      <td>1</td>\n",
       "      <td>22000.0</td>\n",
       "      <td>False</td>\n",
       "      <td>0.666667</td>\n",
       "      <td>1</td>\n",
       "      <td>20847</td>\n",
       "    </tr>\n",
       "    <tr>\n",
       "      <th>3</th>\n",
       "      <td>25</td>\n",
       "      <td>597863</td>\n",
       "      <td>115</td>\n",
       "      <td>0.438163</td>\n",
       "      <td>0</td>\n",
       "      <td>25</td>\n",
       "      <td>3</td>\n",
       "      <td>1</td>\n",
       "      <td>16000.0</td>\n",
       "      <td>False</td>\n",
       "      <td>0.680000</td>\n",
       "      <td>1</td>\n",
       "      <td>74244</td>\n",
       "    </tr>\n",
       "    <tr>\n",
       "      <th>4</th>\n",
       "      <td>26</td>\n",
       "      <td>621464</td>\n",
       "      <td>115</td>\n",
       "      <td>0.459144</td>\n",
       "      <td>0</td>\n",
       "      <td>26</td>\n",
       "      <td>2</td>\n",
       "      <td>1</td>\n",
       "      <td>20000.0</td>\n",
       "      <td>False</td>\n",
       "      <td>0.692308</td>\n",
       "      <td>1</td>\n",
       "      <td>30644</td>\n",
       "    </tr>\n",
       "  </tbody>\n",
       "</table>\n",
       "</div>"
      ],
      "text/plain": [
       "   row_id  timestamp  user_id  content_id  content_type_id  task_container_id  \\\n",
       "0      22     534187      115    0.681450                0                 22   \n",
       "1      23     557677      115    0.603984                0                 23   \n",
       "2      24     575289      115    0.588526                0                 24   \n",
       "3      25     597863      115    0.438163                0                 25   \n",
       "4      26     621464      115    0.459144                0                 26   \n",
       "\n",
       "   user_answer  answered_correctly  prior_question_elapsed_time  \\\n",
       "0            2                   0                      19000.0   \n",
       "1            3                   0                      21000.0   \n",
       "2            3                   1                      22000.0   \n",
       "3            3                   1                      16000.0   \n",
       "4            2                   1                      20000.0   \n",
       "\n",
       "   prior_question_had_explanation  user_correctness  part  content_count  \n",
       "0                           False          0.727273     1          18151  \n",
       "1                           False          0.695652     1          25499  \n",
       "2                           False          0.666667     1          20847  \n",
       "3                           False          0.680000     1          74244  \n",
       "4                           False          0.692308     1          30644  "
      ]
     },
     "execution_count": 12,
     "metadata": {},
     "output_type": "execute_result"
    }
   ],
   "source": [
    "train_df.head()"
   ]
  },
  {
   "cell_type": "markdown",
   "metadata": {
    "papermill": {
     "duration": 0.019869,
     "end_time": "2020-11-29T07:26:23.172318",
     "exception": false,
     "start_time": "2020-11-29T07:26:23.152449",
     "status": "completed"
    },
    "tags": []
   },
   "source": [
    "# Train"
   ]
  },
  {
   "cell_type": "code",
   "execution_count": 13,
   "metadata": {
    "execution": {
     "iopub.execute_input": "2020-11-29T07:26:23.220558Z",
     "iopub.status.busy": "2020-11-29T07:26:23.219417Z",
     "iopub.status.idle": "2020-11-29T07:26:23.222393Z",
     "shell.execute_reply": "2020-11-29T07:26:23.221659Z"
    },
    "papermill": {
     "duration": 0.029937,
     "end_time": "2020-11-29T07:26:23.222519",
     "exception": false,
     "start_time": "2020-11-29T07:26:23.192582",
     "status": "completed"
    },
    "tags": []
   },
   "outputs": [],
   "source": [
    "features = [\n",
    "    'content_id',\n",
    "    'prior_question_elapsed_time',\n",
    "    'prior_question_had_explanation',\n",
    "    'user_correctness',\n",
    "    'part',\n",
    "    'content_count'\n",
    "]\n",
    "\n",
    "params = {\n",
    "    'objective': 'binary',\n",
    "    'seed': 42,\n",
    "    'metric': 'auc',\n",
    "    'learning_rate': 0.05,\n",
    "    'max_bin': 800,\n",
    "    'num_leaves': 80\n",
    "}"
   ]
  },
  {
   "cell_type": "code",
   "execution_count": 14,
   "metadata": {
    "execution": {
     "iopub.execute_input": "2020-11-29T07:26:23.293079Z",
     "iopub.status.busy": "2020-11-29T07:26:23.291919Z",
     "iopub.status.idle": "2020-11-29T07:36:16.691725Z",
     "shell.execute_reply": "2020-11-29T07:36:16.691003Z"
    },
    "papermill": {
     "duration": 593.449027,
     "end_time": "2020-11-29T07:36:16.691865",
     "exception": false,
     "start_time": "2020-11-29T07:26:23.242838",
     "status": "completed"
    },
    "tags": []
   },
   "outputs": [
    {
     "name": "stdout",
     "output_type": "stream",
     "text": [
      "Training until validation scores don't improve for 50 rounds\n",
      "[50]\ttraining's auc: 0.737457\tvalid_1's auc: 0.725009\n",
      "[100]\ttraining's auc: 0.738887\tvalid_1's auc: 0.726078\n",
      "[150]\ttraining's auc: 0.739535\tvalid_1's auc: 0.726369\n",
      "[200]\ttraining's auc: 0.739892\tvalid_1's auc: 0.726448\n",
      "[250]\ttraining's auc: 0.740276\tvalid_1's auc: 0.726515\n",
      "[300]\ttraining's auc: 0.740603\tvalid_1's auc: 0.726553\n",
      "[350]\ttraining's auc: 0.740975\tvalid_1's auc: 0.726587\n",
      "[400]\ttraining's auc: 0.741303\tvalid_1's auc: 0.726603\n",
      "[450]\ttraining's auc: 0.741652\tvalid_1's auc: 0.726615\n",
      "[500]\ttraining's auc: 0.741925\tvalid_1's auc: 0.726614\n",
      "[550]\ttraining's auc: 0.742223\tvalid_1's auc: 0.726625\n",
      "[600]\ttraining's auc: 0.742556\tvalid_1's auc: 0.726633\n",
      "[650]\ttraining's auc: 0.742871\tvalid_1's auc: 0.72664\n",
      "Early stopping, best iteration is:\n",
      "[646]\ttraining's auc: 0.742855\tvalid_1's auc: 0.726641\n"
     ]
    },
    {
     "data": {
      "image/png": "[encoded data removed]",
      "text/plain": [
       "<Figure size 432x288 with 1 Axes>"
      ]
     },
     "metadata": {
      "needs_background": "light"
     },
     "output_type": "display_data"
    }
   ],
   "source": [
    "tr_data = lgb.Dataset(train_df[features], label=train_df[target])\n",
    "va_data = lgb.Dataset(valid_df[features], label=valid_df[target])\n",
    "\n",
    "model = lgb.train(\n",
    "    params, \n",
    "    tr_data, \n",
    "    num_boost_round=10000,\n",
    "    valid_sets=[tr_data, va_data], \n",
    "    early_stopping_rounds=50,\n",
    "    verbose_eval=50\n",
    ")\n",
    "\n",
    "# model.save_model(f'model.txt')\n",
    "lgb.plot_importance(model, importance_type='gain')\n",
    "plt.show()"
   ]
  },
  {
   "cell_type": "markdown",
   "metadata": {
    "papermill": {
     "duration": 0.028073,
     "end_time": "2020-11-29T07:36:16.747409",
     "exception": false,
     "start_time": "2020-11-29T07:36:16.719336",
     "status": "completed"
    },
    "tags": []
   },
   "source": [
    "# Inference"
   ]
  },
  {
   "cell_type": "code",
   "execution_count": 15,
   "metadata": {
    "execution": {
     "iopub.execute_input": "2020-11-29T07:36:16.811522Z",
     "iopub.status.busy": "2020-11-29T07:36:16.810657Z",
     "iopub.status.idle": "2020-11-29T07:36:17.049153Z",
     "shell.execute_reply": "2020-11-29T07:36:17.049788Z"
    },
    "papermill": {
     "duration": 0.27494,
     "end_time": "2020-11-29T07:36:17.049957",
     "exception": false,
     "start_time": "2020-11-29T07:36:16.775017",
     "status": "completed"
    },
    "tags": []
   },
   "outputs": [],
   "source": [
    "user_sum_dict = user_agg['sum'].astype('int16').to_dict(defaultdict(int))\n",
    "user_count_dict = user_agg['count'].astype('int16').to_dict(defaultdict(int))\n",
    "content_sum_dict = content_agg['sum'].astype('int32').to_dict(defaultdict(int))\n",
    "content_count_dict = content_agg['count'].astype('int32').to_dict(defaultdict(int))"
   ]
  },
  {
   "cell_type": "code",
   "execution_count": 16,
   "metadata": {
    "execution": {
     "iopub.execute_input": "2020-11-29T07:36:17.112933Z",
     "iopub.status.busy": "2020-11-29T07:36:17.112150Z",
     "iopub.status.idle": "2020-11-29T07:36:17.115718Z",
     "shell.execute_reply": "2020-11-29T07:36:17.115069Z"
    },
    "papermill": {
     "duration": 0.037722,
     "end_time": "2020-11-29T07:36:17.115852",
     "exception": false,
     "start_time": "2020-11-29T07:36:17.078130",
     "status": "completed"
    },
    "tags": []
   },
   "outputs": [],
   "source": [
    "# model = lgb.Booster(model_file='../input/riiid-lgbm-starter/model.txt')\n",
    "env = riiideducation.make_env()\n",
    "iter_test = env.iter_test()\n",
    "prior_test_df = None"
   ]
  },
  {
   "cell_type": "code",
   "execution_count": 17,
   "metadata": {
    "execution": {
     "iopub.execute_input": "2020-11-29T07:36:17.197629Z",
     "iopub.status.busy": "2020-11-29T07:36:17.196768Z",
     "iopub.status.idle": "2020-11-29T07:36:17.299920Z",
     "shell.execute_reply": "2020-11-29T07:36:17.301778Z"
    },
    "papermill": {
     "duration": 0.158135,
     "end_time": "2020-11-29T07:36:17.302091",
     "exception": false,
     "start_time": "2020-11-29T07:36:17.143956",
     "status": "completed"
    },
    "tags": []
   },
   "outputs": [
    {
     "name": "stdout",
     "output_type": "stream",
     "text": [
      "CPU times: user 314 ms, sys: 4.04 ms, total: 318 ms\n",
      "Wall time: 106 ms\n"
     ]
    }
   ],
   "source": [
    "%%time\n",
    "\n",
    "for (test_df, sample_prediction_df) in iter_test:\n",
    "    if prior_test_df is not None:\n",
    "        prior_test_df[target] = eval(test_df['prior_group_answers_correct'].iloc[0])\n",
    "        prior_test_df = prior_test_df[prior_test_df[target] != -1].reset_index(drop=True)\n",
    "        \n",
    "        user_ids = prior_test_df['user_id'].values\n",
    "        content_ids = prior_test_df['content_id'].values\n",
    "        targets = prior_test_df[target].values\n",
    "        \n",
    "        for user_id, content_id, answered_correctly in zip(user_ids, content_ids, targets):\n",
    "            user_sum_dict[user_id] += answered_correctly\n",
    "            user_count_dict[user_id] += 1\n",
    "            content_sum_dict[content_id] += answered_correctly\n",
    "            content_count_dict[content_id] += 1\n",
    "\n",
    "    prior_test_df = test_df.copy()\n",
    "    \n",
    "    test_df = test_df[test_df['content_type_id'] == 0].reset_index(drop=True)\n",
    "    test_df = pd.merge(test_df, questions_df, left_on='content_id', right_on='question_id', how='left')\n",
    "    test_df['prior_question_had_explanation'] = test_df['prior_question_had_explanation'].fillna(False).astype('bool')    \n",
    "    \n",
    "    user_sum = np.zeros(len(test_df), dtype=np.int16)\n",
    "    user_count = np.zeros(len(test_df), dtype=np.int16)\n",
    "    content_sum = np.zeros(len(test_df), dtype=np.int32)\n",
    "    content_count = np.zeros(len(test_df), dtype=np.int32)\n",
    "    \n",
    "    for i, (user_id, content_id) in enumerate(zip(test_df['user_id'].values, test_df['content_id'].values)):\n",
    "        user_sum[i] = user_sum_dict[user_id]\n",
    "        user_count[i] = user_count_dict[user_id]\n",
    "        content_sum[i] = content_sum_dict[content_id]\n",
    "        content_count[i] = content_count_dict[content_id]\n",
    "\n",
    "    test_df['user_correctness'] = user_sum / user_count\n",
    "    test_df['content_count'] = content_count\n",
    "    test_df['content_id'] = content_sum / content_count\n",
    "       \n",
    "    test_df[target] = model.predict(test_df[features])\n",
    "    env.predict(test_df[['row_id', target]])"
   ]
  },
  {
   "cell_type": "code",
   "execution_count": null,
   "metadata": {
    "papermill": {
     "duration": 0.034107,
     "end_time": "2020-11-29T07:36:17.371115",
     "exception": false,
     "start_time": "2020-11-29T07:36:17.337008",
     "status": "completed"
    },
    "tags": []
   },
   "outputs": [],
   "source": []
  }
 ],
 "metadata": {
  "kernelspec": {
   "display_name": "Python 3",
   "language": "python",
   "name": "python3"
  },
  "language_info": {
   "codemirror_mode": {
    "name": "ipython",
    "version": 3
   },
   "file_extension": ".py",
   "mimetype": "text/x-python",
   "name": "python",
   "nbconvert_exporter": "python",
   "pygments_lexer": "ipython3",
   "version": "3.7.6"
  },
  "papermill": {
   "duration": 669.196174,
   "end_time": "2020-11-29T07:36:17.519018",
   "environment_variables": {},
   "exception": null,
   "input_path": "__notebook__.ipynb",
   "output_path": "__notebook__.ipynb",
   "parameters": {},
   "start_time": "2020-11-29T07:25:08.322844",
   "version": "2.1.0"
  }
 },
 "nbformat": 4,
 "nbformat_minor": 4
}
