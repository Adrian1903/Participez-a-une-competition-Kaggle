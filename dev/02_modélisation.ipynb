{
 "metadata": {
  "language_info": {
   "codemirror_mode": {
    "name": "ipython",
    "version": 3
   },
   "file_extension": ".py",
   "mimetype": "text/x-python",
   "name": "python",
   "nbconvert_exporter": "python",
   "pygments_lexer": "ipython3",
   "version": 3
  },
  "orig_nbformat": 2
 },
 "nbformat": 4,
 "nbformat_minor": 2,
 "cells": [
  {
   "source": [
    "Stratégie de cross validation : Il est important que la cross validation soit bien ficelée\n",
    "- 1/ sort value sur timestamp\n",
    "- 2/ Découpage en 5 morceaux\n",
    "- 3/"
   ],
   "cell_type": "markdown",
   "metadata": {}
  }
 ]
}