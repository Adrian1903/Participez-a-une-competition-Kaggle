{
 "metadata": {
  "language_info": {
   "codemirror_mode": {
    "name": "ipython",
    "version": 3
   },
   "file_extension": ".py",
   "mimetype": "text/x-python",
   "name": "python",
   "nbconvert_exporter": "python",
   "pygments_lexer": "ipython3",
   "version": "3.8.3-final"
  },
  "orig_nbformat": 2,
  "kernelspec": {
   "name": "python3",
   "display_name": "Python 3"
  }
 },
 "nbformat": 4,
 "nbformat_minor": 2,
 "cells": [
  {
   "source": [
    "Stratégie de cross validation : Il est important que la cross validation soit bien ficelée\n",
    "- 1/ sort_value ascending=true sur timestamp\n",
    "- 2/ Découpage en 5 morceaux\n",
    "- 3/ Premier CV sur les 2 premiers morceaux dans le temps\n",
    "- 4/ Second CV sur les 3 premiers morceaux dans le temps\n",
    "- 5/ Ainsi de suite jusqu'à la fin."
   ],
   "cell_type": "markdown",
   "metadata": {}
  },
  {
   "cell_type": "code",
   "execution_count": 1,
   "metadata": {},
   "outputs": [],
   "source": [
    "import numpy as np\n",
    "import pandas as pd\n",
    "import matplotlib.pyplot as plt\n",
    "plt.style.use(\"default\")\n",
    "import lightgbm as lgb\n",
    "from sklearn.model_selection import GridSearchCV\n",
    "from sklearn.model_selection import TimeSeriesSplit\n",
    "import pickle\n",
    "from functions import *"
   ]
  },
  {
   "cell_type": "code",
   "execution_count": 2,
   "metadata": {},
   "outputs": [
    {
     "output_type": "stream",
     "name": "stdout",
     "text": [
      "<class 'pandas.core.frame.DataFrame'>\nInt64Index: 37408927 entries, 0 to 37408926\nData columns (total 12 columns):\n #   Column                          Dtype  \n---  ------                          -----  \n 0   row_id                          int64  \n 1   timestamp                       int64  \n 2   user_id                         int32  \n 3   content_id                      int16  \n 4   content_type_id                 int8   \n 5   task_container_id               int16  \n 6   user_answer                     int8   \n 7   answered_correctly              int8   \n 8   prior_question_elapsed_time     float32\n 9   prior_question_had_explanation  boolean\n 10  question_id                     int64  \n 11  part                            int64  \ndtypes: boolean(1), float32(1), int16(2), int32(1), int64(4), int8(3)\nmemory usage: 2.0 GB\nWall time: 12.1 s\n"
     ]
    }
   ],
   "source": [
    "%%time\n",
    "\n",
    "path = \"C:/riiid-test-answer-prediction/reduced_riiid_train.pkl.gzip\"\n",
    "train = pd.read_pickle(path)\n",
    "train = train.astype({'row_id': 'int64',\n",
    "                      'timestamp': 'int64',\n",
    "                      'user_id': 'int32',\n",
    "                      'content_id': 'int16',\n",
    "                      'content_type_id': 'int8',\n",
    "                      'task_container_id': 'int16',\n",
    "                      'user_answer': 'int8',\n",
    "                      'answered_correctly': 'int8',\n",
    "                      'prior_question_elapsed_time': 'float32',\n",
    "                      'prior_question_had_explanation': 'boolean'})\n",
    "train.info()"
   ]
  },
  {
   "cell_type": "code",
   "execution_count": 3,
   "metadata": {},
   "outputs": [
    {
     "output_type": "execute_result",
     "data": {
      "text/plain": [
       "            row_id    timestamp     user_id  content_id  content_type_id  \\\n",
       "0                0            0         115        5692                0   \n",
       "37122560  54696112            0  1159748152        8218                0   \n",
       "37122562  55106913            0  1168991778        8218                0   \n",
       "12137367  95952189            0  2034938405        8215                0   \n",
       "12137359  94550773            0  2007089960        8215                0   \n",
       "...            ...          ...         ...         ...              ...   \n",
       "4335288   75110613  28684362990  1598791376        7685                0   \n",
       "4343070   75110612  28684362990  1598791376        7688                0   \n",
       "4339179   75110610  28684362990  1598791376        7686                0   \n",
       "16371664  78859776  28684765728  1678328767         393                0   \n",
       "34672189  78859777  28684796971  1678328767       12234                0   \n",
       "\n",
       "          task_container_id  user_answer  answered_correctly  \\\n",
       "0                         1            3                   1   \n",
       "37122560                  0            1                   0   \n",
       "37122562                  0            3                   0   \n",
       "12137367                  0            1                   0   \n",
       "12137359                  0            0                   1   \n",
       "...                     ...          ...                 ...   \n",
       "4335288                  20            2                   0   \n",
       "4343070                  20            3                   0   \n",
       "4339179                  20            3                   0   \n",
       "16371664                 70            0                   1   \n",
       "34672189                 71            3                   0   \n",
       "\n",
       "          prior_question_elapsed_time  prior_question_had_explanation  \\\n",
       "0                                 NaN                            <NA>   \n",
       "37122560                          NaN                            <NA>   \n",
       "37122562                          NaN                            <NA>   \n",
       "12137367                          NaN                            <NA>   \n",
       "12137359                          NaN                            <NA>   \n",
       "...                               ...                             ...   \n",
       "4335288                       24000.0                            True   \n",
       "4343070                       24000.0                            True   \n",
       "4339179                       24000.0                            True   \n",
       "16371664                       3000.0                            True   \n",
       "34672189                      20000.0                            True   \n",
       "\n",
       "          question_id  part  \n",
       "0                5692     5  \n",
       "37122560         8218     5  \n",
       "37122562         8218     5  \n",
       "12137367         8215     5  \n",
       "12137359         8215     5  \n",
       "...               ...   ...  \n",
       "4335288          7685     7  \n",
       "4343070          7688     7  \n",
       "4339179          7686     7  \n",
       "16371664          393     2  \n",
       "34672189        12234     2  \n",
       "\n",
       "[37408927 rows x 12 columns]"
      ],
      "text/html": "<div>\n<style scoped>\n    .dataframe tbody tr th:only-of-type {\n        vertical-align: middle;\n    }\n\n    .dataframe tbody tr th {\n        vertical-align: top;\n    }\n\n    .dataframe thead th {\n        text-align: right;\n    }\n</style>\n<table border=\"1\" class=\"dataframe\">\n  <thead>\n    <tr style=\"text-align: right;\">\n      <th></th>\n      <th>row_id</th>\n      <th>timestamp</th>\n      <th>user_id</th>\n      <th>content_id</th>\n      <th>content_type_id</th>\n      <th>task_container_id</th>\n      <th>user_answer</th>\n      <th>answered_correctly</th>\n      <th>prior_question_elapsed_time</th>\n      <th>prior_question_had_explanation</th>\n      <th>question_id</th>\n      <th>part</th>\n    </tr>\n  </thead>\n  <tbody>\n    <tr>\n      <th>0</th>\n      <td>0</td>\n      <td>0</td>\n      <td>115</td>\n      <td>5692</td>\n      <td>0</td>\n      <td>1</td>\n      <td>3</td>\n      <td>1</td>\n      <td>NaN</td>\n      <td>&lt;NA&gt;</td>\n      <td>5692</td>\n      <td>5</td>\n    </tr>\n    <tr>\n      <th>37122560</th>\n      <td>54696112</td>\n      <td>0</td>\n      <td>1159748152</td>\n      <td>8218</td>\n      <td>0</td>\n      <td>0</td>\n      <td>1</td>\n      <td>0</td>\n      <td>NaN</td>\n      <td>&lt;NA&gt;</td>\n      <td>8218</td>\n      <td>5</td>\n    </tr>\n    <tr>\n      <th>37122562</th>\n      <td>55106913</td>\n      <td>0</td>\n      <td>1168991778</td>\n      <td>8218</td>\n      <td>0</td>\n      <td>0</td>\n      <td>3</td>\n      <td>0</td>\n      <td>NaN</td>\n      <td>&lt;NA&gt;</td>\n      <td>8218</td>\n      <td>5</td>\n    </tr>\n    <tr>\n      <th>12137367</th>\n      <td>95952189</td>\n      <td>0</td>\n      <td>2034938405</td>\n      <td>8215</td>\n      <td>0</td>\n      <td>0</td>\n      <td>1</td>\n      <td>0</td>\n      <td>NaN</td>\n      <td>&lt;NA&gt;</td>\n      <td>8215</td>\n      <td>5</td>\n    </tr>\n    <tr>\n      <th>12137359</th>\n      <td>94550773</td>\n      <td>0</td>\n      <td>2007089960</td>\n      <td>8215</td>\n      <td>0</td>\n      <td>0</td>\n      <td>0</td>\n      <td>1</td>\n      <td>NaN</td>\n      <td>&lt;NA&gt;</td>\n      <td>8215</td>\n      <td>5</td>\n    </tr>\n    <tr>\n      <th>...</th>\n      <td>...</td>\n      <td>...</td>\n      <td>...</td>\n      <td>...</td>\n      <td>...</td>\n      <td>...</td>\n      <td>...</td>\n      <td>...</td>\n      <td>...</td>\n      <td>...</td>\n      <td>...</td>\n      <td>...</td>\n    </tr>\n    <tr>\n      <th>4335288</th>\n      <td>75110613</td>\n      <td>28684362990</td>\n      <td>1598791376</td>\n      <td>7685</td>\n      <td>0</td>\n      <td>20</td>\n      <td>2</td>\n      <td>0</td>\n      <td>24000.0</td>\n      <td>True</td>\n      <td>7685</td>\n      <td>7</td>\n    </tr>\n    <tr>\n      <th>4343070</th>\n      <td>75110612</td>\n      <td>28684362990</td>\n      <td>1598791376</td>\n      <td>7688</td>\n      <td>0</td>\n      <td>20</td>\n      <td>3</td>\n      <td>0</td>\n      <td>24000.0</td>\n      <td>True</td>\n      <td>7688</td>\n      <td>7</td>\n    </tr>\n    <tr>\n      <th>4339179</th>\n      <td>75110610</td>\n      <td>28684362990</td>\n      <td>1598791376</td>\n      <td>7686</td>\n      <td>0</td>\n      <td>20</td>\n      <td>3</td>\n      <td>0</td>\n      <td>24000.0</td>\n      <td>True</td>\n      <td>7686</td>\n      <td>7</td>\n    </tr>\n    <tr>\n      <th>16371664</th>\n      <td>78859776</td>\n      <td>28684765728</td>\n      <td>1678328767</td>\n      <td>393</td>\n      <td>0</td>\n      <td>70</td>\n      <td>0</td>\n      <td>1</td>\n      <td>3000.0</td>\n      <td>True</td>\n      <td>393</td>\n      <td>2</td>\n    </tr>\n    <tr>\n      <th>34672189</th>\n      <td>78859777</td>\n      <td>28684796971</td>\n      <td>1678328767</td>\n      <td>12234</td>\n      <td>0</td>\n      <td>71</td>\n      <td>3</td>\n      <td>0</td>\n      <td>20000.0</td>\n      <td>True</td>\n      <td>12234</td>\n      <td>2</td>\n    </tr>\n  </tbody>\n</table>\n<p>37408927 rows × 12 columns</p>\n</div>"
     },
     "metadata": {},
     "execution_count": 3
    }
   ],
   "source": [
    "train = train.sort_values(by='timestamp')\n",
    "train"
   ]
  },
  {
   "cell_type": "code",
   "execution_count": 4,
   "metadata": {},
   "outputs": [
    {
     "output_type": "execute_result",
     "data": {
      "text/plain": [
       "row_id                                 0\n",
       "timestamp                              0\n",
       "user_id                                0\n",
       "content_id                             0\n",
       "content_type_id                        0\n",
       "task_container_id                      0\n",
       "user_answer                            0\n",
       "answered_correctly                     0\n",
       "prior_question_elapsed_time       192370\n",
       "prior_question_had_explanation    192370\n",
       "question_id                            0\n",
       "part                                   0\n",
       "dtype: int64"
      ]
     },
     "metadata": {},
     "execution_count": 4
    }
   ],
   "source": [
    "train.isna().sum()"
   ]
  },
  {
   "cell_type": "code",
   "execution_count": 5,
   "metadata": {},
   "outputs": [
    {
     "output_type": "execute_result",
     "data": {
      "text/plain": [
       "            row_id    timestamp     user_id  content_id  content_type_id  \\\n",
       "0         45696409            0   967672499        7636                0   \n",
       "1         45696408            0   967672499        7635                0   \n",
       "2         45696407            0   967672499        7637                0   \n",
       "3          6899015            0   150202195       10072                0   \n",
       "4          6899016            0   150202195       10070                0   \n",
       "...            ...          ...         ...         ...              ...   \n",
       "37216552  75110613  28684362990  1598791376        7685                0   \n",
       "37216553  75110612  28684362990  1598791376        7688                0   \n",
       "37216554  75110610  28684362990  1598791376        7686                0   \n",
       "37216555  78859776  28684765728  1678328767         393                0   \n",
       "37216556  78859777  28684796971  1678328767       12234                0   \n",
       "\n",
       "          task_container_id  user_answer  answered_correctly  \\\n",
       "0                         0            0                   1   \n",
       "1                         0            2                   1   \n",
       "2                         0            2                   0   \n",
       "3                         0            0                   1   \n",
       "4                         0            0                   1   \n",
       "...                     ...          ...                 ...   \n",
       "37216552                 20            2                   0   \n",
       "37216553                 20            3                   0   \n",
       "37216554                 20            3                   0   \n",
       "37216555                 70            0                   1   \n",
       "37216556                 71            3                   0   \n",
       "\n",
       "          prior_question_elapsed_time  prior_question_had_explanation  \\\n",
       "0                             48666.0                            True   \n",
       "1                             48666.0                            True   \n",
       "2                             48666.0                            True   \n",
       "3                             25000.0                            True   \n",
       "4                             25000.0                            True   \n",
       "...                               ...                             ...   \n",
       "37216552                      24000.0                            True   \n",
       "37216553                      24000.0                            True   \n",
       "37216554                      24000.0                            True   \n",
       "37216555                       3000.0                            True   \n",
       "37216556                      20000.0                            True   \n",
       "\n",
       "          question_id  part  \n",
       "0                7636     7  \n",
       "1                7635     7  \n",
       "2                7637     7  \n",
       "3               10072     6  \n",
       "4               10070     6  \n",
       "...               ...   ...  \n",
       "37216552         7685     7  \n",
       "37216553         7688     7  \n",
       "37216554         7686     7  \n",
       "37216555          393     2  \n",
       "37216556        12234     2  \n",
       "\n",
       "[37216557 rows x 12 columns]"
      ],
      "text/html": "<div>\n<style scoped>\n    .dataframe tbody tr th:only-of-type {\n        vertical-align: middle;\n    }\n\n    .dataframe tbody tr th {\n        vertical-align: top;\n    }\n\n    .dataframe thead th {\n        text-align: right;\n    }\n</style>\n<table border=\"1\" class=\"dataframe\">\n  <thead>\n    <tr style=\"text-align: right;\">\n      <th></th>\n      <th>row_id</th>\n      <th>timestamp</th>\n      <th>user_id</th>\n      <th>content_id</th>\n      <th>content_type_id</th>\n      <th>task_container_id</th>\n      <th>user_answer</th>\n      <th>answered_correctly</th>\n      <th>prior_question_elapsed_time</th>\n      <th>prior_question_had_explanation</th>\n      <th>question_id</th>\n      <th>part</th>\n    </tr>\n  </thead>\n  <tbody>\n    <tr>\n      <th>0</th>\n      <td>45696409</td>\n      <td>0</td>\n      <td>967672499</td>\n      <td>7636</td>\n      <td>0</td>\n      <td>0</td>\n      <td>0</td>\n      <td>1</td>\n      <td>48666.0</td>\n      <td>True</td>\n      <td>7636</td>\n      <td>7</td>\n    </tr>\n    <tr>\n      <th>1</th>\n      <td>45696408</td>\n      <td>0</td>\n      <td>967672499</td>\n      <td>7635</td>\n      <td>0</td>\n      <td>0</td>\n      <td>2</td>\n      <td>1</td>\n      <td>48666.0</td>\n      <td>True</td>\n      <td>7635</td>\n      <td>7</td>\n    </tr>\n    <tr>\n      <th>2</th>\n      <td>45696407</td>\n      <td>0</td>\n      <td>967672499</td>\n      <td>7637</td>\n      <td>0</td>\n      <td>0</td>\n      <td>2</td>\n      <td>0</td>\n      <td>48666.0</td>\n      <td>True</td>\n      <td>7637</td>\n      <td>7</td>\n    </tr>\n    <tr>\n      <th>3</th>\n      <td>6899015</td>\n      <td>0</td>\n      <td>150202195</td>\n      <td>10072</td>\n      <td>0</td>\n      <td>0</td>\n      <td>0</td>\n      <td>1</td>\n      <td>25000.0</td>\n      <td>True</td>\n      <td>10072</td>\n      <td>6</td>\n    </tr>\n    <tr>\n      <th>4</th>\n      <td>6899016</td>\n      <td>0</td>\n      <td>150202195</td>\n      <td>10070</td>\n      <td>0</td>\n      <td>0</td>\n      <td>0</td>\n      <td>1</td>\n      <td>25000.0</td>\n      <td>True</td>\n      <td>10070</td>\n      <td>6</td>\n    </tr>\n    <tr>\n      <th>...</th>\n      <td>...</td>\n      <td>...</td>\n      <td>...</td>\n      <td>...</td>\n      <td>...</td>\n      <td>...</td>\n      <td>...</td>\n      <td>...</td>\n      <td>...</td>\n      <td>...</td>\n      <td>...</td>\n      <td>...</td>\n    </tr>\n    <tr>\n      <th>37216552</th>\n      <td>75110613</td>\n      <td>28684362990</td>\n      <td>1598791376</td>\n      <td>7685</td>\n      <td>0</td>\n      <td>20</td>\n      <td>2</td>\n      <td>0</td>\n      <td>24000.0</td>\n      <td>True</td>\n      <td>7685</td>\n      <td>7</td>\n    </tr>\n    <tr>\n      <th>37216553</th>\n      <td>75110612</td>\n      <td>28684362990</td>\n      <td>1598791376</td>\n      <td>7688</td>\n      <td>0</td>\n      <td>20</td>\n      <td>3</td>\n      <td>0</td>\n      <td>24000.0</td>\n      <td>True</td>\n      <td>7688</td>\n      <td>7</td>\n    </tr>\n    <tr>\n      <th>37216554</th>\n      <td>75110610</td>\n      <td>28684362990</td>\n      <td>1598791376</td>\n      <td>7686</td>\n      <td>0</td>\n      <td>20</td>\n      <td>3</td>\n      <td>0</td>\n      <td>24000.0</td>\n      <td>True</td>\n      <td>7686</td>\n      <td>7</td>\n    </tr>\n    <tr>\n      <th>37216555</th>\n      <td>78859776</td>\n      <td>28684765728</td>\n      <td>1678328767</td>\n      <td>393</td>\n      <td>0</td>\n      <td>70</td>\n      <td>0</td>\n      <td>1</td>\n      <td>3000.0</td>\n      <td>True</td>\n      <td>393</td>\n      <td>2</td>\n    </tr>\n    <tr>\n      <th>37216556</th>\n      <td>78859777</td>\n      <td>28684796971</td>\n      <td>1678328767</td>\n      <td>12234</td>\n      <td>0</td>\n      <td>71</td>\n      <td>3</td>\n      <td>0</td>\n      <td>20000.0</td>\n      <td>True</td>\n      <td>12234</td>\n      <td>2</td>\n    </tr>\n  </tbody>\n</table>\n<p>37216557 rows × 12 columns</p>\n</div>"
     },
     "metadata": {},
     "execution_count": 5
    }
   ],
   "source": [
    "train = train.dropna().reset_index(drop=True)\n",
    "train"
   ]
  },
  {
   "cell_type": "code",
   "execution_count": 6,
   "metadata": {},
   "outputs": [],
   "source": [
    "feat = ['timestamp', 'user_id', 'content_id', 'task_container_id',\n",
    "        'prior_question_elapsed_time', 'part']\n",
    "target = 'answered_correctly'\n",
    "\n",
    "X = train[feat]\n",
    "y = train[target]"
   ]
  },
  {
   "cell_type": "code",
   "execution_count": 7,
   "metadata": {},
   "outputs": [
    {
     "output_type": "display_data",
     "data": {
      "text/plain": "<Figure size 640x480 with 1 Axes>",
      "image/svg+xml": "<?xml version=\"1.0\" encoding=\"utf-8\" standalone=\"no\"?>\r\n<!DOCTYPE svg PUBLIC \"-//W3C//DTD SVG 1.1//EN\"\r\n  \"http://www.w3.org/Graphics/SVG/1.1/DTD/svg11.dtd\">\r\n<!-- Created with matplotlib (https://matplotlib.org/) -->\r\n<svg height=\"325.986375pt\" version=\"1.1\" viewBox=\"0 0 398.560625 325.986375\" width=\"398.560625pt\" xmlns=\"http://www.w3.org/2000/svg\" xmlns:xlink=\"http://www.w3.org/1999/xlink\">\r\n <metadata>\r\n  <rdf:RDF xmlns:cc=\"http://creativecommons.org/ns#\" xmlns:dc=\"http://purl.org/dc/elements/1.1/\" xmlns:rdf=\"http://www.w3.org/1999/02/22-rdf-syntax-ns#\">\r\n   <cc:Work>\r\n    <dc:type rdf:resource=\"http://purl.org/dc/dcmitype/StillImage\"/>\r\n    <dc:date>2020-11-20T14:28:54.542030</dc:date>\r\n    <dc:format>image/svg+xml</dc:format>\r\n    <dc:creator>\r\n     <cc:Agent>\r\n      <dc:title>Matplotlib v3.3.1, https://matplotlib.org/</dc:title>\r\n     </cc:Agent>\r\n    </dc:creator>\r\n   </cc:Work>\r\n  </rdf:RDF>\r\n </metadata>\r\n <defs>\r\n  <style type=\"text/css\">*{stroke-linecap:butt;stroke-linejoin:round;}</style>\r\n </defs>\r\n <g id=\"figure_1\">\r\n  <g id=\"patch_1\">\r\n   <path d=\"M 0 325.986375 \r\nL 398.560625 325.986375 \r\nL 398.560625 0 \r\nL 0 0 \r\nz\r\n\" style=\"fill:#ffffff;\"/>\r\n  </g>\r\n  <g id=\"axes_1\">\r\n   <g id=\"patch_2\">\r\n    <path d=\"M 34.240625 288.430125 \r\nL 391.360625 288.430125 \r\nL 391.360625 22.318125 \r\nL 34.240625 22.318125 \r\nz\r\n\" style=\"fill:#ffffff;\"/>\r\n   </g>\r\n   <g id=\"patch_3\">\r\n    <path clip-path=\"url(#p144f926790)\" d=\"M 34.240625 34.414125 \r\nL 119.269199 34.414125 \r\nL 119.269199 70.444763 \r\nL 34.240625 70.444763 \r\nz\r\n\" style=\"fill:#1f77b4;\"/>\r\n   </g>\r\n   <g id=\"patch_4\">\r\n    <path clip-path=\"url(#p144f926790)\" d=\"M 34.240625 137.358806 \r\nL 204.297772 137.358806 \r\nL 204.297772 173.389444 \r\nL 34.240625 173.389444 \r\nz\r\n\" style=\"fill:#1f77b4;\"/>\r\n   </g>\r\n   <g id=\"patch_5\">\r\n    <path clip-path=\"url(#p144f926790)\" d=\"M 34.240625 240.303487 \r\nL 289.326346 240.303487 \r\nL 289.326346 276.334125 \r\nL 34.240625 276.334125 \r\nz\r\n\" style=\"fill:#1f77b4;\"/>\r\n   </g>\r\n   <g id=\"patch_6\">\r\n    <path clip-path=\"url(#p144f926790)\" d=\"M 119.269199 34.414125 \r\nL 204.297763 34.414125 \r\nL 204.297763 70.444763 \r\nL 119.269199 70.444763 \r\nz\r\n\" style=\"fill:#ff7f0e;\"/>\r\n   </g>\r\n   <g id=\"patch_7\">\r\n    <path clip-path=\"url(#p144f926790)\" d=\"M 204.297772 137.358806 \r\nL 289.326337 137.358806 \r\nL 289.326337 173.389444 \r\nL 204.297772 173.389444 \r\nz\r\n\" style=\"fill:#ff7f0e;\"/>\r\n   </g>\r\n   <g id=\"patch_8\">\r\n    <path clip-path=\"url(#p144f926790)\" d=\"M 289.326346 240.303487 \r\nL 374.354911 240.303487 \r\nL 374.354911 276.334125 \r\nL 289.326346 276.334125 \r\nz\r\n\" style=\"fill:#ff7f0e;\"/>\r\n   </g>\r\n   <g id=\"matplotlib.axis_1\">\r\n    <g id=\"xtick_1\">\r\n     <g id=\"line2d_1\">\r\n      <defs>\r\n       <path d=\"M 0 0 \r\nL 0 3.5 \r\n\" id=\"m8cc461f977\" style=\"stroke:#000000;stroke-width:0.8;\"/>\r\n      </defs>\r\n      <g>\r\n       <use style=\"stroke:#000000;stroke-width:0.8;\" x=\"34.240625\" xlink:href=\"#m8cc461f977\" y=\"288.430125\"/>\r\n      </g>\r\n     </g>\r\n     <g id=\"text_1\">\r\n      <!-- 0.0 -->\r\n      <g transform=\"translate(26.289063 303.028562)scale(0.1 -0.1)\">\r\n       <defs>\r\n        <path d=\"M 31.78125 66.40625 \r\nQ 24.171875 66.40625 20.328125 58.90625 \r\nQ 16.5 51.421875 16.5 36.375 \r\nQ 16.5 21.390625 20.328125 13.890625 \r\nQ 24.171875 6.390625 31.78125 6.390625 \r\nQ 39.453125 6.390625 43.28125 13.890625 \r\nQ 47.125 21.390625 47.125 36.375 \r\nQ 47.125 51.421875 43.28125 58.90625 \r\nQ 39.453125 66.40625 31.78125 66.40625 \r\nz\r\nM 31.78125 74.21875 \r\nQ 44.046875 74.21875 50.515625 64.515625 \r\nQ 56.984375 54.828125 56.984375 36.375 \r\nQ 56.984375 17.96875 50.515625 8.265625 \r\nQ 44.046875 -1.421875 31.78125 -1.421875 \r\nQ 19.53125 -1.421875 13.0625 8.265625 \r\nQ 6.59375 17.96875 6.59375 36.375 \r\nQ 6.59375 54.828125 13.0625 64.515625 \r\nQ 19.53125 74.21875 31.78125 74.21875 \r\nz\r\n\" id=\"DejaVuSans-48\"/>\r\n        <path d=\"M 10.6875 12.40625 \r\nL 21 12.40625 \r\nL 21 0 \r\nL 10.6875 0 \r\nz\r\n\" id=\"DejaVuSans-46\"/>\r\n       </defs>\r\n       <use xlink:href=\"#DejaVuSans-48\"/>\r\n       <use x=\"63.623047\" xlink:href=\"#DejaVuSans-46\"/>\r\n       <use x=\"95.410156\" xlink:href=\"#DejaVuSans-48\"/>\r\n      </g>\r\n     </g>\r\n    </g>\r\n    <g id=\"xtick_2\">\r\n     <g id=\"line2d_2\">\r\n      <g>\r\n       <use style=\"stroke:#000000;stroke-width:0.8;\" x=\"79.934576\" xlink:href=\"#m8cc461f977\" y=\"288.430125\"/>\r\n      </g>\r\n     </g>\r\n     <g id=\"text_2\">\r\n      <!-- 0.5 -->\r\n      <g transform=\"translate(71.983013 303.028562)scale(0.1 -0.1)\">\r\n       <defs>\r\n        <path d=\"M 10.796875 72.90625 \r\nL 49.515625 72.90625 \r\nL 49.515625 64.59375 \r\nL 19.828125 64.59375 \r\nL 19.828125 46.734375 \r\nQ 21.96875 47.46875 24.109375 47.828125 \r\nQ 26.265625 48.1875 28.421875 48.1875 \r\nQ 40.625 48.1875 47.75 41.5 \r\nQ 54.890625 34.8125 54.890625 23.390625 \r\nQ 54.890625 11.625 47.5625 5.09375 \r\nQ 40.234375 -1.421875 26.90625 -1.421875 \r\nQ 22.3125 -1.421875 17.546875 -0.640625 \r\nQ 12.796875 0.140625 7.71875 1.703125 \r\nL 7.71875 11.625 \r\nQ 12.109375 9.234375 16.796875 8.0625 \r\nQ 21.484375 6.890625 26.703125 6.890625 \r\nQ 35.15625 6.890625 40.078125 11.328125 \r\nQ 45.015625 15.765625 45.015625 23.390625 \r\nQ 45.015625 31 40.078125 35.4375 \r\nQ 35.15625 39.890625 26.703125 39.890625 \r\nQ 22.75 39.890625 18.8125 39.015625 \r\nQ 14.890625 38.140625 10.796875 36.28125 \r\nz\r\n\" id=\"DejaVuSans-53\"/>\r\n       </defs>\r\n       <use xlink:href=\"#DejaVuSans-48\"/>\r\n       <use x=\"63.623047\" xlink:href=\"#DejaVuSans-46\"/>\r\n       <use x=\"95.410156\" xlink:href=\"#DejaVuSans-53\"/>\r\n      </g>\r\n     </g>\r\n    </g>\r\n    <g id=\"xtick_3\">\r\n     <g id=\"line2d_3\">\r\n      <g>\r\n       <use style=\"stroke:#000000;stroke-width:0.8;\" x=\"125.628526\" xlink:href=\"#m8cc461f977\" y=\"288.430125\"/>\r\n      </g>\r\n     </g>\r\n     <g id=\"text_3\">\r\n      <!-- 1.0 -->\r\n      <g transform=\"translate(117.676964 303.028562)scale(0.1 -0.1)\">\r\n       <defs>\r\n        <path d=\"M 12.40625 8.296875 \r\nL 28.515625 8.296875 \r\nL 28.515625 63.921875 \r\nL 10.984375 60.40625 \r\nL 10.984375 69.390625 \r\nL 28.421875 72.90625 \r\nL 38.28125 72.90625 \r\nL 38.28125 8.296875 \r\nL 54.390625 8.296875 \r\nL 54.390625 0 \r\nL 12.40625 0 \r\nz\r\n\" id=\"DejaVuSans-49\"/>\r\n       </defs>\r\n       <use xlink:href=\"#DejaVuSans-49\"/>\r\n       <use x=\"63.623047\" xlink:href=\"#DejaVuSans-46\"/>\r\n       <use x=\"95.410156\" xlink:href=\"#DejaVuSans-48\"/>\r\n      </g>\r\n     </g>\r\n    </g>\r\n    <g id=\"xtick_4\">\r\n     <g id=\"line2d_4\">\r\n      <g>\r\n       <use style=\"stroke:#000000;stroke-width:0.8;\" x=\"171.322477\" xlink:href=\"#m8cc461f977\" y=\"288.430125\"/>\r\n      </g>\r\n     </g>\r\n     <g id=\"text_4\">\r\n      <!-- 1.5 -->\r\n      <g transform=\"translate(163.370915 303.028562)scale(0.1 -0.1)\">\r\n       <use xlink:href=\"#DejaVuSans-49\"/>\r\n       <use x=\"63.623047\" xlink:href=\"#DejaVuSans-46\"/>\r\n       <use x=\"95.410156\" xlink:href=\"#DejaVuSans-53\"/>\r\n      </g>\r\n     </g>\r\n    </g>\r\n    <g id=\"xtick_5\">\r\n     <g id=\"line2d_5\">\r\n      <g>\r\n       <use style=\"stroke:#000000;stroke-width:0.8;\" x=\"217.016428\" xlink:href=\"#m8cc461f977\" y=\"288.430125\"/>\r\n      </g>\r\n     </g>\r\n     <g id=\"text_5\">\r\n      <!-- 2.0 -->\r\n      <g transform=\"translate(209.064865 303.028562)scale(0.1 -0.1)\">\r\n       <defs>\r\n        <path d=\"M 19.1875 8.296875 \r\nL 53.609375 8.296875 \r\nL 53.609375 0 \r\nL 7.328125 0 \r\nL 7.328125 8.296875 \r\nQ 12.9375 14.109375 22.625 23.890625 \r\nQ 32.328125 33.6875 34.8125 36.53125 \r\nQ 39.546875 41.84375 41.421875 45.53125 \r\nQ 43.3125 49.21875 43.3125 52.78125 \r\nQ 43.3125 58.59375 39.234375 62.25 \r\nQ 35.15625 65.921875 28.609375 65.921875 \r\nQ 23.96875 65.921875 18.8125 64.3125 \r\nQ 13.671875 62.703125 7.8125 59.421875 \r\nL 7.8125 69.390625 \r\nQ 13.765625 71.78125 18.9375 73 \r\nQ 24.125 74.21875 28.421875 74.21875 \r\nQ 39.75 74.21875 46.484375 68.546875 \r\nQ 53.21875 62.890625 53.21875 53.421875 \r\nQ 53.21875 48.921875 51.53125 44.890625 \r\nQ 49.859375 40.875 45.40625 35.40625 \r\nQ 44.1875 33.984375 37.640625 27.21875 \r\nQ 31.109375 20.453125 19.1875 8.296875 \r\nz\r\n\" id=\"DejaVuSans-50\"/>\r\n       </defs>\r\n       <use xlink:href=\"#DejaVuSans-50\"/>\r\n       <use x=\"63.623047\" xlink:href=\"#DejaVuSans-46\"/>\r\n       <use x=\"95.410156\" xlink:href=\"#DejaVuSans-48\"/>\r\n      </g>\r\n     </g>\r\n    </g>\r\n    <g id=\"xtick_6\">\r\n     <g id=\"line2d_6\">\r\n      <g>\r\n       <use style=\"stroke:#000000;stroke-width:0.8;\" x=\"262.710378\" xlink:href=\"#m8cc461f977\" y=\"288.430125\"/>\r\n      </g>\r\n     </g>\r\n     <g id=\"text_6\">\r\n      <!-- 2.5 -->\r\n      <g transform=\"translate(254.758816 303.028562)scale(0.1 -0.1)\">\r\n       <use xlink:href=\"#DejaVuSans-50\"/>\r\n       <use x=\"63.623047\" xlink:href=\"#DejaVuSans-46\"/>\r\n       <use x=\"95.410156\" xlink:href=\"#DejaVuSans-53\"/>\r\n      </g>\r\n     </g>\r\n    </g>\r\n    <g id=\"xtick_7\">\r\n     <g id=\"line2d_7\">\r\n      <g>\r\n       <use style=\"stroke:#000000;stroke-width:0.8;\" x=\"308.404329\" xlink:href=\"#m8cc461f977\" y=\"288.430125\"/>\r\n      </g>\r\n     </g>\r\n     <g id=\"text_7\">\r\n      <!-- 3.0 -->\r\n      <g transform=\"translate(300.452767 303.028562)scale(0.1 -0.1)\">\r\n       <defs>\r\n        <path d=\"M 40.578125 39.3125 \r\nQ 47.65625 37.796875 51.625 33 \r\nQ 55.609375 28.21875 55.609375 21.1875 \r\nQ 55.609375 10.40625 48.1875 4.484375 \r\nQ 40.765625 -1.421875 27.09375 -1.421875 \r\nQ 22.515625 -1.421875 17.65625 -0.515625 \r\nQ 12.796875 0.390625 7.625 2.203125 \r\nL 7.625 11.71875 \r\nQ 11.71875 9.328125 16.59375 8.109375 \r\nQ 21.484375 6.890625 26.8125 6.890625 \r\nQ 36.078125 6.890625 40.9375 10.546875 \r\nQ 45.796875 14.203125 45.796875 21.1875 \r\nQ 45.796875 27.640625 41.28125 31.265625 \r\nQ 36.765625 34.90625 28.71875 34.90625 \r\nL 20.21875 34.90625 \r\nL 20.21875 43.015625 \r\nL 29.109375 43.015625 \r\nQ 36.375 43.015625 40.234375 45.921875 \r\nQ 44.09375 48.828125 44.09375 54.296875 \r\nQ 44.09375 59.90625 40.109375 62.90625 \r\nQ 36.140625 65.921875 28.71875 65.921875 \r\nQ 24.65625 65.921875 20.015625 65.03125 \r\nQ 15.375 64.15625 9.8125 62.3125 \r\nL 9.8125 71.09375 \r\nQ 15.4375 72.65625 20.34375 73.4375 \r\nQ 25.25 74.21875 29.59375 74.21875 \r\nQ 40.828125 74.21875 47.359375 69.109375 \r\nQ 53.90625 64.015625 53.90625 55.328125 \r\nQ 53.90625 49.265625 50.4375 45.09375 \r\nQ 46.96875 40.921875 40.578125 39.3125 \r\nz\r\n\" id=\"DejaVuSans-51\"/>\r\n       </defs>\r\n       <use xlink:href=\"#DejaVuSans-51\"/>\r\n       <use x=\"63.623047\" xlink:href=\"#DejaVuSans-46\"/>\r\n       <use x=\"95.410156\" xlink:href=\"#DejaVuSans-48\"/>\r\n      </g>\r\n     </g>\r\n    </g>\r\n    <g id=\"xtick_8\">\r\n     <g id=\"line2d_8\">\r\n      <g>\r\n       <use style=\"stroke:#000000;stroke-width:0.8;\" x=\"354.09828\" xlink:href=\"#m8cc461f977\" y=\"288.430125\"/>\r\n      </g>\r\n     </g>\r\n     <g id=\"text_8\">\r\n      <!-- 3.5 -->\r\n      <g transform=\"translate(346.146717 303.028562)scale(0.1 -0.1)\">\r\n       <use xlink:href=\"#DejaVuSans-51\"/>\r\n       <use x=\"63.623047\" xlink:href=\"#DejaVuSans-46\"/>\r\n       <use x=\"95.410156\" xlink:href=\"#DejaVuSans-53\"/>\r\n      </g>\r\n     </g>\r\n    </g>\r\n    <g id=\"text_9\">\r\n     <!-- Index -->\r\n     <g transform=\"translate(199.034219 316.706687)scale(0.1 -0.1)\">\r\n      <defs>\r\n       <path d=\"M 9.8125 72.90625 \r\nL 19.671875 72.90625 \r\nL 19.671875 0 \r\nL 9.8125 0 \r\nz\r\n\" id=\"DejaVuSans-73\"/>\r\n       <path d=\"M 54.890625 33.015625 \r\nL 54.890625 0 \r\nL 45.90625 0 \r\nL 45.90625 32.71875 \r\nQ 45.90625 40.484375 42.875 44.328125 \r\nQ 39.84375 48.1875 33.796875 48.1875 \r\nQ 26.515625 48.1875 22.3125 43.546875 \r\nQ 18.109375 38.921875 18.109375 30.90625 \r\nL 18.109375 0 \r\nL 9.078125 0 \r\nL 9.078125 54.6875 \r\nL 18.109375 54.6875 \r\nL 18.109375 46.1875 \r\nQ 21.34375 51.125 25.703125 53.5625 \r\nQ 30.078125 56 35.796875 56 \r\nQ 45.21875 56 50.046875 50.171875 \r\nQ 54.890625 44.34375 54.890625 33.015625 \r\nz\r\n\" id=\"DejaVuSans-110\"/>\r\n       <path d=\"M 45.40625 46.390625 \r\nL 45.40625 75.984375 \r\nL 54.390625 75.984375 \r\nL 54.390625 0 \r\nL 45.40625 0 \r\nL 45.40625 8.203125 \r\nQ 42.578125 3.328125 38.25 0.953125 \r\nQ 33.9375 -1.421875 27.875 -1.421875 \r\nQ 17.96875 -1.421875 11.734375 6.484375 \r\nQ 5.515625 14.40625 5.515625 27.296875 \r\nQ 5.515625 40.1875 11.734375 48.09375 \r\nQ 17.96875 56 27.875 56 \r\nQ 33.9375 56 38.25 53.625 \r\nQ 42.578125 51.265625 45.40625 46.390625 \r\nz\r\nM 14.796875 27.296875 \r\nQ 14.796875 17.390625 18.875 11.75 \r\nQ 22.953125 6.109375 30.078125 6.109375 \r\nQ 37.203125 6.109375 41.296875 11.75 \r\nQ 45.40625 17.390625 45.40625 27.296875 \r\nQ 45.40625 37.203125 41.296875 42.84375 \r\nQ 37.203125 48.484375 30.078125 48.484375 \r\nQ 22.953125 48.484375 18.875 42.84375 \r\nQ 14.796875 37.203125 14.796875 27.296875 \r\nz\r\n\" id=\"DejaVuSans-100\"/>\r\n       <path d=\"M 56.203125 29.59375 \r\nL 56.203125 25.203125 \r\nL 14.890625 25.203125 \r\nQ 15.484375 15.921875 20.484375 11.0625 \r\nQ 25.484375 6.203125 34.421875 6.203125 \r\nQ 39.59375 6.203125 44.453125 7.46875 \r\nQ 49.3125 8.734375 54.109375 11.28125 \r\nL 54.109375 2.78125 \r\nQ 49.265625 0.734375 44.1875 -0.34375 \r\nQ 39.109375 -1.421875 33.890625 -1.421875 \r\nQ 20.796875 -1.421875 13.15625 6.1875 \r\nQ 5.515625 13.8125 5.515625 26.8125 \r\nQ 5.515625 40.234375 12.765625 48.109375 \r\nQ 20.015625 56 32.328125 56 \r\nQ 43.359375 56 49.78125 48.890625 \r\nQ 56.203125 41.796875 56.203125 29.59375 \r\nz\r\nM 47.21875 32.234375 \r\nQ 47.125 39.59375 43.09375 43.984375 \r\nQ 39.0625 48.390625 32.421875 48.390625 \r\nQ 24.90625 48.390625 20.390625 44.140625 \r\nQ 15.875 39.890625 15.1875 32.171875 \r\nz\r\n\" id=\"DejaVuSans-101\"/>\r\n       <path d=\"M 54.890625 54.6875 \r\nL 35.109375 28.078125 \r\nL 55.90625 0 \r\nL 45.3125 0 \r\nL 29.390625 21.484375 \r\nL 13.484375 0 \r\nL 2.875 0 \r\nL 24.125 28.609375 \r\nL 4.6875 54.6875 \r\nL 15.28125 54.6875 \r\nL 29.78125 35.203125 \r\nL 44.28125 54.6875 \r\nz\r\n\" id=\"DejaVuSans-120\"/>\r\n      </defs>\r\n      <use xlink:href=\"#DejaVuSans-73\"/>\r\n      <use x=\"29.492188\" xlink:href=\"#DejaVuSans-110\"/>\r\n      <use x=\"92.871094\" xlink:href=\"#DejaVuSans-100\"/>\r\n      <use x=\"156.347656\" xlink:href=\"#DejaVuSans-101\"/>\r\n      <use x=\"216.121094\" xlink:href=\"#DejaVuSans-120\"/>\r\n     </g>\r\n    </g>\r\n    <g id=\"text_10\">\r\n     <!-- 1e7 -->\r\n     <g transform=\"translate(372.4825 315.706687)scale(0.1 -0.1)\">\r\n      <defs>\r\n       <path d=\"M 8.203125 72.90625 \r\nL 55.078125 72.90625 \r\nL 55.078125 68.703125 \r\nL 28.609375 0 \r\nL 18.3125 0 \r\nL 43.21875 64.59375 \r\nL 8.203125 64.59375 \r\nz\r\n\" id=\"DejaVuSans-55\"/>\r\n      </defs>\r\n      <use xlink:href=\"#DejaVuSans-49\"/>\r\n      <use x=\"63.623047\" xlink:href=\"#DejaVuSans-101\"/>\r\n      <use x=\"125.146484\" xlink:href=\"#DejaVuSans-55\"/>\r\n     </g>\r\n    </g>\r\n   </g>\r\n   <g id=\"matplotlib.axis_2\">\r\n    <g id=\"ytick_1\">\r\n     <g id=\"line2d_9\">\r\n      <defs>\r\n       <path d=\"M 0 0 \r\nL -3.5 0 \r\n\" id=\"m42d8be56bb\" style=\"stroke:#000000;stroke-width:0.8;\"/>\r\n      </defs>\r\n      <g>\r\n       <use style=\"stroke:#000000;stroke-width:0.8;\" x=\"34.240625\" xlink:href=\"#m42d8be56bb\" y=\"52.429444\"/>\r\n      </g>\r\n     </g>\r\n     <g id=\"text_11\">\r\n      <!-- 1 -->\r\n      <g transform=\"translate(20.878125 56.228663)scale(0.1 -0.1)\">\r\n       <use xlink:href=\"#DejaVuSans-49\"/>\r\n      </g>\r\n     </g>\r\n    </g>\r\n    <g id=\"ytick_2\">\r\n     <g id=\"line2d_10\">\r\n      <g>\r\n       <use style=\"stroke:#000000;stroke-width:0.8;\" x=\"34.240625\" xlink:href=\"#m42d8be56bb\" y=\"155.374125\"/>\r\n      </g>\r\n     </g>\r\n     <g id=\"text_12\">\r\n      <!-- 2 -->\r\n      <g transform=\"translate(20.878125 159.173344)scale(0.1 -0.1)\">\r\n       <use xlink:href=\"#DejaVuSans-50\"/>\r\n      </g>\r\n     </g>\r\n    </g>\r\n    <g id=\"ytick_3\">\r\n     <g id=\"line2d_11\">\r\n      <g>\r\n       <use style=\"stroke:#000000;stroke-width:0.8;\" x=\"34.240625\" xlink:href=\"#m42d8be56bb\" y=\"258.318806\"/>\r\n      </g>\r\n     </g>\r\n     <g id=\"text_13\">\r\n      <!-- 3 -->\r\n      <g transform=\"translate(20.878125 262.118025)scale(0.1 -0.1)\">\r\n       <use xlink:href=\"#DejaVuSans-51\"/>\r\n      </g>\r\n     </g>\r\n    </g>\r\n    <g id=\"text_14\">\r\n     <!-- Interaction CV -->\r\n     <g transform=\"translate(14.798438 191.001469)rotate(-90)scale(0.1 -0.1)\">\r\n      <defs>\r\n       <path d=\"M 18.3125 70.21875 \r\nL 18.3125 54.6875 \r\nL 36.8125 54.6875 \r\nL 36.8125 47.703125 \r\nL 18.3125 47.703125 \r\nL 18.3125 18.015625 \r\nQ 18.3125 11.328125 20.140625 9.421875 \r\nQ 21.96875 7.515625 27.59375 7.515625 \r\nL 36.8125 7.515625 \r\nL 36.8125 0 \r\nL 27.59375 0 \r\nQ 17.1875 0 13.234375 3.875 \r\nQ 9.28125 7.765625 9.28125 18.015625 \r\nL 9.28125 47.703125 \r\nL 2.6875 47.703125 \r\nL 2.6875 54.6875 \r\nL 9.28125 54.6875 \r\nL 9.28125 70.21875 \r\nz\r\n\" id=\"DejaVuSans-116\"/>\r\n       <path d=\"M 41.109375 46.296875 \r\nQ 39.59375 47.171875 37.8125 47.578125 \r\nQ 36.03125 48 33.890625 48 \r\nQ 26.265625 48 22.1875 43.046875 \r\nQ 18.109375 38.09375 18.109375 28.8125 \r\nL 18.109375 0 \r\nL 9.078125 0 \r\nL 9.078125 54.6875 \r\nL 18.109375 54.6875 \r\nL 18.109375 46.1875 \r\nQ 20.953125 51.171875 25.484375 53.578125 \r\nQ 30.03125 56 36.53125 56 \r\nQ 37.453125 56 38.578125 55.875 \r\nQ 39.703125 55.765625 41.0625 55.515625 \r\nz\r\n\" id=\"DejaVuSans-114\"/>\r\n       <path d=\"M 34.28125 27.484375 \r\nQ 23.390625 27.484375 19.1875 25 \r\nQ 14.984375 22.515625 14.984375 16.5 \r\nQ 14.984375 11.71875 18.140625 8.90625 \r\nQ 21.296875 6.109375 26.703125 6.109375 \r\nQ 34.1875 6.109375 38.703125 11.40625 \r\nQ 43.21875 16.703125 43.21875 25.484375 \r\nL 43.21875 27.484375 \r\nz\r\nM 52.203125 31.203125 \r\nL 52.203125 0 \r\nL 43.21875 0 \r\nL 43.21875 8.296875 \r\nQ 40.140625 3.328125 35.546875 0.953125 \r\nQ 30.953125 -1.421875 24.3125 -1.421875 \r\nQ 15.921875 -1.421875 10.953125 3.296875 \r\nQ 6 8.015625 6 15.921875 \r\nQ 6 25.140625 12.171875 29.828125 \r\nQ 18.359375 34.515625 30.609375 34.515625 \r\nL 43.21875 34.515625 \r\nL 43.21875 35.40625 \r\nQ 43.21875 41.609375 39.140625 45 \r\nQ 35.0625 48.390625 27.6875 48.390625 \r\nQ 23 48.390625 18.546875 47.265625 \r\nQ 14.109375 46.140625 10.015625 43.890625 \r\nL 10.015625 52.203125 \r\nQ 14.9375 54.109375 19.578125 55.046875 \r\nQ 24.21875 56 28.609375 56 \r\nQ 40.484375 56 46.34375 49.84375 \r\nQ 52.203125 43.703125 52.203125 31.203125 \r\nz\r\n\" id=\"DejaVuSans-97\"/>\r\n       <path d=\"M 48.78125 52.59375 \r\nL 48.78125 44.1875 \r\nQ 44.96875 46.296875 41.140625 47.34375 \r\nQ 37.3125 48.390625 33.40625 48.390625 \r\nQ 24.65625 48.390625 19.8125 42.84375 \r\nQ 14.984375 37.3125 14.984375 27.296875 \r\nQ 14.984375 17.28125 19.8125 11.734375 \r\nQ 24.65625 6.203125 33.40625 6.203125 \r\nQ 37.3125 6.203125 41.140625 7.25 \r\nQ 44.96875 8.296875 48.78125 10.40625 \r\nL 48.78125 2.09375 \r\nQ 45.015625 0.34375 40.984375 -0.53125 \r\nQ 36.96875 -1.421875 32.421875 -1.421875 \r\nQ 20.0625 -1.421875 12.78125 6.34375 \r\nQ 5.515625 14.109375 5.515625 27.296875 \r\nQ 5.515625 40.671875 12.859375 48.328125 \r\nQ 20.21875 56 33.015625 56 \r\nQ 37.15625 56 41.109375 55.140625 \r\nQ 45.0625 54.296875 48.78125 52.59375 \r\nz\r\n\" id=\"DejaVuSans-99\"/>\r\n       <path d=\"M 9.421875 54.6875 \r\nL 18.40625 54.6875 \r\nL 18.40625 0 \r\nL 9.421875 0 \r\nz\r\nM 9.421875 75.984375 \r\nL 18.40625 75.984375 \r\nL 18.40625 64.59375 \r\nL 9.421875 64.59375 \r\nz\r\n\" id=\"DejaVuSans-105\"/>\r\n       <path d=\"M 30.609375 48.390625 \r\nQ 23.390625 48.390625 19.1875 42.75 \r\nQ 14.984375 37.109375 14.984375 27.296875 \r\nQ 14.984375 17.484375 19.15625 11.84375 \r\nQ 23.34375 6.203125 30.609375 6.203125 \r\nQ 37.796875 6.203125 41.984375 11.859375 \r\nQ 46.1875 17.53125 46.1875 27.296875 \r\nQ 46.1875 37.015625 41.984375 42.703125 \r\nQ 37.796875 48.390625 30.609375 48.390625 \r\nz\r\nM 30.609375 56 \r\nQ 42.328125 56 49.015625 48.375 \r\nQ 55.71875 40.765625 55.71875 27.296875 \r\nQ 55.71875 13.875 49.015625 6.21875 \r\nQ 42.328125 -1.421875 30.609375 -1.421875 \r\nQ 18.84375 -1.421875 12.171875 6.21875 \r\nQ 5.515625 13.875 5.515625 27.296875 \r\nQ 5.515625 40.765625 12.171875 48.375 \r\nQ 18.84375 56 30.609375 56 \r\nz\r\n\" id=\"DejaVuSans-111\"/>\r\n       <path id=\"DejaVuSans-32\"/>\r\n       <path d=\"M 64.40625 67.28125 \r\nL 64.40625 56.890625 \r\nQ 59.421875 61.53125 53.78125 63.8125 \r\nQ 48.140625 66.109375 41.796875 66.109375 \r\nQ 29.296875 66.109375 22.65625 58.46875 \r\nQ 16.015625 50.828125 16.015625 36.375 \r\nQ 16.015625 21.96875 22.65625 14.328125 \r\nQ 29.296875 6.6875 41.796875 6.6875 \r\nQ 48.140625 6.6875 53.78125 8.984375 \r\nQ 59.421875 11.28125 64.40625 15.921875 \r\nL 64.40625 5.609375 \r\nQ 59.234375 2.09375 53.4375 0.328125 \r\nQ 47.65625 -1.421875 41.21875 -1.421875 \r\nQ 24.65625 -1.421875 15.125 8.703125 \r\nQ 5.609375 18.84375 5.609375 36.375 \r\nQ 5.609375 53.953125 15.125 64.078125 \r\nQ 24.65625 74.21875 41.21875 74.21875 \r\nQ 47.75 74.21875 53.53125 72.484375 \r\nQ 59.328125 70.75 64.40625 67.28125 \r\nz\r\n\" id=\"DejaVuSans-67\"/>\r\n       <path d=\"M 28.609375 0 \r\nL 0.78125 72.90625 \r\nL 11.078125 72.90625 \r\nL 34.1875 11.53125 \r\nL 57.328125 72.90625 \r\nL 67.578125 72.90625 \r\nL 39.796875 0 \r\nz\r\n\" id=\"DejaVuSans-86\"/>\r\n      </defs>\r\n      <use xlink:href=\"#DejaVuSans-73\"/>\r\n      <use x=\"29.492188\" xlink:href=\"#DejaVuSans-110\"/>\r\n      <use x=\"92.871094\" xlink:href=\"#DejaVuSans-116\"/>\r\n      <use x=\"132.080078\" xlink:href=\"#DejaVuSans-101\"/>\r\n      <use x=\"193.603516\" xlink:href=\"#DejaVuSans-114\"/>\r\n      <use x=\"234.716797\" xlink:href=\"#DejaVuSans-97\"/>\r\n      <use x=\"295.996094\" xlink:href=\"#DejaVuSans-99\"/>\r\n      <use x=\"350.976562\" xlink:href=\"#DejaVuSans-116\"/>\r\n      <use x=\"390.185547\" xlink:href=\"#DejaVuSans-105\"/>\r\n      <use x=\"417.96875\" xlink:href=\"#DejaVuSans-111\"/>\r\n      <use x=\"479.150391\" xlink:href=\"#DejaVuSans-110\"/>\r\n      <use x=\"542.529297\" xlink:href=\"#DejaVuSans-32\"/>\r\n      <use x=\"574.316406\" xlink:href=\"#DejaVuSans-67\"/>\r\n      <use x=\"644.140625\" xlink:href=\"#DejaVuSans-86\"/>\r\n     </g>\r\n    </g>\r\n   </g>\r\n   <g id=\"patch_9\">\r\n    <path d=\"M 34.240625 288.430125 \r\nL 34.240625 22.318125 \r\n\" style=\"fill:none;stroke:#000000;stroke-linecap:square;stroke-linejoin:miter;stroke-width:0.8;\"/>\r\n   </g>\r\n   <g id=\"patch_10\">\r\n    <path d=\"M 391.360625 288.430125 \r\nL 391.360625 22.318125 \r\n\" style=\"fill:none;stroke:#000000;stroke-linecap:square;stroke-linejoin:miter;stroke-width:0.8;\"/>\r\n   </g>\r\n   <g id=\"patch_11\">\r\n    <path d=\"M 34.240625 288.430125 \r\nL 391.360625 288.430125 \r\n\" style=\"fill:none;stroke:#000000;stroke-linecap:square;stroke-linejoin:miter;stroke-width:0.8;\"/>\r\n   </g>\r\n   <g id=\"patch_12\">\r\n    <path d=\"M 34.240625 22.318125 \r\nL 391.360625 22.318125 \r\n\" style=\"fill:none;stroke:#000000;stroke-linecap:square;stroke-linejoin:miter;stroke-width:0.8;\"/>\r\n   </g>\r\n   <g id=\"text_15\">\r\n    <!-- Echantillonnage cross validation -->\r\n    <g transform=\"translate(115.714063 16.318125)scale(0.12 -0.12)\">\r\n     <defs>\r\n      <path d=\"M 9.8125 72.90625 \r\nL 55.90625 72.90625 \r\nL 55.90625 64.59375 \r\nL 19.671875 64.59375 \r\nL 19.671875 43.015625 \r\nL 54.390625 43.015625 \r\nL 54.390625 34.71875 \r\nL 19.671875 34.71875 \r\nL 19.671875 8.296875 \r\nL 56.78125 8.296875 \r\nL 56.78125 0 \r\nL 9.8125 0 \r\nz\r\n\" id=\"DejaVuSans-69\"/>\r\n      <path d=\"M 54.890625 33.015625 \r\nL 54.890625 0 \r\nL 45.90625 0 \r\nL 45.90625 32.71875 \r\nQ 45.90625 40.484375 42.875 44.328125 \r\nQ 39.84375 48.1875 33.796875 48.1875 \r\nQ 26.515625 48.1875 22.3125 43.546875 \r\nQ 18.109375 38.921875 18.109375 30.90625 \r\nL 18.109375 0 \r\nL 9.078125 0 \r\nL 9.078125 75.984375 \r\nL 18.109375 75.984375 \r\nL 18.109375 46.1875 \r\nQ 21.34375 51.125 25.703125 53.5625 \r\nQ 30.078125 56 35.796875 56 \r\nQ 45.21875 56 50.046875 50.171875 \r\nQ 54.890625 44.34375 54.890625 33.015625 \r\nz\r\n\" id=\"DejaVuSans-104\"/>\r\n      <path d=\"M 9.421875 75.984375 \r\nL 18.40625 75.984375 \r\nL 18.40625 0 \r\nL 9.421875 0 \r\nz\r\n\" id=\"DejaVuSans-108\"/>\r\n      <path d=\"M 45.40625 27.984375 \r\nQ 45.40625 37.75 41.375 43.109375 \r\nQ 37.359375 48.484375 30.078125 48.484375 \r\nQ 22.859375 48.484375 18.828125 43.109375 \r\nQ 14.796875 37.75 14.796875 27.984375 \r\nQ 14.796875 18.265625 18.828125 12.890625 \r\nQ 22.859375 7.515625 30.078125 7.515625 \r\nQ 37.359375 7.515625 41.375 12.890625 \r\nQ 45.40625 18.265625 45.40625 27.984375 \r\nz\r\nM 54.390625 6.78125 \r\nQ 54.390625 -7.171875 48.1875 -13.984375 \r\nQ 42 -20.796875 29.203125 -20.796875 \r\nQ 24.46875 -20.796875 20.265625 -20.09375 \r\nQ 16.0625 -19.390625 12.109375 -17.921875 \r\nL 12.109375 -9.1875 \r\nQ 16.0625 -11.328125 19.921875 -12.34375 \r\nQ 23.78125 -13.375 27.78125 -13.375 \r\nQ 36.625 -13.375 41.015625 -8.765625 \r\nQ 45.40625 -4.15625 45.40625 5.171875 \r\nL 45.40625 9.625 \r\nQ 42.625 4.78125 38.28125 2.390625 \r\nQ 33.9375 0 27.875 0 \r\nQ 17.828125 0 11.671875 7.65625 \r\nQ 5.515625 15.328125 5.515625 27.984375 \r\nQ 5.515625 40.671875 11.671875 48.328125 \r\nQ 17.828125 56 27.875 56 \r\nQ 33.9375 56 38.28125 53.609375 \r\nQ 42.625 51.21875 45.40625 46.390625 \r\nL 45.40625 54.6875 \r\nL 54.390625 54.6875 \r\nz\r\n\" id=\"DejaVuSans-103\"/>\r\n      <path d=\"M 44.28125 53.078125 \r\nL 44.28125 44.578125 \r\nQ 40.484375 46.53125 36.375 47.5 \r\nQ 32.28125 48.484375 27.875 48.484375 \r\nQ 21.1875 48.484375 17.84375 46.4375 \r\nQ 14.5 44.390625 14.5 40.28125 \r\nQ 14.5 37.15625 16.890625 35.375 \r\nQ 19.28125 33.59375 26.515625 31.984375 \r\nL 29.59375 31.296875 \r\nQ 39.15625 29.25 43.1875 25.515625 \r\nQ 47.21875 21.78125 47.21875 15.09375 \r\nQ 47.21875 7.46875 41.1875 3.015625 \r\nQ 35.15625 -1.421875 24.609375 -1.421875 \r\nQ 20.21875 -1.421875 15.453125 -0.5625 \r\nQ 10.6875 0.296875 5.421875 2 \r\nL 5.421875 11.28125 \r\nQ 10.40625 8.6875 15.234375 7.390625 \r\nQ 20.0625 6.109375 24.8125 6.109375 \r\nQ 31.15625 6.109375 34.5625 8.28125 \r\nQ 37.984375 10.453125 37.984375 14.40625 \r\nQ 37.984375 18.0625 35.515625 20.015625 \r\nQ 33.0625 21.96875 24.703125 23.78125 \r\nL 21.578125 24.515625 \r\nQ 13.234375 26.265625 9.515625 29.90625 \r\nQ 5.8125 33.546875 5.8125 39.890625 \r\nQ 5.8125 47.609375 11.28125 51.796875 \r\nQ 16.75 56 26.8125 56 \r\nQ 31.78125 56 36.171875 55.265625 \r\nQ 40.578125 54.546875 44.28125 53.078125 \r\nz\r\n\" id=\"DejaVuSans-115\"/>\r\n      <path d=\"M 2.984375 54.6875 \r\nL 12.5 54.6875 \r\nL 29.59375 8.796875 \r\nL 46.6875 54.6875 \r\nL 56.203125 54.6875 \r\nL 35.6875 0 \r\nL 23.484375 0 \r\nz\r\n\" id=\"DejaVuSans-118\"/>\r\n     </defs>\r\n     <use xlink:href=\"#DejaVuSans-69\"/>\r\n     <use x=\"63.183594\" xlink:href=\"#DejaVuSans-99\"/>\r\n     <use x=\"118.164062\" xlink:href=\"#DejaVuSans-104\"/>\r\n     <use x=\"181.542969\" xlink:href=\"#DejaVuSans-97\"/>\r\n     <use x=\"242.822266\" xlink:href=\"#DejaVuSans-110\"/>\r\n     <use x=\"306.201172\" xlink:href=\"#DejaVuSans-116\"/>\r\n     <use x=\"345.410156\" xlink:href=\"#DejaVuSans-105\"/>\r\n     <use x=\"373.193359\" xlink:href=\"#DejaVuSans-108\"/>\r\n     <use x=\"400.976562\" xlink:href=\"#DejaVuSans-108\"/>\r\n     <use x=\"428.759766\" xlink:href=\"#DejaVuSans-111\"/>\r\n     <use x=\"489.941406\" xlink:href=\"#DejaVuSans-110\"/>\r\n     <use x=\"553.320312\" xlink:href=\"#DejaVuSans-110\"/>\r\n     <use x=\"616.699219\" xlink:href=\"#DejaVuSans-97\"/>\r\n     <use x=\"677.978516\" xlink:href=\"#DejaVuSans-103\"/>\r\n     <use x=\"741.455078\" xlink:href=\"#DejaVuSans-101\"/>\r\n     <use x=\"802.978516\" xlink:href=\"#DejaVuSans-32\"/>\r\n     <use x=\"834.765625\" xlink:href=\"#DejaVuSans-99\"/>\r\n     <use x=\"889.746094\" xlink:href=\"#DejaVuSans-114\"/>\r\n     <use x=\"928.609375\" xlink:href=\"#DejaVuSans-111\"/>\r\n     <use x=\"989.791016\" xlink:href=\"#DejaVuSans-115\"/>\r\n     <use x=\"1041.890625\" xlink:href=\"#DejaVuSans-115\"/>\r\n     <use x=\"1093.990234\" xlink:href=\"#DejaVuSans-32\"/>\r\n     <use x=\"1125.777344\" xlink:href=\"#DejaVuSans-118\"/>\r\n     <use x=\"1184.957031\" xlink:href=\"#DejaVuSans-97\"/>\r\n     <use x=\"1246.236328\" xlink:href=\"#DejaVuSans-108\"/>\r\n     <use x=\"1274.019531\" xlink:href=\"#DejaVuSans-105\"/>\r\n     <use x=\"1301.802734\" xlink:href=\"#DejaVuSans-100\"/>\r\n     <use x=\"1365.279297\" xlink:href=\"#DejaVuSans-97\"/>\r\n     <use x=\"1426.558594\" xlink:href=\"#DejaVuSans-116\"/>\r\n     <use x=\"1465.767578\" xlink:href=\"#DejaVuSans-105\"/>\r\n     <use x=\"1493.550781\" xlink:href=\"#DejaVuSans-111\"/>\r\n     <use x=\"1554.732422\" xlink:href=\"#DejaVuSans-110\"/>\r\n    </g>\r\n   </g>\r\n   <g id=\"legend_1\">\r\n    <g id=\"patch_13\">\r\n     <path d=\"M 329.085625 59.674375 \r\nL 384.360625 59.674375 \r\nQ 386.360625 59.674375 386.360625 57.674375 \r\nL 386.360625 29.318125 \r\nQ 386.360625 27.318125 384.360625 27.318125 \r\nL 329.085625 27.318125 \r\nQ 327.085625 27.318125 327.085625 29.318125 \r\nL 327.085625 57.674375 \r\nQ 327.085625 59.674375 329.085625 59.674375 \r\nz\r\n\" style=\"fill:#ffffff;opacity:0.8;stroke:#cccccc;stroke-linejoin:miter;\"/>\r\n    </g>\r\n    <g id=\"patch_14\">\r\n     <path d=\"M 331.085625 38.916562 \r\nL 351.085625 38.916562 \r\nL 351.085625 31.916562 \r\nL 331.085625 31.916562 \r\nz\r\n\" style=\"fill:#1f77b4;\"/>\r\n    </g>\r\n    <g id=\"text_16\">\r\n     <!-- train -->\r\n     <g transform=\"translate(359.085625 38.916562)scale(0.1 -0.1)\">\r\n      <use xlink:href=\"#DejaVuSans-116\"/>\r\n      <use x=\"39.208984\" xlink:href=\"#DejaVuSans-114\"/>\r\n      <use x=\"80.322266\" xlink:href=\"#DejaVuSans-97\"/>\r\n      <use x=\"141.601562\" xlink:href=\"#DejaVuSans-105\"/>\r\n      <use x=\"169.384766\" xlink:href=\"#DejaVuSans-110\"/>\r\n     </g>\r\n    </g>\r\n    <g id=\"patch_15\">\r\n     <path d=\"M 331.085625 53.594687 \r\nL 351.085625 53.594687 \r\nL 351.085625 46.594687 \r\nL 331.085625 46.594687 \r\nz\r\n\" style=\"fill:#ff7f0e;\"/>\r\n    </g>\r\n    <g id=\"text_17\">\r\n     <!-- val -->\r\n     <g transform=\"translate(359.085625 53.594687)scale(0.1 -0.1)\">\r\n      <use xlink:href=\"#DejaVuSans-118\"/>\r\n      <use x=\"59.179688\" xlink:href=\"#DejaVuSans-97\"/>\r\n      <use x=\"120.458984\" xlink:href=\"#DejaVuSans-108\"/>\r\n     </g>\r\n    </g>\r\n   </g>\r\n  </g>\r\n </g>\r\n <defs>\r\n  <clipPath id=\"p144f926790\">\r\n   <rect height=\"266.112\" width=\"357.12\" x=\"34.240625\" y=\"22.318125\"/>\r\n  </clipPath>\r\n </defs>\r\n</svg>\r\n",
      "image/png": "[encoded data removed]"
     },
     "metadata": {}
    }
   ],
   "source": [
    "# Initialisation du TSCV\n",
    "n_iter = 3\n",
    "tscv = TimeSeriesSplit(n_splits=n_iter)\n",
    "\n",
    "# Echantillonnage\n",
    "train_lst = []\n",
    "val_lst = []\n",
    "\n",
    "for train_index, val_index in tscv.split(X):\n",
    "    train_lst.append(train_index[-1])\n",
    "    val_lst.append(val_index[-1] - val_index[0])\n",
    "    \n",
    "    # X_train, X_test = X.iloc[train_index], X.iloc[val_index]\n",
    "    # y_train, y_test = y.iloc[train_index], y.iloc[val_index]\n",
    "\n",
    "train_tpl = tuple(train_lst)\n",
    "val_tpl = tuple(val_lst)\n",
    "\n",
    "# Tracage de l'échantillon\n",
    "ind = np.arange(n_iter) + 1\n",
    "width = 0.35\n",
    "\n",
    "btrain = plt.barh(ind, train_tpl, width)\n",
    "bval = plt.barh(ind, val_tpl, width, left=train_tpl)\n",
    "\n",
    "plt.yticks(ind)\n",
    "plt.gca().invert_yaxis()\n",
    "plt.legend((btrain, bval), (\"train\", \"val\"))\n",
    "plt.title('Echantillonnage cross validation')\n",
    "plt.ylabel('Interaction CV')\n",
    "plt.xlabel('Index')\n",
    "\n",
    "plt.show()"
   ]
  },
  {
   "cell_type": "code",
   "execution_count": 8,
   "metadata": {},
   "outputs": [
    {
     "output_type": "stream",
     "name": "stdout",
     "text": [
      "Fitting 3 folds for each of 4 candidates, totalling 12 fits\n",
      "[Parallel(n_jobs=4)]: Using backend LokyBackend with 4 concurrent workers.\n"
     ]
    }
   ],
   "source": [
    "%%time\n",
    "\n",
    "# param_dist = {\"max_depth\": [25,50, 75],\n",
    "#               \"learning_rate\" : [0.01,0.05,0.1],\n",
    "#               \"num_leaves\": [300,900,1200],\n",
    "#               \"n_estimators\": [200]\n",
    "#              }\n",
    "\n",
    "lg = lgb.LGBMClassifier()\n",
    "param_dist = {\"max_depth\": [10, 25, 50]\n",
    "              }\n",
    "\n",
    "GCV = GridSearchCV(estimator=lg, cv=tscv.split(X), param_grid=param_dist, scoring=\"roc_auc\", verbose=5, n_jobs=4)\n",
    "GCV.fit(X, y)\n",
    "GCV.best_estimator_"
   ]
  },
  {
   "cell_type": "code",
   "execution_count": null,
   "metadata": {},
   "outputs": [],
   "source": [
    "pickle.dump(GCV, "
   ]
  },
  {
   "cell_type": "code",
   "execution_count": null,
   "metadata": {},
   "outputs": [],
   "source": [
    "%%time\n",
    "\n",
    "params = {'objective': 'binary',\n",
    "          'metric': 'auc',\n",
    "          'seed': 2020,\n",
    "          'learning_rate': 0.1, #default\n",
    "          \"boosting_type\": \"gbdt\" #default\n",
    "         }\n",
    "         \n",
    "model = lg.train(\n",
    "    params, lgb_train,\n",
    "    valid_sets=[lgb_train, lgb_eval],\n",
    "    verbose_eval=50,\n",
    "    num_boost_round=10000,\n",
    "    early_stopping_rounds=8\n",
    ")"
   ]
  }
 ]
}